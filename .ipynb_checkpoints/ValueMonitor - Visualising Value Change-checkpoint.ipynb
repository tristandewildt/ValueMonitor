{
 "cells": [
  {
   "cell_type": "markdown",
   "metadata": {},
   "source": [
    "# Visualising value change"
   ]
  },
  {
   "cell_type": "markdown",
   "metadata": {},
   "source": [
    "This notebook can be used to analyse how the occurence of moral values has changed over time in text corpora. As they tend to be discussed in a latent manner, we capture moral values by means of distribution of words instead of keywords. They is done by using probabilistic topic models and creating topics (i.e. distributions of words) that refer to values. A paper discribing the approach and published in Science, Technology, & Human Values can be found here: https://doi.org/10.1177/01622439211054439"
   ]
  },
  {
   "cell_type": "markdown",
   "metadata": {},
   "source": [
    "*To use this notebook yourself, click on 'Run in Google Colab':*"
   ]
  },
  {
   "cell_type": "markdown",
   "metadata": {},
   "source": [
    "<table class=\"tfo-notebook-buttons\" align=\"left\">\n",
    "  <td>\n",
    "    <a target=\"_blank\" href=\"https://colab.research.google.com/github/tristandewildt/ValueMonitor/blob/main/Topic_modelling_for_value_change.ipynb\"><img src=\"https://www.tensorflow.org/images/colab_logo_32px.png\" />Run in Google Colab</a>\n",
    "  </td>\n",
    "  <td>\n",
    "    <a target=\"_blank\" href=\"https://github.com/tristandewildt/ValueMonitor/blob/main/Topic_modelling_for_value_change.ipynb\"><img src=\"https://www.tensorflow.org/images/GitHub-Mark-32px.png\" />View source on GitHub</a>\n",
    "  </td>\n",
    "</table>"
   ]
  },
  {
   "cell_type": "markdown",
   "metadata": {},
   "source": [
    "## 1. Import packages"
   ]
  },
  {
   "cell_type": "markdown",
   "metadata": {},
   "source": [
    "Run the code hereunder to import and install packages required for the analysis."
   ]
  },
  {
   "cell_type": "code",
   "execution_count": 1,
   "metadata": {},
   "outputs": [
    {
     "name": "stdout",
     "output_type": "stream",
     "text": [
      "Requirement already satisfied: corextopic in c:\\anaconda3\\lib\\site-packages (1.1)\n",
      "Requirement already satisfied: joblib in c:\\anaconda3\\lib\\site-packages (1.0.1)\n",
      "Requirement already satisfied: tabulate in c:\\anaconda3\\lib\\site-packages (0.8.9)\n"
     ]
    },
    {
     "name": "stderr",
     "output_type": "stream",
     "text": [
      "'git' is not recognized as an internal or external command,\n",
      "operable program or batch file.\n",
      "[nltk_data] Downloading package punkt to\n",
      "[nltk_data]     C:\\Users\\Trist\\AppData\\Roaming\\nltk_data...\n",
      "[nltk_data]   Package punkt is already up-to-date!\n"
     ]
    }
   ],
   "source": [
    "!pip install corextopic\n",
    "!pip install joblib\n",
    "!pip install tabulate\n",
    "!git clone https://github.com/tristandewildt/ValueMonitor.git\n",
    "\n",
    "import sys\n",
    "import pprint\n",
    "\n",
    "#sys.path.insert(0,'ValueMonitor/code')\n",
    "sys.path.append('./code')\n",
    "\n",
    "from convert_to_df import *\n",
    "from make_topic_model import *\n",
    "from create_visualisation import *\n",
    "from import_topic_model import *\n",
    "\n",
    "%matplotlib inline"
   ]
  },
  {
   "cell_type": "markdown",
   "metadata": {
    "id": "813ejCyOE0iT"
   },
   "source": [
    "## 2. Import and convert the corpus"
   ]
  },
  {
   "cell_type": "markdown",
   "metadata": {},
   "source": [
    "You can use an existing corpus or import your own."
   ]
  },
  {
   "cell_type": "code",
   "execution_count": 2,
   "metadata": {},
   "outputs": [
    {
     "name": "stdout",
     "output_type": "stream",
     "text": [
      "Columns found: ['Authors', 'Author(s) ID', 'Year', 'Source title', 'Cited by', 'DOI', 'Link', 'Abstract', 'Author Keywords', 'Index Keywords']\n",
      "<class 'pandas.core.frame.DataFrame'>\n",
      "RangeIndex: 21731 entries, 0 to 21730\n",
      "Data columns (total 10 columns):\n",
      " #   Column           Non-Null Count  Dtype  \n",
      "---  ------           --------------  -----  \n",
      " 0   Authors          21731 non-null  object \n",
      " 1   Author(s) ID     21731 non-null  object \n",
      " 2   Year             21731 non-null  int64  \n",
      " 3   Source title     21730 non-null  object \n",
      " 4   Cited by         11013 non-null  float64\n",
      " 5   DOI              11273 non-null  object \n",
      " 6   Link             21731 non-null  object \n",
      " 7   Abstract         21731 non-null  object \n",
      " 8   Author Keywords  9248 non-null   object \n",
      " 9   Index Keywords   20183 non-null  object \n",
      "dtypes: float64(1), int64(1), object(8)\n",
      "memory usage: 1.7+ MB\n",
      "None\n"
     ]
    }
   ],
   "source": [
    "#from google.colab import files\n",
    "\n",
    "#corpus = files.upload()\n",
    "#corpus = pd.read_csv('ValueMonitor/data/scopus_nucl_energy.csv')\n",
    "corpus = pd.read_csv('D:\\Github\\ValueMonitor\\data/scopus_nucl_energy.csv')\n",
    "\n",
    "'''--------------------------------------------------------------------------''' \n",
    "\n",
    "show_columns(corpus)\n"
   ]
  },
  {
   "cell_type": "markdown",
   "metadata": {},
   "source": [
    "Then indicate which column you want to use as time indicator (max 1), and which you want to use as  text (can be multiple ones). Make sure the column names are surrounded by quotation marks."
   ]
  },
  {
   "cell_type": "code",
   "execution_count": null,
   "metadata": {},
   "outputs": [],
   "source": [
    "# Then we ask what to select as date and text\n",
    "\n",
    "Time_variable = \"\"\n",
    "Text_variables = [\"\", \"\"]\n"
   ]
  },
  {
   "cell_type": "markdown",
   "metadata": {
    "id": "1gV6wQ2-FMDv"
   },
   "source": [
    "In this step, the input file containing the texts for analysis will be converted to a pandas dataframe. This dataframe will be the data main file that will be used throughout the analysis.\n",
    "\n",
    "Write the name of your input file (**file_name**) hereunder including the extension. E.g. \"scopus_nucl_energy.csv\"\n"
   ]
  },
  {
   "cell_type": "code",
   "execution_count": null,
   "metadata": {},
   "outputs": [],
   "source": []
  },
  {
   "cell_type": "code",
   "execution_count": 7,
   "metadata": {
    "executionInfo": {
     "elapsed": 25748,
     "status": "ok",
     "timestamp": 1626378578018,
     "user": {
      "displayName": "Tristan de Wildt",
      "photoUrl": "",
      "userId": "12635936161789443610"
     },
     "user_tz": -120
    },
    "id": "WvGgvfipGHld"
   },
   "outputs": [],
   "source": [
    "file_name = \"scopus_nucl_energy.csv\"\n",
    "#file_name = \"scopus_energy_policy.csv\"\"\n",
    "#file_name = \"scopus_privacy.csv\"\n",
    "\n",
    "'''--------------------------------------------------------------------------''' \n",
    "\n",
    "df = convert_to_df(file_name)"
   ]
  },
  {
   "cell_type": "markdown",
   "metadata": {
    "id": "EqtK4E3CSnIS"
   },
   "source": [
    "## 4. Creating or importing a topic model"
   ]
  },
  {
   "cell_type": "markdown",
   "metadata": {
    "id": "BrZc5SEz70E6"
   },
   "source": [
    "In this step we can either create a new topic model (4.1) or importing an existing one (4.2)."
   ]
  },
  {
   "cell_type": "markdown",
   "metadata": {
    "id": "2LlfMeZE7qnp"
   },
   "source": [
    "### 4.1. Creating a topic model"
   ]
  },
  {
   "cell_type": "markdown",
   "metadata": {
    "id": "Q5JdHDd4W6hL"
   },
   "source": [
    "In this step, we create the topic model in which some of the topics refer to values. The creation of topics that reflect values is done by means of so-called 'anchor' words."
   ]
  },
  {
   "cell_type": "markdown",
   "metadata": {
    "id": "mgcmijrjXKyh"
   },
   "source": [
    "#### 4.1.1 Finding the most appropriate number of topics"
   ]
  },
  {
   "cell_type": "markdown",
   "metadata": {
    "id": "ZIxeNlDTXLAI"
   },
   "source": [
    "The first step when creating a topic model is to identify the number of topics that the model should be composed of. Ideally, this number of topics should be the same as the actual number of topics that a person would identify if he/she would go through the documents manually. If the number of topics set for the model is too low, it could be that some topics that a person would consider to be the same will ultimatly appear in the same topic in the model. Inversely if the number of topics set for the model is too high.\n",
    "\n",
    "To find the most adequate number of topics, the topic modelling package Corex has created a measure called 'Total correlation'. The higher this value, the better the topic model fits the actual number of topics in the documents.\n",
    "\n",
    "To find the most adequate number of topics, topic models with different number of topics will be tested. To do so, set hereunder the smallest (**min_number_of_topics**) and largest (**max_number_of_topics**) number of topics that you would like to test. Often, the number of topics is lower than 500.\n",
    "\n",
    "Finding the most adequate number of topics can be a time consuming step. This is because the program will have to create a topic model for every number of topics tested. For this reason you might want to take only a sample of documents from the full dataset to find the program find the most adequate number of topic. Setting '**number_of_documents_in_analysis**' to 1000 is probably a reasonable choice."
   ]
  },
  {
   "cell_type": "code",
   "execution_count": 8,
   "metadata": {
    "colab": {
     "base_uri": "https://localhost:8080/",
     "height": 388
    },
    "executionInfo": {
     "elapsed": 542768,
     "status": "ok",
     "timestamp": 1626379192100,
     "user": {
      "displayName": "Tristan de Wildt",
      "photoUrl": "",
      "userId": "12635936161789443610"
     },
     "user_tz": -120
    },
    "id": "ii82fynGSloM",
    "outputId": "56c625b8-140d-4ec6-bb88-e7ae93138707"
   },
   "outputs": [
    {
     "name": "stdout",
     "output_type": "stream",
     "text": [
      "Working on model with 50 topics...\n",
      "Working on model with 87 topics...\n",
      "Working on model with 125 topics...\n",
      "Working on model with 162 topics...\n",
      "Working on model with 200 topics...\n"
     ]
    },
    {
     "data": {
      "image/png": "[encoded data removed]",
      "text/plain": [
       "<Figure size 432x288 with 1 Axes>"
      ]
     },
     "metadata": {
      "needs_background": "light",
      "tags": []
     },
     "output_type": "display_data"
    }
   ],
   "source": [
    "min_number_of_topics = 50\n",
    "max_number_of_topics = 200\n",
    "number_of_documents_in_analysis = 1000\n",
    "\n",
    "'''--------------------------------------------------------------------------''' \n",
    "\n",
    "best_number_of_topics = find_best_number_of_topics(df, number_of_documents_in_analysis, min_number_of_topics, max_number_of_topics)"
   ]
  },
  {
   "cell_type": "markdown",
   "metadata": {
    "id": "DbubP0kCVxRf"
   },
   "source": [
    "#### 4.1.2. Creating a topic model (in which some of the topics refer to values)"
   ]
  },
  {
   "cell_type": "markdown",
   "metadata": {
    "id": "Mfys8sXzVsEh"
   },
   "source": [
    "Now that we have found the most adequate amount of topics for the model, we can start creating a topic model in which some of the topics refer to values. To do so, we need to identify for each value a set of words that relates to it. These are the 'anchor' words\n",
    "\n",
    "Create a list of anchor words for each value that you want to investigate. Put words that you have identified for the first value in **Value 1**, for the second value in **Value 2**, etc. Make sure all words are surrounded by quotation marks. In the code herunder, you may replace \"Value 1\", \"Value 2\"... hereunder by the names of the values (e.g. \"Safety\"). This will ensure that the names of the values will appear in the figures that you will create later in the notebook. Run the code.\n",
    "\n",
    "After some time, a list of topics will appear. Words that you see at each topic are the most prominent words of theses topics. This gives you an indication of what this topic is actually about.\n",
    "\n",
    "The first topics are those related to values that you are building. The first time, you will probably not be entirely satisfied by the quality of the topics refering to values. This can be due to two things. (1) First, it could be that these topics contain words that you believe do not relate to the value. Hence, the topic created is about the value, but also other irrelevant aspects. (2) Second, it could be that other topics also contain words that relate to the values for which you are trying to make topics. Hence, the topic that you created only represents one aspect of the value and other aspects of the value are now yet in this topic.\n",
    "\n",
    "For (1), write down the words that are unrelated to values in the list **list_rejected_words**. This will so to say 'pull out' the words from the topics related to values. You also use the code in 4.2.1 to inspect which documents have been assigned to the topics you are creating. This gives an indication whether the topic that you have created only contain documents that address this value.\n",
    "\n",
    "For (2), you can use the code in 4.2.2. This code will help you to find in which other topics these aspects of the value are found. This might help you to identify additional anchor words that need to be added for each value. Put these additional anchors words in the code hereunder. This will so to say 'push' these aspects of values into the topics related to values. Then run the code again. \n",
    "\n",
    "Typically, the process of pulling and pushing aspects of topics to ensure that they relate better to how a value is understood needs to be done several times. This process is also a learning moment for the modellers to learn about what a value actually entails, and how this value is actually being discussed by authors.\n",
    "\n",
    "*(Also explain that sometimes the topics does not appear if it doesn't find sufficient documents)*"
   ]
  },
  {
   "cell_type": "code",
   "execution_count": 1,
   "metadata": {
    "colab": {
     "base_uri": "https://localhost:8080/"
    },
    "executionInfo": {
     "elapsed": 203570,
     "status": "ok",
     "timestamp": 1626379422615,
     "user": {
      "displayName": "Tristan de Wildt",
      "photoUrl": "",
      "userId": "12635936161789443610"
     },
     "user_tz": -120
    },
    "id": "pB9tQrBBYxd3",
    "outputId": "6e4f793e-5fd9-4566-e79e-6a005584f5d3"
   },
   "outputs": [
    {
     "ename": "NameError",
     "evalue": "name 'make_anchored_topic_model' is not defined",
     "output_type": "error",
     "traceback": [
      "\u001b[1;31m---------------------------------------------------------------------------\u001b[0m",
      "\u001b[1;31mNameError\u001b[0m                                 Traceback (most recent call last)",
      "\u001b[1;32m<ipython-input-1-5911543bf4dc>\u001b[0m in \u001b[0;36m<module>\u001b[1;34m()\u001b[0m\n\u001b[0;32m     16\u001b[0m \u001b[1;34m'''--------------------------------------------------------------------------'''\u001b[0m\u001b[1;33m\u001b[0m\u001b[0m\n\u001b[0;32m     17\u001b[0m \u001b[1;33m\u001b[0m\u001b[0m\n\u001b[1;32m---> 18\u001b[1;33m \u001b[0mmodel_and_vectorized_data\u001b[0m \u001b[1;33m=\u001b[0m \u001b[0mmake_anchored_topic_model\u001b[0m\u001b[1;33m(\u001b[0m\u001b[0mdf\u001b[0m\u001b[1;33m,\u001b[0m \u001b[0mbest_number_of_topics\u001b[0m\u001b[1;33m,\u001b[0m \u001b[0mnumber_of_documents_in_analysis\u001b[0m\u001b[1;33m,\u001b[0m \u001b[0mdict_anchor_words\u001b[0m\u001b[1;33m,\u001b[0m \u001b[0mlist_rejected_words\u001b[0m\u001b[1;33m)\u001b[0m\u001b[1;33m\u001b[0m\u001b[0m\n\u001b[0m\u001b[0;32m     19\u001b[0m \u001b[0mtopics\u001b[0m \u001b[1;33m=\u001b[0m \u001b[0mreport_topics\u001b[0m\u001b[1;33m(\u001b[0m\u001b[0mmodel_and_vectorized_data\u001b[0m\u001b[1;33m[\u001b[0m\u001b[1;36m0\u001b[0m\u001b[1;33m]\u001b[0m\u001b[1;33m,\u001b[0m \u001b[0mdict_anchor_words\u001b[0m\u001b[1;33m,\u001b[0m\u001b[0mnumber_of_words_per_topic\u001b[0m \u001b[1;33m)\u001b[0m\u001b[1;33m\u001b[0m\u001b[0m\n\u001b[0;32m     20\u001b[0m \u001b[0mdf_with_topics\u001b[0m \u001b[1;33m=\u001b[0m \u001b[0mcreate_df_with_topics\u001b[0m\u001b[1;33m(\u001b[0m\u001b[0mdf\u001b[0m\u001b[1;33m,\u001b[0m \u001b[0mmodel_and_vectorized_data\u001b[0m\u001b[1;33m[\u001b[0m\u001b[1;36m0\u001b[0m\u001b[1;33m]\u001b[0m\u001b[1;33m,\u001b[0m \u001b[0mmodel_and_vectorized_data\u001b[0m\u001b[1;33m[\u001b[0m\u001b[1;36m1\u001b[0m\u001b[1;33m]\u001b[0m\u001b[1;33m,\u001b[0m \u001b[0mbest_number_of_topics\u001b[0m\u001b[1;33m)\u001b[0m\u001b[1;33m\u001b[0m\u001b[0m\n",
      "\u001b[1;31mNameError\u001b[0m: name 'make_anchored_topic_model' is not defined"
     ]
    }
   ],
   "source": [
    "number_of_words_per_topic_to_show = 10\n",
    "number_of_words_per_topic = 20\n",
    "\n",
    "dict_anchor_words = {\n",
    "\"Safety\" : [\"safety\", \"accident\"],\n",
    "\"Security\" : [\"security\", \"secure\", \"malicious\", \"proliferation\", \"cybersecurity\", \"cyber\", \"sabotage\", \"antisabotage\", \"terrorism\", \"theft\"],\n",
    "\"Sustainability\" : [\"sustainability\", \"sustainable\", \"renewable\", \"durability\", \"durable\"],        \n",
    "\"Economic viability\" : [\"economic viability\", \"economic\", \"economic potential\", \"costs\", \"cost effective\"],\n",
    "\"Intergenerational justice\" : [\"intergenerational justice\", \"intergenerational equity\", \"intergenerational ethics\", \"intergenerational equality\", \"intergenerational relations\", \"justice\", \"intergenerational\", \"future generations\", \"present generations\", \"past generations\"],\n",
    "}\n",
    "\n",
    "list_rejected_words = []\n",
    "\n",
    "'''--------------------------------------------------------------------------''' \n",
    "\n",
    "model_and_vectorized_data = make_anchored_topic_model(df, best_number_of_topics, number_of_documents_in_analysis, dict_anchor_words, list_rejected_words)\n",
    "topics = report_topics(model_and_vectorized_data[0], dict_anchor_words,number_of_words_per_topic )\n",
    "df_with_topics = create_df_with_topics(df, model_and_vectorized_data[0], model_and_vectorized_data[1], best_number_of_topics)"
   ]
  },
  {
   "cell_type": "markdown",
   "metadata": {
    "id": "XZKsT5NR8_xj"
   },
   "source": [
    "##### 4.1.2.1. Verification of topics related to values\n"
   ]
  },
  {
   "cell_type": "markdown",
   "metadata": {
    "id": "aKviB0R3L-Dy"
   },
   "source": [
    "The code in this section can be used to verify that the documents attributed to a topic are indeed addressing the value in which we are interested. Set the topic number of the topic you want to evaluate at **topic_to_evaluate** and the number of randomly taken documents at **random_number_documents_to_return**."
   ]
  },
  {
   "cell_type": "code",
   "execution_count": 12,
   "metadata": {
    "colab": {
     "base_uri": "https://localhost:8080/",
     "height": 724
    },
    "executionInfo": {
     "elapsed": 331,
     "status": "ok",
     "timestamp": 1626379725633,
     "user": {
      "displayName": "Tristan de Wildt",
      "photoUrl": "",
      "userId": "12635936161789443610"
     },
     "user_tz": -120
    },
    "id": "e--41zK3GSZD",
    "outputId": "20ece7af-1937-4e49-b9fb-b41abf880e63"
   },
   "outputs": [
    {
     "data": {
      "text/html": [
       "<table border=\"1\" class=\"dataframe\">\n",
       "  <thead>\n",
       "    <tr style=\"text-align: center;\">\n",
       "      <th></th>\n",
       "      <th>Random 5 documents in topic Safety.</th>\n",
       "    </tr>\n",
       "  </thead>\n",
       "  <tbody>\n",
       "    <tr>\n",
       "      <th>15093</th>\n",
       "      <td>Debris induced fretting failure analysis Since the commercial operation in 2001 YGN 5 6 has encountered the first fuel failures at each unit after the first new developed fuel PLUS7 was introduced to both units Two fuel failures were determined to come not from the design deficiency of the fuel or fabrication flaw but from the debris induced fretting This paper discusses the analysis of the fuel failures in detail Debris Fuel failure ICI In core instrumentation PLUS7 Secondary hydriding</td>\n",
       "    </tr>\n",
       "    <tr>\n",
       "      <th>12120</th>\n",
       "      <td>Newly available reactor physics benchmark data in the march 2011 edition of the IRPhEP handbook The International Reactor Physics Experiment Evaluation Project IRPhEP was established to preserve integral reactor physics experimental data including separate or special effects data for nuclear energy and technology applications 1 Numerous experiments that have been performed worldwide represent a large investment of infrastructure expertise and cost and are valuable resources of data for present and future research These valuable assets provide the basis for recording development and validation of methods If the experimental data are lost the high cost to repeat many of these measurements may be prohibitive The purpose of the IRPhEP is to provide an extensively peer reviewed set of reactor physics related integral data that can be used by reactor designers and safety analysts to validate the analytical tools used to design next generation reactors and establish the safety basis for operation of these reactors Contributors from around the world collaborate in the evaluation and review of selected benchmark experiments for inclusion in the International Handbook of Evaluated Reactor Physics Benchmark Experiments IRPhEP Handbook 1 Several new evaluations have been prepared for inclusion in the March 2011 edition of the IRPhEP Handbook nan</td>\n",
       "    </tr>\n",
       "    <tr>\n",
       "      <th>2055</th>\n",
       "      <td>Preparation conduct and experimental results of the AVR loss of coolant accident simulation test A loss of coolant accident LOCA is one of the most severe accidents for a nuclear power plant To demonstrate inherent safety characteristics incorporated into small high temperature gas cooled reactor HTGR designs LOCA simulation tests have been conducted at the Arbeitsgemeinschaft Versuchsreaktor AVR the German pebble bed high temperature reactor plant The AVR is the only nuclear power plant ever to have been intentionally subjected to LOCA conditions without emergency cooling The planning and licensing activities including pretest predictions performed for the LOCA test are described and the conduct of the test and experimental results are presented The LOCA test was planned to create conditions that would exist if a rapid LOCA occurred with the reactor operating at full power The test demonstrated this reactor s safe response to an accident in which the coolant escapes from the reactor core and no emergency system is available to provide coolant flow to the core The test is of special interest because it demonstrates the inherent safety features incorporated into optimized modular HTGR designs The main LOCA test lasted for 5 days After the test began core temperatures increased for approximately 13 h and then gradually and continually decreased as the rate of heat dissipation from the core exceeded the simulated decay power Throughout the test temperatures remained below limiting values for the core and other reactor components nan</td>\n",
       "    </tr>\n",
       "    <tr>\n",
       "      <th>13914</th>\n",
       "      <td>Numerical investigation of a stable stratification in a model containment eroded by a vertical jet This work contributes to the long term goal to develop multidimensional models for an accurate and efficient simulation of nuclear power plant containment flows The flow and distribution of air steam and hydrogen in the containment of nuclear power plants in case of an accident can be simulated numerically using Computational Fluid Dynamics based on the Reynolds Averaged Navier Stokes Equations RANS However turbulence model development and validation have to be performed carefully Here validation is based on experimental data obtained in the German THAI facility In the series of the TH 20 experiments an isothermal vertical jet erodes the stratification layer between a light gas helium cloud in the upper containment and the air below by the promotion of turbulence mixing For our simulation using the Reynolds Averaged Navier Stokes Equations an advanced non isotropic turbulence model Turbulence Scalar Flux Model RANS TSF is tested in its original version and is then improved As the numerical test bed Ansys CFX 11 is used In order to gain physical insight into the details of the erosion process a Large Eddy Simulation of a representative test geometry is performed first and then used as a reference It is found that large oscillations of the vertical velocity together with significant tilting of the stratification layer occur These processes promote significantly the mixing in the area of high gas concentration gradients in the vicinity of a hood shaped region overhead the vertical jet They are taken into account in the new improved version of the RANS TSF model primarily by an enhanced weighting of the buoyancy production term The computations using the improved RANS TSF model predict the erosion observed in the TH 20 experiments in much better agreement than computations with the original version of the TSF model or with the often used two equation and RSM models which tend to under predict such mixing intensity nan</td>\n",
       "    </tr>\n",
       "    <tr>\n",
       "      <th>20981</th>\n",
       "      <td>Development of a coupled neutronics and thermal hydraulics code with an advanced spatial mapping model Multi physics coupling schemes between 3D transport and sub channel thermal hydraulic are needed to improve the design methodologies and the prediction of local safety margins for both LWR and innovative reactors In this paper the coupling of a sub channel analysis code COBRA IIIC MIT2 and an in house developed neutronics code MOCHA_2D1D has been developed and a spatial mapping model based on the function fitting method has been embedded in the coupling scheme To validate the coupled code a PWR 3x3 mini assembly problem was tested and compared with a coupled code MCNP5 SUBCHANFLOW developed by KIT Meanwhile the prediction of the pins power of a Qinshan Phase I NPP 15x15 PWR fuel assembly problem was carried out All the simulations were found to have converged for an acceptable number The comparison of the results shows a good agreement and the prediction of the power distribution as expected The relaxation parameter has been discussed in this paper and an appropriate value has been selected Further application of the coupled code will be carried out on the HPC for full core simulation and the transient coupled scheme will be developed in next stage Copyright 2018 2019 by JSME Coupled codes Fitting method Pin power prediction Relaxation parameter Spatial mapping</td>\n",
       "    </tr>\n",
       "  </tbody>\n",
       "</table>"
      ],
      "text/plain": [
       "<IPython.core.display.HTML object>"
      ]
     },
     "metadata": {
      "tags": []
     },
     "output_type": "display_data"
    }
   ],
   "source": [
    "topic_to_evaluate = \"Safety\"\n",
    "random_number_documents_to_return = 5\n",
    "\n",
    "'''--------------------------------------------------------------------------'''\n",
    "\n",
    "print_sample_documents_related_to_topic(df_with_topics, dict_anchor_words, topic_to_evaluate, random_number_documents_to_return)"
   ]
  },
  {
   "cell_type": "markdown",
   "metadata": {
    "id": "4-v4WmSaNK2k"
   },
   "source": [
    "Here you can also look for specific keywords, for example if you are unsure if one anchor word is responsible for pulling aspects that are not related to the value in the topic. Put these keywords in **list_of_words**."
   ]
  },
  {
   "cell_type": "code",
   "execution_count": 14,
   "metadata": {
    "colab": {
     "base_uri": "https://localhost:8080/",
     "height": 1000
    },
    "executionInfo": {
     "elapsed": 314,
     "status": "ok",
     "timestamp": 1626379741538,
     "user": {
      "displayName": "Tristan de Wildt",
      "photoUrl": "",
      "userId": "12635936161789443610"
     },
     "user_tz": -120
    },
    "id": "_AmMLP66QQra",
    "outputId": "32f451f3-22aa-4c96-8a02-c1c946a287f7"
   },
   "outputs": [
    {
     "data": {
      "text/html": [
       "<table border=\"1\" class=\"dataframe\">\n",
       "  <thead>\n",
       "    <tr style=\"text-align: center;\">\n",
       "      <th></th>\n",
       "      <th>Random 10 documents in topic Safety with keywords 'safe.</th>\n",
       "    </tr>\n",
       "  </thead>\n",
       "  <tbody>\n",
       "    <tr>\n",
       "      <th>19641</th>\n",
       "      <td>Research on nuclear power plant safety functional requirements analysis and function allocation This paper researched the safety functional requirements analysis and the allocation of functions between man and machine for the nuclear power plant The safety functional requirements are identified from accident handling needs and refined from system configuration consideration Through the analysis of design conditions some safety features were extracted to mitigate accidents Then components e g pumps valves tanks were determined to implement each of the safety features at the system design stage At this stage some implicit safety features which could not be obtained directly from the accident analysis were added according to the specific conditions of system configuration and operation Finally after further judgement on possible inconsistency a complete list of safety functions for the nuclear power plant was formed As an illustration this paper provided a list of safety functions related to the safety injection function and a list of equipment for the safety injection system Furthermore these identified safety functions were appropriately allocated between man and machine to be performed either by system components automatically or by operators locally or remotely from the control room or under the cooperation of operators and system components Seven factors were considered in the allocation a performance requirements b the capability or limits of man and machine c existing practices d operating experience e management requirement f technical feasibility g cost The allocation of functions for the safety injection system was validated using a simulator Copyright 2018 ASME nan</td>\n",
       "    </tr>\n",
       "    <tr>\n",
       "      <th>20820</th>\n",
       "      <td>Study on loss of cooling and loss of coolant accidents in spent fuel pool 4 investigation of fuel loading effects in BWR spent fuel rack In this study fuel loading effects in BWR spent fuel rack accidents are widely investigated using three dimensional analysis methods from both nuclear and thermal hydraulics viewpoints including a Decay heat of spent fuel after discharge b The maximum temperature of spent fuel cladding in the spent fuel rack depending on heat transfer phenomena and c Criticality of the spent fuel rack after collapsing of the fuel due to a severe accidents in the BWR spent fuel pool SFP For task a a 1 3 MOX equilibrium BWR5 core was designed using the three dimensional coupled nuclear thermal hydraulic core simulator AETNA Iwamoto et al 2003 Accurate nodal decay heat profiles of all fuel in this core were then evaluated using the modified lattice code LANCR Azekura et al 2003 accounting for the nodal power and void fraction histories through the fuel s life from its first cycle of operation through its discharge cycle Based on these profiles moderately conservative discharge cooling time dependent decay heat curves of typical BWR fuels were proposed These curves were adopted in the tasks that follow For task b three dimensional heat transfer effects of a single fuel rack geometry surrounded on four sides by rack rack air gaps with symmetrical boundaries were evaluated to calculate maximum fuel temperatures in a steady state system These studies included a large number of fuel loading patterns and water level conditions Fuel temperature distributions were also calculated considering three dimensional heat transfer and thermal hydraulic effects in the operating floor of the BWR reactor building using a CFD code under representative fuel loading patterns and water levels For task c criticality calculations for a BWR spent fuel rack after collapsing of the fuel due to the severe accidents were performed for a variety fuel loading patterns using both the continuous energy Monte Carlo code MCNP X 5 Monte Carlo Team 2003 and the diffusion code AETNA Based on the results from these evaluations a discussion on the essential elements to consider when developing safer fuel loading patterns in BWR spent fuel pool based is provided Copyright 2018 2019 by JSME BWR spent fuel pool SFP Criticality Decay heat Fuel loading pattern Heat transfer</td>\n",
       "    </tr>\n",
       "    <tr>\n",
       "      <th>11011</th>\n",
       "      <td>Toward mechanistic understanding of nuclear reprocessing chemistries by quantifying lanthanide solvent extraction kinetics via microfluidics with constant interfacial area and rapid mixing The closing of the nuclear fuel cycle is an unsolved problem of great importance Separating radionuclides produced in a nuclear reactor is useful both for the storage of nuclear waste and for recycling of nuclear fuel These separations can be performed by designing appropriate chelation chemistries and liquid liquid extraction schemes such as in the TALSPEAK process Trivalent Actinide Lanthanide Separation by Phosphorus reagent Extraction from Aqueous Komplexes However there are no approved methods for the industrial scale reprocessing of civilian nuclear fuel in the United States One bottleneck in the design of next generation solvent extraction based nuclear fuel reprocessing schemes is a lack of interfacial mass transfer rate constants obtained under well controlled conditions for lanthanide and actinide ligand complexes such rate constants are a prerequisite for mechanistic understanding of the extraction chemistries involved and are of great assistance in the design of new chemistries In addition rate constants obtained under conditions of known interfacial area have immediate practical utility in models required for the scaling up of laboratory scale demonstrations to industrial scale solutions Existing experimental techniques for determining these rate constants suffer from two key drawbacks either slow mixing or unknown interfacial area The volume of waste produced by traditional methods is an additional practical concern in experiments involving radioactive elements both from disposal cost and experimenter safety standpoints In this paper we test a plug based microfluidic system that uses flowing plugs droplets in microfluidic channels to determine absolute interfacial mass transfer rate constants under conditions of both rapid mixing and controlled interfacial area We utilize this system to determine for the first time the rate constants for interfacial transfer of all lanthanides minus promethium plus yttrium under TALSPEAK process conditions as a first step toward testing the molecular mechanism of this separation process 2011 American Chemical Society nan</td>\n",
       "    </tr>\n",
       "    <tr>\n",
       "      <th>18497</th>\n",
       "      <td>The ultimate response guideline simulation and analysis by using RELAP5 SNAP for Lungmen ABWR nuclear power plant under Fukushima like condition In this research the RELAP5 SNAP model of Lungmen ABWR nuclear power plant NPP was established for the study of URG ultimate response guideline The depressurization low pressure water injection of the reactor and the venting of containment are the main actions of URG This research focuses to assess the URG utility of Lunemgn NPP under Fukushima like conditions There are two steps in this study The first step is the establishment of Lungmen NPP RELAP5 SNAP model using the system and operating data startup tests reports and FSAR of Lungmen NPP The second step is the URG simulation and analysis under Fukushima like conditions by using the above RELAP5 SNAP model In this step the no URG case was also performed to evaluate the URG effectiveness of Lungmen NPP According to RELAP5 results the URG can keep the peak cladding temperature PCT below the failure criteria 1088 7 K under Fukushima like conditions It indicates that Lungmen NPP can be controlled in a safe situation nan</td>\n",
       "    </tr>\n",
       "    <tr>\n",
       "      <th>4552</th>\n",
       "      <td>Use of International Criticality Safety Benchmark Evaluation Project benchmarks for the validation of CSAS26 scale 4 4a for configurations of low enriched uranium As an example of the application of the International Criticality Safety Benchmark Evaluation Project ICSBEP work to the nuclear industry the validation of the control module CSAS26 of SCALE 4 4a for criticality calculations on a personal computer platform is presented This work has been done using the models of critical experiments being compiled by the Organisation for Economic Co operation and Development Nuclear Energy Agency OECD NEA since 1992 The description and results of this compilation were first presented during the Fifth International Conference on Nuclear Criticality Safety ICNC 95 Out of 2881 critical configurations included in the latest edition September 2002 of the ICSBEP International Handbook of Evaluated Criticality Safety Benchmark Experiments NEA NSC DOC 95 03 OECD NEA 131 have been selected for the CSAS26 validation The selected critical experiments have characteristics similar to the systems to be simulated with CSAS26 for low enriched uranium LEU fuel fabrication applications They represent both homogeneous configurations and hexagonally pitched rod lattices of low enriched from 1 60 to 5 00 wt 235U UO2 with several absorbers The statistical uncertainties related to the application of CSAS26 for criticality calculations are also evaluated The great number of cases involved allows an exhaustive statistical treatment of the data including the analysis of correlations related to the type of system being simulated The statistical uncertainties found are very small As a result the module CSAS26 is considered as a quite suitable calculational method for application to criticality safety analysis at LEU facilities nan</td>\n",
       "    </tr>\n",
       "    <tr>\n",
       "      <th>17268</th>\n",
       "      <td>Phased array ultrasonic inspection technique for cast austenitic stainless steel parts of nuclear power plants For safety operation of nuclear power plants soundness assurance of structures has been strongly required In order to evaluate properties of inner defects at plant structures quantitatively non destructive inspection using ultrasonic testing UT has performed an important role for plant maintenances At nuclear power plants there are many structures made of cast austenitic stainless steel e g casings valve gages pipes and so on However UT has not achieved enough accuracy measurement at cast stainless steels due to the noise from large grains In order to overcome the problem we have developed comprehensively analyzable phased array ultrasonic testing PAUT system We have been noticing that dependency of echo intensity from defect is different from grain noises when PAUT conditions for example ultrasonic incident angles and focal depths were continuously changed Analyzing the tendency of echoes from comprehensive PAUT conditions defect echoes could be distinguished from the noises Meanwhile in order to minimize the inspection time on site we have developed the algorithms and the full matrix capture FMC data acquisition system In this paper the authors confirmed the detectability of the PAUT system applying cast austenitic stainless steel 316 stainless steel specimens which have sand blasted surface and 3 slits which made by electric discharge machining EDM Copyright 2016 by ASME nan</td>\n",
       "    </tr>\n",
       "    <tr>\n",
       "      <th>21680</th>\n",
       "      <td>Module layout optimization using a genetic algorithm in light water modular nuclear reactor power plants The Small Modular Reactor SMR concept is designed such that it will solve some of the construction problems of large reactors SMRs are designed to be shop fabricated and then transported as modules to the sites for installation IAEA 2018 As a consequence they theoretically have shorter build schedules and require less capital investment Locatelli et al 2014 Factory built modules can also increase safety and productivity due to higher quality tools and inspection available A literature review has highlighted substantial work has been undertaken in the research development and construction of different types of reactors and reactor modules but the design of balance of plant modules has not been extensively researched Wrigley et al 2018 The focus of this paper is a case study for balance of plant modules in a light water reactor which also could have applications to other reactor types Modules that are designed for factory build and transport may be built in a standardized module approach By maximizing module size for transport this maximizes work offsite to achieve the cost and schedule savings associated A design method needs to be developed to help support this approach To enable this a three step method is proposed group components into modules layout the modules and arrange components inside the modules The Shearon Harris nuclear power plant was chosen for its publically available data A previous study on this plant used matrix reordering techniques to group components and heuristically assign them to large modules built for construction in an assembly area on site highlighting a potential capital cost savings of 15 This paper utilizes the same allocation of components to modules as the previous study but aims to undertake the challenge of how balance of plant modules should be arranged The literature review highlighted that although the facility and plant layout problem has been extensively researched mathematical layout optimization has not been applied to nuclear power plants Many techniques for layout optimization have been developed for facilities and process plants however The work in this paper develops an optimization model using a genetic algorithm for module layout and allocation within a nuclear power plant This paper analysed two configurations of modules where balance of plant modules are located on either one or two sides of the nuclear island The objective function was to minimise pipe length In the original research where the plant was configured for assembly on site the balance of plant modules are located around three sides of the nuclear island The objective function was calculated at 14 914 As the distances are calculated rectilinearly this number would be higher in reality as pipework has to be routed around containment The optimization reduced the objective function by 33 9 and 37 8 for the three and four floor layouts respectively when balance of plant modules are located on two sides of the nuclear island Furthermore when modules are located on one side of the nuclear island the objective function was reduced by 45 4 and 46 1 for three and four floor layouts respectively This will reduce materials used reduce build time and hence reduce the cost of a nuclear power plant This method will also save design time when developing the layout of modules around the plant 2018 Balance of plant Genetic algorithm Layout optimization Small modular nuclear reactor</td>\n",
       "    </tr>\n",
       "    <tr>\n",
       "      <th>3552</th>\n",
       "      <td>The American scene The growing interest in the use of nuclear power to help solve America s energy problems was investigated Recommendations were made which outlined a strategy to increase the supply of affordable energy and deliver it to the consumer in a safe reliable and environmentally responsible manner The environmental advantages of using nuclear power were studied and it was understood that without the nuclear power most clean air act standards in areas with large concentrated populations would not be met The regulatory environment for nuclear power companies has improved in the areas of operating safety and efficiency making them safer nan</td>\n",
       "    </tr>\n",
       "    <tr>\n",
       "      <th>20583</th>\n",
       "      <td>Area ratio method via linear combination of the neutron counts in pulsed neutron experiment The accurate measurement method for subcriticality is key issue on R D of Accelerator Driven System ADS from viewpoint of critical safety The area ratio method using a pulsed neutron source PNS can measure the absolute value of the subcriticality in dollar unit and be expected as a practical subcriticality monitoring method However although the subcriticality is unique for the system the measurement result with this method depends on the position of the detector due to the spatial higher order mode effect In this study we proposed the linear combination method LCM which reduces the spatial higher order mode effect in the alpha fitting method The main object of this study is to theoretically derive the equivalence between the subcriticality in dollar unit and the area ratio of the neutron counts combined by the combination coefficients obtained by the linear combination method in alpha fitting method and to verify this theory through a Monte Carlo simulation In a point reactor approximation the area ratio which is the ratio of the prompt neutron component to the delayed neutron component of the neutron count equals to the subcriticality in dollar unit However since both the prompt and delayed neutron component contain the spatial higher order mode terms the measured result depends on the detector position The LCM in the alpha fitting method extracts a single time exponential function corresponding to the fundamental mode by the linear combination of the time evolutions of the neutron counts obtained by the multiple detectors The higher order mode terms are reduced by not temporal decay but the linear combination thus the combination coefficients by LCM are expected to reduce the higher order mode terms of both the prompt and delayed neutron component In this study we derive the formula which describes the equivalence between the area ratio via LCM and the subcriticality in dollar unit As the verification we applied the LCM to the Monte Carlo simulation of the PNS method on a one dimensional one region infinite slab problem Copyright 2018 2019 by JSME Area ratio Higher order mode Linear combination Pulsed neutron source method Subcriticality measurement</td>\n",
       "    </tr>\n",
       "    <tr>\n",
       "      <th>7762</th>\n",
       "      <td>Deriving human resource requirements for new nuclear plants For those contemplating the deployment of a new nuclear plant critical issues include the development of the operational staff and its organization This paper will discuss the key elements of deriving an appropriate staffplan for steady state operations There are five areas that must be analyzed and each area has unique requirements These key areas are 1 Operations 2 Engineering 3 Maintenance 4 Regulatory Oversight and 5 Site Support After the analysis for each area is complete and the human resource requirements are identified an organizational structure must be developed to support the necessary management potential centralization and appropriate functional alignments for effective and safe plant operation The Operations area includes the operations chemistry and radiation protection including non fuel radioactive waste processing and fire protection activities critical to both nuclear and personnel safety The Engineering area includes the technical support that will be relied upon both by operations and maintenance personnel and includes systems engineering mechanical engineering electrical engineering instrumentation and controls engineering civil structural engineering computer engineering reactor engineering and technical engineering activities The Maintenance area includes the standard nuclear maintenance disciplines as well as maintenance support activities and facilities or non power block maintenance The Regulatory Oversight area includes quality assurance licensing regulatory affairs emergency planning nuclear safety review human performance corrective action programs and operating experience and plant security The Site Support area include the business applications common to any large scale activity specifically information technology management human resources management site and executive management document control training finance accounting and document control Once each area s staffing requirements have been analyzed a process is needed for designing an appropriate organization This paper also includes four organizational design principles and shows how they can be implemented using specific examples nan</td>\n",
       "    </tr>\n",
       "  </tbody>\n",
       "</table>"
      ],
      "text/plain": [
       "<IPython.core.display.HTML object>"
      ]
     },
     "metadata": {
      "tags": []
     },
     "output_type": "display_data"
    }
   ],
   "source": [
    "topic_to_evaluate = \"Safety\"\n",
    "list_of_words = [\"safe\"]\n",
    "random_number_documents_to_return = 10\n",
    "\n",
    "'''--------------------------------------------------------------------------'''\n",
    "\n",
    "print_sample_documents_related_to_topic_with_keywords(df_with_topics, dict_anchor_words, list_of_words, topic_to_evaluate, random_number_documents_to_return)"
   ]
  },
  {
   "cell_type": "markdown",
   "metadata": {
    "id": "qO6wh9EIKu5R"
   },
   "source": [
    "##### 4.1.2.2. Verification of other topics which might contain aspects of a value"
   ]
  },
  {
   "cell_type": "markdown",
   "metadata": {
    "id": "dc3qRv_1GRVO"
   },
   "source": [
    "To verify if other topics contain aspects of the values in which we are interested, we can try to evaluate if there are any documents that contain words related to a topic but were not assigned to the topic. Set the topic number corresponding to the value at **topic_to_evaluate**, and words that relate to the value in **list_of_words**. Running the code hereunder will show you to which topics documents mentionning these keywords were found."
   ]
  },
  {
   "cell_type": "code",
   "execution_count": 17,
   "metadata": {
    "colab": {
     "base_uri": "https://localhost:8080/",
     "height": 1000
    },
    "executionInfo": {
     "elapsed": 10511,
     "status": "ok",
     "timestamp": 1626379804036,
     "user": {
      "displayName": "Tristan de Wildt",
      "photoUrl": "",
      "userId": "12635936161789443610"
     },
     "user_tz": -120
    },
    "id": "ZEurqLckF91m",
    "outputId": "2c2067ce-d96f-48d9-ed67-da1873c00516"
   },
   "outputs": [
    {
     "name": "stdout",
     "output_type": "stream",
     "text": [
      "789 documents found that contains words in the list and have not been attributed to the topic of interest.\n"
     ]
    },
    {
     "data": {
      "text/html": [
       "<table border=\"1\" class=\"dataframe\">\n",
       "  <thead>\n",
       "    <tr style=\"text-align: center;\">\n",
       "      <th></th>\n",
       "      <th>Topics</th>\n",
       "      <th>Number of documents found in each topic with keywords 'safe' which have not been assigned to topic Safety.</th>\n",
       "    </tr>\n",
       "  </thead>\n",
       "  <tbody>\n",
       "    <tr>\n",
       "      <th>100</th>\n",
       "      <td>Topic #100: of nuclear, protection, the nuclear, safe, measures, actions, from nuclear, acceptance, 2030, scenario</td>\n",
       "      <td>588.0</td>\n",
       "    </tr>\n",
       "    <tr>\n",
       "      <th>156</th>\n",
       "      <td>Topic #156: an, of an, is an, with an, as an, in an, and an, to an, by an, on an</td>\n",
       "      <td>393.0</td>\n",
       "    </tr>\n",
       "    <tr>\n",
       "      <th>109</th>\n",
       "      <td>Topic #109: from, from the, this is, include the, often, prevention, coming, arising, leakage, mean</td>\n",
       "      <td>365.0</td>\n",
       "    </tr>\n",
       "    <tr>\n",
       "      <th>77</th>\n",
       "      <td>Topic #77: be, to be, will be, will, must be, must, be the, have to, will have, adequately</td>\n",
       "      <td>341.0</td>\n",
       "    </tr>\n",
       "    <tr>\n",
       "      <th>105</th>\n",
       "      <td>Topic #105: at, at the, at nuclear, at an, at least, at low, 25, cold, 000, hot</td>\n",
       "      <td>339.0</td>\n",
       "    </tr>\n",
       "    <tr>\n",
       "      <th>168</th>\n",
       "      <td>Topic #168: it, it is, and it, it has, it will, concluded that, that it, as it, is important, important to</td>\n",
       "      <td>326.0</td>\n",
       "    </tr>\n",
       "    <tr>\n",
       "      <th>188</th>\n",
       "      <td>Topic #188: such, such as, develop, to provide, to develop, provide, integration, of such, requires, etc</td>\n",
       "      <td>318.0</td>\n",
       "    </tr>\n",
       "    <tr>\n",
       "      <th>121</th>\n",
       "      <td>Topic #121: paper, this paper, the paper, paper presents, paper describes, presents, paper is, describes, paper the, describes the</td>\n",
       "      <td>302.0</td>\n",
       "    </tr>\n",
       "    <tr>\n",
       "      <th>111</th>\n",
       "      <td>Topic #111: nuclear power, power, power plant, power plants, plants, plant, npp, in nuclear, the plant, plants the</td>\n",
       "      <td>297.0</td>\n",
       "    </tr>\n",
       "    <tr>\n",
       "      <th>143</th>\n",
       "      <td>Topic #143: can, can be, that can, it can, which can, and can, can provide, top, direction, internal</td>\n",
       "      <td>293.0</td>\n",
       "    </tr>\n",
       "    <tr>\n",
       "      <th>73</th>\n",
       "      <td>Topic #73: these, of these, required, required to, for these, on these, include, in these, the required, required for</td>\n",
       "      <td>281.0</td>\n",
       "    </tr>\n",
       "    <tr>\n",
       "      <th>180</th>\n",
       "      <td>Topic #180: development, development of, the development, and development, united, development and, the united, united states, department of, department</td>\n",
       "      <td>272.0</td>\n",
       "    </tr>\n",
       "    <tr>\n",
       "      <th>75</th>\n",
       "      <td>Topic #75: operation, operation of, operation and, set, following, the following, set of, operation in, the operation, set up</td>\n",
       "      <td>263.0</td>\n",
       "    </tr>\n",
       "    <tr>\n",
       "      <th>5</th>\n",
       "      <td>Topic #5: based, based on, method, accuracy, method is, is based, method for, method of, this method, accuracy of</td>\n",
       "      <td>255.0</td>\n",
       "    </tr>\n",
       "    <tr>\n",
       "      <th>95</th>\n",
       "      <td>Topic #95: fuel, fuel cycle, nuclear fuel, cycle, spent, the fuel, fuel and, of fuel, spent fuel, and fuel</td>\n",
       "      <td>249.0</td>\n",
       "    </tr>\n",
       "    <tr>\n",
       "      <th>44</th>\n",
       "      <td>Topic #44: future, next, the future, the next, needs, waste, repository, energy needs, for future, next generation</td>\n",
       "      <td>239.0</td>\n",
       "    </tr>\n",
       "    <tr>\n",
       "      <th>115</th>\n",
       "      <td>Topic #115: been, has been, have been, has, have, been performed, been proposed, been conducted, handling, pressures</td>\n",
       "      <td>239.0</td>\n",
       "    </tr>\n",
       "    <tr>\n",
       "      <th>14</th>\n",
       "      <td>Topic #14: system, the system, system is, system the, system in, system for, system and, cooling system, energy system, safety system</td>\n",
       "      <td>235.0</td>\n",
       "    </tr>\n",
       "    <tr>\n",
       "      <th>147</th>\n",
       "      <td>Topic #147: also, is also, are also, also be, and also, will also, it also, were also, also the, we also</td>\n",
       "      <td>223.0</td>\n",
       "    </tr>\n",
       "    <tr>\n",
       "      <th>89</th>\n",
       "      <td>Topic #89: new, of new, the new, new nuclear, and new, for new, throughout the, throughout, projects, nuclear plants</td>\n",
       "      <td>222.0</td>\n",
       "    </tr>\n",
       "    <tr>\n",
       "      <th>1</th>\n",
       "      <td>Topic #1 (Security): security, proliferation, industry, nuclear industry, energy security, power industry, non proliferation, weapons, technologies, nuclear weapons</td>\n",
       "      <td>219.0</td>\n",
       "    </tr>\n",
       "    <tr>\n",
       "      <th>32</th>\n",
       "      <td>Topic #32: reactor, core, the reactor, the core, cooled, nuclear reactor, reactor core, reactor the, coolant, of reactor</td>\n",
       "      <td>207.0</td>\n",
       "    </tr>\n",
       "    <tr>\n",
       "      <th>53</th>\n",
       "      <td>Topic #53: used, used to, be used, used in, used for, is used, used as, are used, was used, widely used</td>\n",
       "      <td>202.0</td>\n",
       "    </tr>\n",
       "    <tr>\n",
       "      <th>2</th>\n",
       "      <td>Topic #2 (Sustainability): renewable, sustainable, electricity, sustainability, energy, fossil, nuclear energy, coal, of electricity, supply</td>\n",
       "      <td>192.0</td>\n",
       "    </tr>\n",
       "    <tr>\n",
       "      <th>119</th>\n",
       "      <td>Topic #119: not, is not, can not, not only, are not, not be, do not, but also, will not, do</td>\n",
       "      <td>191.0</td>\n",
       "    </tr>\n",
       "    <tr>\n",
       "      <th>172</th>\n",
       "      <td>Topic #172: design, the design, design and, design of, design for, design basis, reactor design, system design, preliminary, design the</td>\n",
       "      <td>188.0</td>\n",
       "    </tr>\n",
       "    <tr>\n",
       "      <th>135</th>\n",
       "      <td>Topic #135: there, there is, there are, some of, some, maintenance, the early, early, additional, and maintenance</td>\n",
       "      <td>182.0</td>\n",
       "    </tr>\n",
       "    <tr>\n",
       "      <th>61</th>\n",
       "      <td>Topic #61: national, public, the national, government, the public, is now, year, started, and will, now</td>\n",
       "      <td>180.0</td>\n",
       "    </tr>\n",
       "    <tr>\n",
       "      <th>134</th>\n",
       "      <td>Topic #134: over, over the, years, major, the major, demonstrate, to demonstrate, lack of, lack, years the</td>\n",
       "      <td>177.0</td>\n",
       "    </tr>\n",
       "    <tr>\n",
       "      <th>79</th>\n",
       "      <td>Topic #79: number, number of, reduce, components, to reduce, identify, to identify, reduce the, consistent, consistent with</td>\n",
       "      <td>176.0</td>\n",
       "    </tr>\n",
       "    <tr>\n",
       "      <th>153</th>\n",
       "      <td>Topic #153: control, proposed, the proposed, and control, is proposed, the control, proposed for, instrumentation, monitoring, control of</td>\n",
       "      <td>176.0</td>\n",
       "    </tr>\n",
       "    <tr>\n",
       "      <th>128</th>\n",
       "      <td>Topic #128: analysis, analysis of, the analysis, calculation, analysis and, the calculation, and analysis, analysis the, calculation of, analysis is</td>\n",
       "      <td>174.0</td>\n",
       "    </tr>\n",
       "    <tr>\n",
       "      <th>136</th>\n",
       "      <td>Topic #136: use, use of, the use, use in, for use, use the, energy use, to use, acceptable, re</td>\n",
       "      <td>173.0</td>\n",
       "    </tr>\n",
       "    <tr>\n",
       "      <th>91</th>\n",
       "      <td>Topic #91: designed, addition, in addition, designed to, inside the, consists, inside, consists of, to simulate, simulate</td>\n",
       "      <td>172.0</td>\n",
       "    </tr>\n",
       "    <tr>\n",
       "      <th>181</th>\n",
       "      <td>Topic #181: materials, range, range of, tests, material, materials in, specimens, of materials, the range, energy range</td>\n",
       "      <td>171.0</td>\n",
       "    </tr>\n",
       "    <tr>\n",
       "      <th>69</th>\n",
       "      <td>Topic #69: applied, application, applied to, application of, process, process of, the process, the application, is applied, was applied</td>\n",
       "      <td>170.0</td>\n",
       "    </tr>\n",
       "    <tr>\n",
       "      <th>9</th>\n",
       "      <td>Topic #9: results, the results, results of, results are, these results, results from, results and, results in, results the, cases</td>\n",
       "      <td>170.0</td>\n",
       "    </tr>\n",
       "    <tr>\n",
       "      <th>28</th>\n",
       "      <td>Topic #28: one of, most, one, the most, is one, needed, most important, most of, needed to, is needed</td>\n",
       "      <td>168.0</td>\n",
       "    </tr>\n",
       "    <tr>\n",
       "      <th>62</th>\n",
       "      <td>Topic #62: approach, objective, an important, npps, the objective, approach to, important, objective of, plants npps, information</td>\n",
       "      <td>167.0</td>\n",
       "    </tr>\n",
       "    <tr>\n",
       "      <th>23</th>\n",
       "      <td>Topic #23: due, due to, out, carried, carried out, evaluate, to evaluate, evaluate the, were carried, estimate</td>\n",
       "      <td>167.0</td>\n",
       "    </tr>\n",
       "    <tr>\n",
       "      <th>99</th>\n",
       "      <td>Topic #99: low, carbon, while, while the, 10, of 10, lower, low carbon, the low, and low</td>\n",
       "      <td>166.0</td>\n",
       "    </tr>\n",
       "    <tr>\n",
       "      <th>78</th>\n",
       "      <td>Topic #78: developed, been developed, developed by, developed to, developed and, was developed, developed for, developed in, is developed, were developed</td>\n",
       "      <td>164.0</td>\n",
       "    </tr>\n",
       "    <tr>\n",
       "      <th>155</th>\n",
       "      <td>Topic #155: potential, the potential, the total, total, could, could be, reduction, advantages, reduction of, potential for</td>\n",
       "      <td>163.0</td>\n",
       "    </tr>\n",
       "    <tr>\n",
       "      <th>131</th>\n",
       "      <td>Topic #131: the main, main, basis, implementation, the basis, basis of, implementation of, basis for, the implementation, focus on</td>\n",
       "      <td>162.0</td>\n",
       "    </tr>\n",
       "    <tr>\n",
       "      <th>33</th>\n",
       "      <td>Topic #33: technology, nuclear technology, technology and, kind of, kind, and technology, reactor technology, technology the, science and</td>\n",
       "      <td>160.0</td>\n",
       "    </tr>\n",
       "    <tr>\n",
       "      <th>130</th>\n",
       "      <td>Topic #130: uranium, fission, of uranium, actinides, actinide, the fission, enrichment, transmutation, minor, thorium</td>\n",
       "      <td>158.0</td>\n",
       "    </tr>\n",
       "    <tr>\n",
       "      <th>159</th>\n",
       "      <td>Topic #159: international, agency, energy agency, the international, iaea, the iaea, countries, cooperation, an international, nea</td>\n",
       "      <td>158.0</td>\n",
       "    </tr>\n",
       "    <tr>\n",
       "      <th>193</th>\n",
       "      <td>Topic #193: concept, feasibility, the feasibility, conceptual, feasibility of, cycles, concept of, modular, fuel cycles, integrated</td>\n",
       "      <td>156.0</td>\n",
       "    </tr>\n",
       "    <tr>\n",
       "      <th>54</th>\n",
       "      <td>Topic #54: other, the other, and other, in other, of other, with other, of human, industries</td>\n",
       "      <td>153.0</td>\n",
       "    </tr>\n",
       "    <tr>\n",
       "      <th>199</th>\n",
       "      <td>Topic #199: radioactive, currently, radioactive waste, of radioactive, is currently, introduction, introduction of, wastes, are currently, contribute to</td>\n",
       "      <td>153.0</td>\n",
       "    </tr>\n",
       "    <tr>\n",
       "      <th>81</th>\n",
       "      <td>Topic #81: first, the first, types of, types, account, into account, version, actual, understand, applicability of</td>\n",
       "      <td>151.0</td>\n",
       "    </tr>\n",
       "    <tr>\n",
       "      <th>108</th>\n",
       "      <td>Topic #108: was, were, determine, to determine, it was, determine the, showed, performed, which was, was to</td>\n",
       "      <td>150.0</td>\n",
       "    </tr>\n",
       "    <tr>\n",
       "      <th>3</th>\n",
       "      <td>Topic #3 (Economic viability): economic, costs, meet, to meet, and economic, meet the, economic growth, the economic, capital, capacity</td>\n",
       "      <td>149.0</td>\n",
       "    </tr>\n",
       "    <tr>\n",
       "      <th>126</th>\n",
       "      <td>Topic #126: world, global, the world, the global, global nuclear, third, the third, global energy, the article, partnership</td>\n",
       "      <td>148.0</td>\n",
       "    </tr>\n",
       "    <tr>\n",
       "      <th>31</th>\n",
       "      <td>Topic #31: more, more than, amount, amount of, increasing the, stations, increasing, and more, for more, power stations</td>\n",
       "      <td>143.0</td>\n",
       "    </tr>\n",
       "    <tr>\n",
       "      <th>112</th>\n",
       "      <td>Topic #112: systems, energy systems, systems and, systems in, systems are, systems the, power systems, systems for, control systems, reactor systems</td>\n",
       "      <td>142.0</td>\n",
       "    </tr>\n",
       "    <tr>\n",
       "      <th>56</th>\n",
       "      <td>Topic #56: management, construction, construction of, the construction, past, the past, waste management, management of, management and, authority</td>\n",
       "      <td>142.0</td>\n",
       "    </tr>\n",
       "    <tr>\n",
       "      <th>198</th>\n",
       "      <td>Topic #198: overall, program, framework, the overall, framework of, capable, options, capable of, the framework, the program</td>\n",
       "      <td>139.0</td>\n",
       "    </tr>\n",
       "    <tr>\n",
       "      <th>104</th>\n",
       "      <td>Topic #104: conditions, under, under the, containment, vessel, conditions the, the containment, pressure vessel, conditions and, conditions of</td>\n",
       "      <td>138.0</td>\n",
       "    </tr>\n",
       "    <tr>\n",
       "      <th>173</th>\n",
       "      <td>Topic #173: ensure, support, to ensure, to support, support the, existing, support of, the existing, ensure the, ensure that</td>\n",
       "      <td>137.0</td>\n",
       "    </tr>\n",
       "    <tr>\n",
       "      <th>184</th>\n",
       "      <td>Topic #184: or, if, expected, expected to, is expected, and or, either, if the, too, user</td>\n",
       "      <td>136.0</td>\n",
       "    </tr>\n",
       "    <tr>\n",
       "      <th>85</th>\n",
       "      <td>Topic #85: reliable, sufficient, this research, and water, vacuum, interface, and high</td>\n",
       "      <td>136.0</td>\n",
       "    </tr>\n",
       "    <tr>\n",
       "      <th>92</th>\n",
       "      <td>Topic #92: associated, particular, regulatory, associated with, in particular, licensing, particular the, paper will, doe, energy doe</td>\n",
       "      <td>135.0</td>\n",
       "    </tr>\n",
       "    <tr>\n",
       "      <th>74</th>\n",
       "      <td>Topic #74: according, according to, but, about, only, but the, about the, limited, for this, especially</td>\n",
       "      <td>135.0</td>\n",
       "    </tr>\n",
       "    <tr>\n",
       "      <th>82</th>\n",
       "      <td>Topic #82: then, provides, then the, perform, to enhance, to perform, divided, provides an, enhance, identification</td>\n",
       "      <td>134.0</td>\n",
       "    </tr>\n",
       "    <tr>\n",
       "      <th>72</th>\n",
       "      <td>Topic #72: reactors, nuclear reactors, reactors and, reactors in, reactors the, power reactors, cooled reactors, reactors are, inherent, deployment</td>\n",
       "      <td>131.0</td>\n",
       "    </tr>\n",
       "    <tr>\n",
       "      <th>132</th>\n",
       "      <td>Topic #132: non, the initial, initial, air, and non, the non, of non, so that, so, non nuclear</td>\n",
       "      <td>131.0</td>\n",
       "    </tr>\n",
       "    <tr>\n",
       "      <th>68</th>\n",
       "      <td>Topic #68: current, the current, review, review of, they, they are, come, replace, sites, serve</td>\n",
       "      <td>130.0</td>\n",
       "    </tr>\n",
       "    <tr>\n",
       "      <th>71</th>\n",
       "      <td>Topic #71: study, this study, study of, study on, study the, the study, to study, study is, to verify, verify</td>\n",
       "      <td>129.0</td>\n",
       "    </tr>\n",
       "    <tr>\n",
       "      <th>63</th>\n",
       "      <td>Topic #63: in this, multi, introduced, hence, of high, are introduced, whether, with high, verified, difference</td>\n",
       "      <td>129.0</td>\n",
       "    </tr>\n",
       "    <tr>\n",
       "      <th>137</th>\n",
       "      <td>Topic #137: model, simulation, modeling, simulations, validation, the simulation, model of, simulation of, model for, computational</td>\n",
       "      <td>129.0</td>\n",
       "    </tr>\n",
       "    <tr>\n",
       "      <th>55</th>\n",
       "      <td>Topic #55: increase, increase in, would be, does, does not, would, to increase, the increase, the fact, increase the</td>\n",
       "      <td>129.0</td>\n",
       "    </tr>\n",
       "    <tr>\n",
       "      <th>16</th>\n",
       "      <td>Topic #16: effect, time, effect of, the effect, effect on, the time, value, value of, time of, time and</td>\n",
       "      <td>126.0</td>\n",
       "    </tr>\n",
       "    <tr>\n",
       "      <th>58</th>\n",
       "      <td>Topic #58: cross, advanced, resulting, cross section, section, the advanced, of advanced, consisting, consisting of, decay heat</td>\n",
       "      <td>119.0</td>\n",
       "    </tr>\n",
       "    <tr>\n",
       "      <th>186</th>\n",
       "      <td>Topic #186: should be, level, should, high level, level of, effectiveness, effectiveness of, the effectiveness, the level, building</td>\n",
       "      <td>117.0</td>\n",
       "    </tr>\n",
       "    <tr>\n",
       "      <th>94</th>\n",
       "      <td>Topic #94: atomic energy, atomic, international atomic, japan atomic, agency iaea, of japan, society of</td>\n",
       "      <td>117.0</td>\n",
       "    </tr>\n",
       "    <tr>\n",
       "      <th>42</th>\n",
       "      <td>Topic #42: source, efficiency, source of, consumption, efficiency of, energy source, energy consumption, efficiency and, co2, the efficiency</td>\n",
       "      <td>117.0</td>\n",
       "    </tr>\n",
       "    <tr>\n",
       "      <th>83</th>\n",
       "      <td>Topic #83: need, need to, the need, need for, address, to address, address the, require, deployment of, energy nuclear</td>\n",
       "      <td>116.0</td>\n",
       "    </tr>\n",
       "    <tr>\n",
       "      <th>38</th>\n",
       "      <td>Topic #38: during, during the, furthermore, element, post</td>\n",
       "      <td>115.0</td>\n",
       "    </tr>\n",
       "    <tr>\n",
       "      <th>97</th>\n",
       "      <td>Topic #97: part, part of, since the, means of, means, since, as part, implemented in, by means, implemented</td>\n",
       "      <td>113.0</td>\n",
       "    </tr>\n",
       "    <tr>\n",
       "      <th>84</th>\n",
       "      <td>Topic #84: japan, facilities, nuclear facilities, in japan, training, japanese, jaea, education, decommissioning, network</td>\n",
       "      <td>113.0</td>\n",
       "    </tr>\n",
       "    <tr>\n",
       "      <th>114</th>\n",
       "      <td>Topic #114: work, this work, work is, fission products, the work, products, relevant</td>\n",
       "      <td>113.0</td>\n",
       "    </tr>\n",
       "    <tr>\n",
       "      <th>177</th>\n",
       "      <td>Topic #177: large, scale, of large, full, large scale, description, description of, the full, entire, the entire</td>\n",
       "      <td>112.0</td>\n",
       "    </tr>\n",
       "    <tr>\n",
       "      <th>146</th>\n",
       "      <td>Topic #146: different, of different, the different, two different, for different, with different, in different, applicable to, different types, applicable</td>\n",
       "      <td>111.0</td>\n",
       "    </tr>\n",
       "    <tr>\n",
       "      <th>76</th>\n",
       "      <td>Topic #76: up, up to, each, removal, for each, remove, heat removal, average, to remove, of each</td>\n",
       "      <td>110.0</td>\n",
       "    </tr>\n",
       "    <tr>\n",
       "      <th>170</th>\n",
       "      <td>Topic #170: environment, the environment, produce, to produce, areas, to make, make, areas of, health, environment the</td>\n",
       "      <td>110.0</td>\n",
       "    </tr>\n",
       "    <tr>\n",
       "      <th>46</th>\n",
       "      <td>Topic #46: because, second, because of, the second, able, able to, because the, rise</td>\n",
       "      <td>108.0</td>\n",
       "    </tr>\n",
       "    <tr>\n",
       "      <th>192</th>\n",
       "      <td>Topic #192: result, into the, as result, into, result of, structure and, result in, the result, structure, composition</td>\n",
       "      <td>105.0</td>\n",
       "    </tr>\n",
       "    <tr>\n",
       "      <th>107</th>\n",
       "      <td>Topic #107: capability, before, way, capability of, combined, combined with, effective, way to, proved, an effective</td>\n",
       "      <td>103.0</td>\n",
       "    </tr>\n",
       "    <tr>\n",
       "      <th>118</th>\n",
       "      <td>Topic #118: temperature, high temperature, high, hydrogen, corrosion, cracking, stress, stress corrosion, crack, alloy</td>\n",
       "      <td>103.0</td>\n",
       "    </tr>\n",
       "    <tr>\n",
       "      <th>162</th>\n",
       "      <td>Topic #162: methods, made, methods to, methods for, methods and, methods are, made of, been made, is made, the methods</td>\n",
       "      <td>103.0</td>\n",
       "    </tr>\n",
       "    <tr>\n",
       "      <th>116</th>\n",
       "      <td>Topic #116: technical, the technical, technical and, and technical, knowledge of, prospects for, knowledge, prospects, social, questions</td>\n",
       "      <td>102.0</td>\n",
       "    </tr>\n",
       "    <tr>\n",
       "      <th>26</th>\n",
       "      <td>Topic #26: reserved, all rights, rights reserved, rights, all, reserved nan, ltd all, elsevier all, right reserved, all right</td>\n",
       "      <td>101.0</td>\n",
       "    </tr>\n",
       "    <tr>\n",
       "      <th>176</th>\n",
       "      <td>Topic #176: us, natural, the us, problem, problem of, the problem, the aim, and natural, of natural, the natural</td>\n",
       "      <td>100.0</td>\n",
       "    </tr>\n",
       "    <tr>\n",
       "      <th>24</th>\n",
       "      <td>Topic #24: requirements, requirements for, the last, the corresponding, last, involved, requirements of, involved in, the requirements, decision making</td>\n",
       "      <td>100.0</td>\n",
       "    </tr>\n",
       "    <tr>\n",
       "      <th>25</th>\n",
       "      <td>Topic #25: long, long term, term, the long, and long, long lived, lived, short, of material, likely</td>\n",
       "      <td>99.0</td>\n",
       "    </tr>\n",
       "    <tr>\n",
       "      <th>120</th>\n",
       "      <td>Topic #120: type, facility, loop, integral, constructed, break, type of, when the, compact, 2012</td>\n",
       "      <td>99.0</td>\n",
       "    </tr>\n",
       "    <tr>\n",
       "      <th>160</th>\n",
       "      <td>Topic #160: station, units, power station, site, unit, regulations, workers, standards, have the, march</td>\n",
       "      <td>96.0</td>\n",
       "    </tr>\n",
       "    <tr>\n",
       "      <th>59</th>\n",
       "      <td>Topic #59: found, radiation, found that, dose, was found, found to, the radiation, of radiation, and radiation, dose rate</td>\n",
       "      <td>95.0</td>\n",
       "    </tr>\n",
       "    <tr>\n",
       "      <th>169</th>\n",
       "      <td>Topic #169: terms of, terms, in terms, their, and their, to their, of their, priority, groups</td>\n",
       "      <td>95.0</td>\n",
       "    </tr>\n",
       "    <tr>\n",
       "      <th>129</th>\n",
       "      <td>Topic #129: fraction, circuit, in which, stability, fraction of, excellent, which the, the power, the base, for power</td>\n",
       "      <td>93.0</td>\n",
       "    </tr>\n",
       "    <tr>\n",
       "      <th>110</th>\n",
       "      <td>Topic #110: electric, developing, electric power, company, evolution, in developing, evolution of, members, utility, initiatives</td>\n",
       "      <td>93.0</td>\n",
       "    </tr>\n",
       "    <tr>\n",
       "      <th>144</th>\n",
       "      <td>Topic #144: european, the european, status, status of, overview, overview of, an overview, europe, project, the status</td>\n",
       "      <td>92.0</td>\n",
       "    </tr>\n",
       "    <tr>\n",
       "      <th>12</th>\n",
       "      <td>Topic #12: within the, within, iv, generation iv, the highest, highest, aims, aims at, gen, supercritical</td>\n",
       "      <td>92.0</td>\n",
       "    </tr>\n",
       "    <tr>\n",
       "      <th>102</th>\n",
       "      <td>Topic #102: primary, the primary, rate, rate of, respectively the, respectively, simulated, primary energy, primary loop, to that</td>\n",
       "      <td>91.0</td>\n",
       "    </tr>\n",
       "    <tr>\n",
       "      <th>196</th>\n",
       "      <td>Topic #196: as well, well as, well, as for, multiple, represents, reviews, utilizing, remote, as to</td>\n",
       "      <td>91.0</td>\n",
       "    </tr>\n",
       "    <tr>\n",
       "      <th>167</th>\n",
       "      <td>Topic #167: fast, fast reactor, sodium, fast reactors, cooled fast, sections, sodium cooled, cross sections, liquid, liquid metal</td>\n",
       "      <td>91.0</td>\n",
       "    </tr>\n",
       "    <tr>\n",
       "      <th>154</th>\n",
       "      <td>Topic #154: possibility, understanding of, understanding, hand, other hand, the possibility, possibility of, depending, intended to, intended</td>\n",
       "      <td>91.0</td>\n",
       "    </tr>\n",
       "    <tr>\n",
       "      <th>142</th>\n",
       "      <td>Topic #142: in order, order to, order, was proposed, analysed, 70, are discussed, drawn</td>\n",
       "      <td>91.0</td>\n",
       "    </tr>\n",
       "    <tr>\n",
       "      <th>39</th>\n",
       "      <td>Topic #39: flow, loss of, hydraulic, thermal hydraulic, loss, dimensional, heat, heat transfer, transient, thermal</td>\n",
       "      <td>90.0</td>\n",
       "    </tr>\n",
       "    <tr>\n",
       "      <th>117</th>\n",
       "      <td>Topic #117: improve, to improve, is being, improve the, along with, along, being, being developed</td>\n",
       "      <td>90.0</td>\n",
       "    </tr>\n",
       "    <tr>\n",
       "      <th>22</th>\n",
       "      <td>Topic #22: considered, the purpose, purpose of, purpose, be considered, is considered, are considered, considered to, considered as, considered in</td>\n",
       "      <td>89.0</td>\n",
       "    </tr>\n",
       "    <tr>\n",
       "      <th>122</th>\n",
       "      <td>Topic #122: neutron, same, the same, the neutron, and neutron, of neutron, neutron flux, flux, spectrum, literature</td>\n",
       "      <td>88.0</td>\n",
       "    </tr>\n",
       "    <tr>\n",
       "      <th>164</th>\n",
       "      <td>Topic #164: experiments, mass, laboratory, surface, national laboratory, the surface, reaction, reactions, the mass, experiments were</td>\n",
       "      <td>88.0</td>\n",
       "    </tr>\n",
       "    <tr>\n",
       "      <th>163</th>\n",
       "      <td>Topic #163: present, the present, final, the final, consequences, present work, consequences of, followed by, followed, subsequent</td>\n",
       "      <td>87.0</td>\n",
       "    </tr>\n",
       "    <tr>\n",
       "      <th>189</th>\n",
       "      <td>Topic #189: through the, through, may be, may, that may</td>\n",
       "      <td>85.0</td>\n",
       "    </tr>\n",
       "    <tr>\n",
       "      <th>48</th>\n",
       "      <td>Topic #48: using, using the, by using, confirm, to confirm, confirm the, of using, estimated, performed using, linear</td>\n",
       "      <td>85.0</td>\n",
       "    </tr>\n",
       "    <tr>\n",
       "      <th>197</th>\n",
       "      <td>Topic #197: characteristics, characteristics of, the maximum, maximum, the characteristics, velocity, speed, response to, equations, give</td>\n",
       "      <td>84.0</td>\n",
       "    </tr>\n",
       "    <tr>\n",
       "      <th>6</th>\n",
       "      <td>Topic #6: data, analyzed, measured, were analyzed, data from, the data, data for, calculated, data and, are analyzed</td>\n",
       "      <td>84.0</td>\n",
       "    </tr>\n",
       "    <tr>\n",
       "      <th>152</th>\n",
       "      <td>Topic #152: by asme, asme, risk, probabilistic, asme nan, the risk, psa, regulatory commission, probabilistic safety, risk of</td>\n",
       "      <td>84.0</td>\n",
       "    </tr>\n",
       "    <tr>\n",
       "      <th>60</th>\n",
       "      <td>Topic #60: thus, small, passive, interest, passive safety, of small, of interest, thus the, the small, and thus</td>\n",
       "      <td>83.0</td>\n",
       "    </tr>\n",
       "    <tr>\n",
       "      <th>194</th>\n",
       "      <td>Topic #194: comparison, distribution, determination, parameters, determination of, comparison of, comparison with, values, distribution of, parameters are</td>\n",
       "      <td>83.0</td>\n",
       "    </tr>\n",
       "    <tr>\n",
       "      <th>185</th>\n",
       "      <td>Topic #185: chemistry, quality, significant, quality of, detailed, expert, phases, water chemistry, issue, and are</td>\n",
       "      <td>82.0</td>\n",
       "    </tr>\n",
       "    <tr>\n",
       "      <th>90</th>\n",
       "      <td>Topic #90: problems, adoption, problems of, installation, achieving, how, class, path, usa</td>\n",
       "      <td>78.0</td>\n",
       "    </tr>\n",
       "    <tr>\n",
       "      <th>101</th>\n",
       "      <td>Topic #101: presented, are presented, is presented, presented in, presented the, the various, spectra, is described</td>\n",
       "      <td>77.0</td>\n",
       "    </tr>\n",
       "    <tr>\n",
       "      <th>98</th>\n",
       "      <td>Topic #98: three, the three, combination, combination of, changes, changes in, characteristic, those, against, considerations</td>\n",
       "      <td>77.0</td>\n",
       "    </tr>\n",
       "    <tr>\n",
       "      <th>17</th>\n",
       "      <td>Topic #17: test, testing, reliability, the test, reliability of, test facility, test results, and reliability, test reactor, testing of</td>\n",
       "      <td>77.0</td>\n",
       "    </tr>\n",
       "    <tr>\n",
       "      <th>19</th>\n",
       "      <td>Topic #19: pressure, steam, steam generator, the pressure, tube, of steam, pressure and, generator, the steam, exchanger</td>\n",
       "      <td>76.0</td>\n",
       "    </tr>\n",
       "    <tr>\n",
       "      <th>70</th>\n",
       "      <td>Topic #70: ability, operate, evaluating, an alternative, alternative, ability to, demonstrated that, to operate, evaluating the, demonstrated</td>\n",
       "      <td>76.0</td>\n",
       "    </tr>\n",
       "    <tr>\n",
       "      <th>50</th>\n",
       "      <td>Topic #50: measurements, measurement, sensor, measurement of, sensors, gamma, measurements of, detection, resolution, detectors</td>\n",
       "      <td>75.0</td>\n",
       "    </tr>\n",
       "    <tr>\n",
       "      <th>88</th>\n",
       "      <td>Topic #88: evaluation, evaluation of, the evaluation, staff, evaluated, community, extensive, of various, replacement</td>\n",
       "      <td>74.0</td>\n",
       "    </tr>\n",
       "    <tr>\n",
       "      <th>21</th>\n",
       "      <td>Topic #21: key, the key, issues, implications</td>\n",
       "      <td>74.0</td>\n",
       "    </tr>\n",
       "    <tr>\n",
       "      <th>87</th>\n",
       "      <td>Topic #87: elsevier, elsevier ltd, ltd, 2010 elsevier, by elsevier, 2014 elsevier, 2015 elsevier, 2017 elsevier, 2018 elsevier, 2009 elsevier</td>\n",
       "      <td>73.0</td>\n",
       "    </tr>\n",
       "    <tr>\n",
       "      <th>178</th>\n",
       "      <td>Topic #178: the two, assess, to assess, two, assess the, authors, the authors, and two, with two, in our</td>\n",
       "      <td>70.0</td>\n",
       "    </tr>\n",
       "    <tr>\n",
       "      <th>8</th>\n",
       "      <td>Topic #8: state of, state, variety, variety of, art, the art, fuel assemblies, the state, assemblies, explore</td>\n",
       "      <td>69.0</td>\n",
       "    </tr>\n",
       "    <tr>\n",
       "      <th>158</th>\n",
       "      <td>Topic #158: than, than the, higher, higher than, than that, larger, rather, vary, times, taylor</td>\n",
       "      <td>68.0</td>\n",
       "    </tr>\n",
       "    <tr>\n",
       "      <th>13</th>\n",
       "      <td>Topic #13: irradiated, close, close to, species, irradiation, concentrations, separated, rates, samples, deposition</td>\n",
       "      <td>66.0</td>\n",
       "    </tr>\n",
       "    <tr>\n",
       "      <th>10</th>\n",
       "      <td>Topic #10: features, features of, presence, presence of, the presence, analyses of, analyses, safety features, sensitivity analysis, sensitivity</td>\n",
       "      <td>66.0</td>\n",
       "    </tr>\n",
       "    <tr>\n",
       "      <th>183</th>\n",
       "      <td>Topic #183: role, role of, role in, the role, play, plays, increasingly, plans, vital, itself</td>\n",
       "      <td>65.0</td>\n",
       "    </tr>\n",
       "    <tr>\n",
       "      <th>41</th>\n",
       "      <td>Topic #41: water, water reactor, pressurized, pressurized water, water reactors, light water, light, boiling water, boiling, reactor pwr</td>\n",
       "      <td>63.0</td>\n",
       "    </tr>\n",
       "    <tr>\n",
       "      <th>106</th>\n",
       "      <td>Topic #106: obtained, results obtained, obtained by, obtained from, were obtained, the obtained, are obtained, obtained for, 20, volume</td>\n",
       "      <td>62.0</td>\n",
       "    </tr>\n",
       "    <tr>\n",
       "      <th>195</th>\n",
       "      <td>Topic #195: verification, includes, extension, verification of, extension of, kinds, kinds of, includes the, the physical, and verification</td>\n",
       "      <td>62.0</td>\n",
       "    </tr>\n",
       "    <tr>\n",
       "      <th>30</th>\n",
       "      <td>Topic #30: experimental, the experimental, experimental data, experimental results, an experimental, of experimental, validated, theoretical, experimentally, performed in</td>\n",
       "      <td>61.0</td>\n",
       "    </tr>\n",
       "    <tr>\n",
       "      <th>47</th>\n",
       "      <td>Topic #47: compared, compared to, compared with, are compared, and compared, were compared, with the, 90, the one</td>\n",
       "      <td>61.0</td>\n",
       "    </tr>\n",
       "    <tr>\n",
       "      <th>123</th>\n",
       "      <td>Topic #123: algorithm, dynamic, accurate, automatic, differential, functions, classification, proportional, location</td>\n",
       "      <td>60.0</td>\n",
       "    </tr>\n",
       "    <tr>\n",
       "      <th>65</th>\n",
       "      <td>Topic #65: effects, effects of, the effects, normal operation, normal, finally the, effects on, to predict, predict, finally</td>\n",
       "      <td>60.0</td>\n",
       "    </tr>\n",
       "    <tr>\n",
       "      <th>49</th>\n",
       "      <td>Topic #49: around, focused, focused on, around the, provided by, provided, start, expansion, put</td>\n",
       "      <td>60.0</td>\n",
       "    </tr>\n",
       "    <tr>\n",
       "      <th>139</th>\n",
       "      <td>Topic #139: necessary, necessary to, is necessary, difficult to, difficult, designing, of its</td>\n",
       "      <td>59.0</td>\n",
       "    </tr>\n",
       "    <tr>\n",
       "      <th>165</th>\n",
       "      <td>Topic #165: show, show that, results show, influence of, the influence, influence, caused by, caused, that the, variation of</td>\n",
       "      <td>59.0</td>\n",
       "    </tr>\n",
       "    <tr>\n",
       "      <th>127</th>\n",
       "      <td>Topic #127: lead, lead to, objectives of, lead cooled, objectives, parallel, geometries, all the, added</td>\n",
       "      <td>57.0</td>\n",
       "    </tr>\n",
       "    <tr>\n",
       "      <th>113</th>\n",
       "      <td>Topic #113: condition, on the, condition of, feature, postulated, quantitative, occur, phenomena, findings</td>\n",
       "      <td>57.0</td>\n",
       "    </tr>\n",
       "    <tr>\n",
       "      <th>45</th>\n",
       "      <td>Topic #45: therefore, period, the period, solve, period of, to solve, therefore the, always, even, though</td>\n",
       "      <td>56.0</td>\n",
       "    </tr>\n",
       "    <tr>\n",
       "      <th>11</th>\n",
       "      <td>Topic #11: environmental, levels of, levels, the environmental, and environmental, five, topics, environmentally, life cycle, meeting</td>\n",
       "      <td>55.0</td>\n",
       "    </tr>\n",
       "    <tr>\n",
       "      <th>161</th>\n",
       "      <td>Topic #161: shown, shown that, is shown, author, the author, shown to, feasible, enough, produced, medium</td>\n",
       "      <td>54.0</td>\n",
       "    </tr>\n",
       "    <tr>\n",
       "      <th>124</th>\n",
       "      <td>Topic #124: assessment, assessment of, safety assessment, the assessment, assessment psa, assessments, assessed, appropriate, hypothetical, adapted</td>\n",
       "      <td>53.0</td>\n",
       "    </tr>\n",
       "    <tr>\n",
       "      <th>166</th>\n",
       "      <td>Topic #166: related, related to, safety related, the fundamental, fundamental, interactions</td>\n",
       "      <td>53.0</td>\n",
       "    </tr>\n",
       "    <tr>\n",
       "      <th>52</th>\n",
       "      <td>Topic #52: code, calculations, investigated, function, function of, as function, code and, the code, calculations of, was investigated</td>\n",
       "      <td>53.0</td>\n",
       "    </tr>\n",
       "    <tr>\n",
       "      <th>175</th>\n",
       "      <td>Topic #175: view, view of, help, to help, are still, still, point of, reasons</td>\n",
       "      <td>51.0</td>\n",
       "    </tr>\n",
       "    <tr>\n",
       "      <th>179</th>\n",
       "      <td>Topic #179: focuses, focuses on, depth, seismic, in depth, approaches, of seismic, approaches to, defense, common</td>\n",
       "      <td>51.0</td>\n",
       "    </tr>\n",
       "    <tr>\n",
       "      <th>15</th>\n",
       "      <td>Topic #15: however, however the, reference, the reference, reduced, once, et, moreover, 22, to have</td>\n",
       "      <td>50.0</td>\n",
       "    </tr>\n",
       "    <tr>\n",
       "      <th>190</th>\n",
       "      <td>Topic #190: impact, impact of, impact on, the impact, environmental impact, impacts, countries the, per, regarding</td>\n",
       "      <td>50.0</td>\n",
       "    </tr>\n",
       "    <tr>\n",
       "      <th>27</th>\n",
       "      <td>Topic #27: end, end of, the end, respect, respect to, with respect, of radionuclides, radionuclides, both the, front</td>\n",
       "      <td>49.0</td>\n",
       "    </tr>\n",
       "    <tr>\n",
       "      <th>86</th>\n",
       "      <td>Topic #86: country, russia, the country, across, across the, in russia, russian, examines, region, context</td>\n",
       "      <td>49.0</td>\n",
       "    </tr>\n",
       "    <tr>\n",
       "      <th>140</th>\n",
       "      <td>Topic #140: institute, research institute, energy research, institute of, research, leading to, leading, korea, research on, 60</td>\n",
       "      <td>48.0</td>\n",
       "    </tr>\n",
       "    <tr>\n",
       "      <th>125</th>\n",
       "      <td>Topic #125: and then, for an, layer, primarily, responses, step</td>\n",
       "      <td>47.0</td>\n",
       "    </tr>\n",
       "    <tr>\n",
       "      <th>80</th>\n",
       "      <td>Topic #80: among, among the, south, option for, option, much, smaller, east, characterized, better</td>\n",
       "      <td>47.0</td>\n",
       "    </tr>\n",
       "    <tr>\n",
       "      <th>35</th>\n",
       "      <td>Topic #35: investigate, to investigate, analyze, investigate the, to analyze, analyze the, the above, formation of, the formation, formation</td>\n",
       "      <td>46.0</td>\n",
       "    </tr>\n",
       "    <tr>\n",
       "      <th>29</th>\n",
       "      <td>Topic #29: behavior, behavior of, modified, upper, geometry, phase, the modified, occurs, diameter, modes</td>\n",
       "      <td>45.0</td>\n",
       "    </tr>\n",
       "    <tr>\n",
       "      <th>182</th>\n",
       "      <td>Topic #182: properties, properties of, investigation of, optimal, investigation, the optimal, examined, are examined, choice</td>\n",
       "      <td>43.0</td>\n",
       "    </tr>\n",
       "    <tr>\n",
       "      <th>36</th>\n",
       "      <td>Topic #36: possible, possible to, is possible, together with, together, the possible, what, makes, look, 500</td>\n",
       "      <td>42.0</td>\n",
       "    </tr>\n",
       "    <tr>\n",
       "      <th>51</th>\n",
       "      <td>Topic #51: agreement, agreement with, good agreement, good, area of, the field, area, field of, field, are in</td>\n",
       "      <td>42.0</td>\n",
       "    </tr>\n",
       "    <tr>\n",
       "      <th>40</th>\n",
       "      <td>Topic #40: we, we have, previous, determined by, the previous, determined, instead, molecular</td>\n",
       "      <td>41.0</td>\n",
       "    </tr>\n",
       "    <tr>\n",
       "      <th>37</th>\n",
       "      <td>Topic #37: generated, generated by, hydro</td>\n",
       "      <td>41.0</td>\n",
       "    </tr>\n",
       "    <tr>\n",
       "      <th>187</th>\n",
       "      <td>Topic #187: fusion, nuclear fusion, plasma, fusion energy, tokamak, fusion power, of fusion, comparable to, comparable, blanket</td>\n",
       "      <td>40.0</td>\n",
       "    </tr>\n",
       "    <tr>\n",
       "      <th>20</th>\n",
       "      <td>Topic #20: 2018, copyright 2018, 2019, leads, leads to, the methodology, methodology, adopted, mitigation</td>\n",
       "      <td>40.0</td>\n",
       "    </tr>\n",
       "    <tr>\n",
       "      <th>148</th>\n",
       "      <td>Topic #148: indicate, indicate that, product, fission product, results indicate, growth, growth of, rapidly, suggest, elevated</td>\n",
       "      <td>38.0</td>\n",
       "    </tr>\n",
       "    <tr>\n",
       "      <th>191</th>\n",
       "      <td>Topic #191: performance, performance of, the performance, optimized, promising</td>\n",
       "      <td>38.0</td>\n",
       "    </tr>\n",
       "    <tr>\n",
       "      <th>93</th>\n",
       "      <td>Topic #93: aspects, aspects of, and waste, recommendations, decisions</td>\n",
       "      <td>38.0</td>\n",
       "    </tr>\n",
       "    <tr>\n",
       "      <th>96</th>\n",
       "      <td>Topic #96: taken, taken into, be taken, steps, depend</td>\n",
       "      <td>38.0</td>\n",
       "    </tr>\n",
       "    <tr>\n",
       "      <th>34</th>\n",
       "      <td>Topic #34: carlo, monte carlo, monte, prediction, prediction of, multiplication, thermal hydraulics, the prediction, neutronics, codes</td>\n",
       "      <td>36.0</td>\n",
       "    </tr>\n",
       "    <tr>\n",
       "      <th>18</th>\n",
       "      <td>Topic #18: less than, less, shows that, shows, device, half</td>\n",
       "      <td>36.0</td>\n",
       "    </tr>\n",
       "    <tr>\n",
       "      <th>64</th>\n",
       "      <td>Topic #64: improvement, improvement of, coupled with, coupled</td>\n",
       "      <td>35.0</td>\n",
       "    </tr>\n",
       "    <tr>\n",
       "      <th>57</th>\n",
       "      <td>Topic #57: achieve, to achieve, target, the target, targets, 1990, limit, maintain</td>\n",
       "      <td>35.0</td>\n",
       "    </tr>\n",
       "    <tr>\n",
       "      <th>4</th>\n",
       "      <td>Topic #4 (Intergenerational justice): degradation, degradation of, where the, integrity, where, integrity of, the integrity, structural, concerns, mechanisms</td>\n",
       "      <td>34.0</td>\n",
       "    </tr>\n",
       "    <tr>\n",
       "      <th>171</th>\n",
       "      <td>Topic #171: line, on line, occurrence, by the, numerous, after the</td>\n",
       "      <td>32.0</td>\n",
       "    </tr>\n",
       "    <tr>\n",
       "      <th>157</th>\n",
       "      <td>Topic #157: by jsme, jsme, copyright, 2019 by, 2018 2019, copyright 2015, 2015 by, 2015, protect, to protect</td>\n",
       "      <td>30.0</td>\n",
       "    </tr>\n",
       "    <tr>\n",
       "      <th>138</th>\n",
       "      <td>Topic #138: behaviour, rod, behaviour of, cladding, pool, below, active</td>\n",
       "      <td>27.0</td>\n",
       "    </tr>\n",
       "    <tr>\n",
       "      <th>7</th>\n",
       "      <td>Topic #7: structures, structures and, affect, affect the, and components, piping, loads, stresses, previously</td>\n",
       "      <td>25.0</td>\n",
       "    </tr>\n",
       "    <tr>\n",
       "      <th>149</th>\n",
       "      <td>Topic #149: mev, neutrons, of neutrons, proton, energies, induced, incident, energy of, beam, intensity</td>\n",
       "      <td>25.0</td>\n",
       "    </tr>\n",
       "    <tr>\n",
       "      <th>151</th>\n",
       "      <td>Topic #151: china, in china, relationship, relationship between, the relationship, between, including the, analyzes, points, summarized</td>\n",
       "      <td>24.0</td>\n",
       "    </tr>\n",
       "    <tr>\n",
       "      <th>133</th>\n",
       "      <td>Topic #133: implement, to implement, although the, although, reports</td>\n",
       "      <td>23.0</td>\n",
       "    </tr>\n",
       "    <tr>\n",
       "      <th>103</th>\n",
       "      <td>Topic #103: case, case of, the case, in case, concerned, central</td>\n",
       "      <td>20.0</td>\n",
       "    </tr>\n",
       "    <tr>\n",
       "      <th>150</th>\n",
       "      <td>Topic #150: whole, the whole</td>\n",
       "      <td>20.0</td>\n",
       "    </tr>\n",
       "    <tr>\n",
       "      <th>66</th>\n",
       "      <td>Topic #66: transport, included, the transport, radionuclide, included in, nuclides, distributions, contamination, ones, the gas</td>\n",
       "      <td>17.0</td>\n",
       "    </tr>\n",
       "    <tr>\n",
       "      <th>43</th>\n",
       "      <td>Topic #43: stainless, steel, stainless steel, steels, austenitic, environments, susceptibility, strength, conference</td>\n",
       "      <td>16.0</td>\n",
       "    </tr>\n",
       "    <tr>\n",
       "      <th>174</th>\n",
       "      <td>Topic #174: business media, science business, springer science, springer, media, business, science, media inc, inc nan, inc</td>\n",
       "      <td>12.0</td>\n",
       "    </tr>\n",
       "    <tr>\n",
       "      <th>145</th>\n",
       "      <td>Topic #145: american nuclear, nuclear society, american, society all, society, 2018 american</td>\n",
       "      <td>12.0</td>\n",
       "    </tr>\n",
       "    <tr>\n",
       "      <th>67</th>\n",
       "      <td>Topic #67: obtain, to obtain</td>\n",
       "      <td>11.0</td>\n",
       "    </tr>\n",
       "    <tr>\n",
       "      <th>141</th>\n",
       "      <td>Topic #141: abstract, abstract available, no abstract, available nan, available, no, which, for the, and the</td>\n",
       "      <td>7.0</td>\n",
       "    </tr>\n",
       "  </tbody>\n",
       "</table>"
      ],
      "text/plain": [
       "<IPython.core.display.HTML object>"
      ]
     },
     "metadata": {
      "tags": []
     },
     "output_type": "display_data"
    }
   ],
   "source": [
    "topic_to_evaluate = \"Safety\"\n",
    "list_of_words = [\"safe\"]\n",
    "number_of_words_per_topic_to_show = 10\n",
    "\n",
    "'''--------------------------------------------------------------------------''' \n",
    "\n",
    "find_documents_related_to_the_value_that_are_not_yet_in_the_topics(df_with_topics, model_and_vectorized_data, dict_anchor_words, list_of_words, topic_to_evaluate, number_of_words_per_topic_to_show)"
   ]
  },
  {
   "cell_type": "markdown",
   "metadata": {
    "id": "a675hKfPPiag"
   },
   "source": [
    "With the code hereunder, you can inspect which documents have been attributed to each of the topics above. This might show you which anchor words you need to add to the initial list."
   ]
  },
  {
   "cell_type": "code",
   "execution_count": 18,
   "metadata": {
    "colab": {
     "base_uri": "https://localhost:8080/",
     "height": 775
    },
    "executionInfo": {
     "elapsed": 285,
     "status": "ok",
     "timestamp": 1626379820198,
     "user": {
      "displayName": "Tristan de Wildt",
      "photoUrl": "",
      "userId": "12635936161789443610"
     },
     "user_tz": -120
    },
    "id": "AJVlLb2QOc7E",
    "outputId": "ebd4b0c3-612e-49b6-e5b2-bb568cb858c1"
   },
   "outputs": [
    {
     "data": {
      "text/html": [
       "<table border=\"1\" class=\"dataframe\">\n",
       "  <thead>\n",
       "    <tr style=\"text-align: center;\">\n",
       "      <th></th>\n",
       "      <th>Random 5 documents in topic 43 with keywords 'safe' that have not been assigned to topic Safety.</th>\n",
       "    </tr>\n",
       "  </thead>\n",
       "  <tbody>\n",
       "    <tr>\n",
       "      <th>12060</th>\n",
       "      <td>Emerging nuclear fuel fabrication activities in India Presently the installed capacity of electricity generation in India is 160 GWe The integrated energy policy aims at an installed capacity of 778 GWe by 2031 32 to achieve per capita electricity consumption of 2700 kWh year as against the 700 kWh year The share of nuclear power in India is around 3 presently The increase in installed capacity is possible by increasing the share of nuclear power India has opted for a unique three stage power programme based on closed nuclear fuel cycle which provides a multiplier effect through breeding Consequent to the 123 agreement and clearance from Nuclear Supplier s Group NSG for international cooperation in the field of nuclear energy the reactor technology options are wide open Some of the technologies which are being pursued are Pressurized Heavy Water Reactors PHWRs fueled with domestic Natural Uranium NU PHWRs fueled with imported Natural Uranium Slightly Enriched Uranium SEU Light Water Reactors LWRs procured from abroad using imported Lightly Enriched Uranium LEU fuel PHWRs with Reprocessed Uranium RU obtained from reprocessing spent fuel of LWRs indigenous Pressurized Water Reactors PWRs and Fast Breeder Reactors FBRs using MOX metallic fuel The increase in the share of nuclear power through above technologies require setting up of fuel fabrication facilities such as new PHWR Fuel Fabrication with indigenous sources joint collaboration with foreign countries for fabricating fuel for imported LWRs setting up PHWR fuel fabrication facilities with SEU RU under international safeguards setting up of enrichment and fuel fabrication facilities for indigenous PWRs and a series of fast reactor fuel fabrication facilities for fabricating fuel for FBRs In addition to fuel fabrication facilities facilities for manufacturing zirconium alloy and stainless steel structurals tubes and components are also required to be set up The paper gives in detail the emerging nuclear fuel fabrication activities in India 2011 Published by Elsevier Ltd Fuel fabrication Indigenization</td>\n",
       "    </tr>\n",
       "    <tr>\n",
       "      <th>14418</th>\n",
       "      <td>The possibilities of fracture mechanics as applied to problems of strength service life and substantiation of safe operation of heat generating and mechanical equipment The fundamentals of fracture mechanics are briefly outlined and its possibilities as a tool for estimating the longevity and bearing capacity of equipment components the metal of which contains cracklike flaws are pointed out Experimentally obtained kinetic crack resistance diagrams lying at the heart of methods for determining the survivability of structures are given for some steels Practical application of the methods of fracture mechanics is demonstrated on a particular example of substantiating temporary operability of a boiler drum having cracklike flaws near the holes for water downtake pipes 2013 Pleiades Publishing Ltd crack growth resistance cracklike flaw creep fatigue lifetime longevity power equipment strength survivability</td>\n",
       "    </tr>\n",
       "    <tr>\n",
       "      <th>19864</th>\n",
       "      <td>Serrated plastic deformation behavior in alloy 709 Advanced materials are needed to withstand higher operating temperatures for longer service life providing more efficient safe and reliable structures for next generation nuclear reactors Alloy 709 is an advanced austenitic stainless steel with excellent mechanical properties that make it a preferred candidate structural material for Sodium Fast Reactor SFR which has higher technology readiness level for deployment Tensile tests of Alloy 709 were carried out in a wide range of temperatures 25 800 C and nominal strain rates of 105 10 3 s 1 to investigate the serrated flow behavior which is a manifestation of dynamic strain ageing DSA Serrations in the Alloy 709 were found to occur at two temperature regimes identified as low temperature serrated flow LTSF at 200 350 C and high temperature serrated flow HT SF at 350 700 C separated by mild serrations or smooth flow depending on the strain rate Different methods for the determination of activation energy for the serrated flow were employed that yielded values of 106 kJ mole and 194 kJ mole for the LT SF and HT SF regimes respectively Based on the activation energy values and the dependence of the critical strain on the temperature and strain rate diffusion of interstitial atoms such as nitrogen and or carbon have been suggested to be responsible for serrated flow in the LT SF regime while the diffusion of substitutional atoms such as chromium is responsible for DSA in the HT SF regime Other manifestations of DSA in the Alloy 709 are observed including peaks and or plateaus in flow stresses negative strain rate sensitivity and planar substructure in deformed samples at intermediate temperatures However no loss in ductility is found to occur in the DSA regime in the Alloy 709 The results are discussed and compared with relevant austenitic stainless steels used for SFR applications 2018 American Nuclear Society All rights reserved nan</td>\n",
       "    </tr>\n",
       "    <tr>\n",
       "      <th>14739</th>\n",
       "      <td>Modeling and analysis of a heat transport transient test facility for space nuclear systems The purpose of this study was to design a robust test facility for a small space nuclear power system and model its physical behavior under different scenarios The test facility will be used to simulate a 1 to 10 kW electric nuclear reactor its electrical generation and heat removal capabilities This simulator will be used to explore test and understand the steady state and transient operation capabilities of small space nuclear power systems Currently the system is planned to operate on a variable electrical heat source directly connected to heat pipes The heat pipes are to be stainless steel with a water working fluid These heat pipes will then be connected to a power conversion simulator or actual power conversion technologies The power conversion simulator is connected to a radiator using a water based heat pipe network using fins and connecting plates in a cylindrical geometry Modeling of the facility was performed using the SolidWorks Flow Simulation package Flow Simulation was used to analyze startup heat pipe failures and loss of power conversion with the end goal of finding safe operational transient scenarios for the transient test facility Heat pipes SolidWorks Flow Simulation Space nuclear</td>\n",
       "    </tr>\n",
       "    <tr>\n",
       "      <th>8736</th>\n",
       "      <td>Crack growth rate measurements of alloy 600 in simulated BWR environment Alloy 600 is a nickel base alloy extensively used between stainless and low alloy portions of the primary pressure boundary e g safe ends as well as for load bearing components in BWRs worldwide Existing crack growth rate CGR data for this material is rather limited However the available data together with reactor operation experiences indicates that the material is relatively insensitive to intergranular stress corrosion cracking IGSCC in normal water chemistry NWC The objective of this project was to measure the CGR in Alloy 600 for a wide range of stress intensities in simulated NWC conditions For that sixteen 25 mm CT specimens eight actively loaded by pull rods and eight loaded by bolts were simultaneously exposed in a simulated BWR environment The stress intensity factor K ranged from 15 to 50 MPa m The test was mainly performed in NWC 288 C and 500 ppb O2 but for the last 700 hours the specimens were exposed to hydrogen water chemistry HWC to determine a factor of improvement FOI of the CGR in HWC relative to the CGR in NWC Totally the specimens were exposed for about 6800 hours Intergranular cracking was observed in all actively loaded specimens except for one the one with lowest stress intensity For the bolt loaded specimens only one specimen showed intergranular cracking K 35 MPa m The measured CGRs were relatively low The CGR in this test followed a K2 8 dependency In HWC the CGR decreased but the average FOI was relatively low about 2 The low FOI in this test was a result of low CGRs in NWC and short test time in HWC nan</td>\n",
       "    </tr>\n",
       "  </tbody>\n",
       "</table>"
      ],
      "text/plain": [
       "<IPython.core.display.HTML object>"
      ]
     },
     "metadata": {
      "tags": []
     },
     "output_type": "display_data"
    }
   ],
   "source": [
    "topic_in_which_some_keywords_are_found = 43\n",
    "random_number_documents_to_return = 5\n",
    "\n",
    "'''--------------------------------------------------------------------------'''\n",
    "\n",
    "print_documents_related_to_the_value_that_are_not_yet_in_the_topics(df_with_topics, dict_anchor_words, list_of_words, topic_to_evaluate, topic_in_which_some_keywords_are_found, random_number_documents_to_return)"
   ]
  },
  {
   "cell_type": "markdown",
   "metadata": {
    "id": "6OuCocWjtKF7"
   },
   "source": [
    "#### 4.1.3. Export documents related to one value / topic"
   ]
  },
  {
   "cell_type": "markdown",
   "metadata": {
    "id": "L3ZykUUMtzJU"
   },
   "source": [
    "This code in this section is optional and can be used in case you would want to export all documents that relate to one topic for a side analysis, this can be using the code bellow. Enter which topic you would like to export at **Topic_selected**. A csv file will be created in saved in the 'save' folder in your google drive."
   ]
  },
  {
   "cell_type": "code",
   "execution_count": 20,
   "metadata": {
    "executionInfo": {
     "elapsed": 932,
     "status": "ok",
     "timestamp": 1626379853871,
     "user": {
      "displayName": "Tristan de Wildt",
      "photoUrl": "",
      "userId": "12635936161789443610"
     },
     "user_tz": -120
    },
    "id": "qOrdYvkUtMZi"
   },
   "outputs": [],
   "source": [
    "Topic_selected = 0\n",
    "\n",
    "'''--------------------------------------------------------------------------''' \n",
    "\n",
    "export_documents_related_to_one_topic(df_with_topics, dict_anchor_words, file_name, Topic_selected)"
   ]
  },
  {
   "cell_type": "markdown",
   "metadata": {
    "id": "NMD3L0CbQvnt"
   },
   "source": [
    "#### 4.1.4. Save topic model"
   ]
  },
  {
   "cell_type": "markdown",
   "metadata": {
    "id": "3tqivYKpQwDM"
   },
   "source": [
    "The code in this section is optional and saves the topic model created. Using the notebook entitled '(set name here)', the topic model can be used to analyse new datasets."
   ]
  },
  {
   "cell_type": "code",
   "execution_count": 21,
   "metadata": {
    "executionInfo": {
     "elapsed": 683,
     "status": "ok",
     "timestamp": 1626379859479,
     "user": {
      "displayName": "Tristan de Wildt",
      "photoUrl": "",
      "userId": "12635936161789443610"
     },
     "user_tz": -120
    },
    "id": "Dg71AHpgQwMF"
   },
   "outputs": [],
   "source": [
    "export_topic_model(model_and_vectorized_data, dict_anchor_words, best_number_of_topics, file_name)"
   ]
  },
  {
   "cell_type": "markdown",
   "metadata": {
    "id": "wIfwGlSv7lHV"
   },
   "source": [
    "### 4.2. Importing an existing topic model"
   ]
  },
  {
   "cell_type": "markdown",
   "metadata": {
    "id": "Rf96sCNdA-wm"
   },
   "source": [
    "Using the code hereunder, an existing topic model can be imported."
   ]
  },
  {
   "cell_type": "markdown",
   "metadata": {
    "id": "KUhDIihrA5Tf"
   },
   "source": [
    "#### 4.2.1 Import model"
   ]
  },
  {
   "cell_type": "markdown",
   "metadata": {
    "id": "ql5u8CNiwVBr"
   },
   "source": [
    "Write down the name of the datafile used initially hereunder."
   ]
  },
  {
   "cell_type": "code",
   "execution_count": 22,
   "metadata": {
    "executionInfo": {
     "elapsed": 306,
     "status": "ok",
     "timestamp": 1626379867588,
     "user": {
      "displayName": "Tristan de Wildt",
      "photoUrl": "",
      "userId": "12635936161789443610"
     },
     "user_tz": -120
    },
    "id": "jS50hM7-8Ogj"
   },
   "outputs": [],
   "source": [
    "file_name_existing_model = \"scopus_nucl_energy.csv\"\n",
    "#file_name_existing_model = \"scopus_energy_policy.csv\"\"\n",
    "#file_name_existing_model = \"scopus_privacy.csv\"\n",
    "\n",
    "'''--------------------------------------------------------------------------'''\n",
    "\n",
    "imported_data = import_topic_model(file_name_existing_model)\n",
    "model_and_vectorized_data = imported_data[0]\n",
    "dict_anchor_words = imported_data[1]\n",
    "best_number_of_topics = imported_data[2]"
   ]
  },
  {
   "cell_type": "markdown",
   "metadata": {
    "id": "n64SVa7SAxDZ"
   },
   "source": [
    "#### 4.2.2 Print the existing topic model"
   ]
  },
  {
   "cell_type": "markdown",
   "metadata": {
    "id": "sjXUaOSAwwwz"
   },
   "source": [
    "The code hereunder prints the topic model that was just imported."
   ]
  },
  {
   "cell_type": "code",
   "execution_count": 23,
   "metadata": {
    "colab": {
     "base_uri": "https://localhost:8080/"
    },
    "executionInfo": {
     "elapsed": 5670,
     "status": "ok",
     "timestamp": 1626379876531,
     "user": {
      "displayName": "Tristan de Wildt",
      "photoUrl": "",
      "userId": "12635936161789443610"
     },
     "user_tz": -120
    },
    "id": "hEDJP8cgAwKI",
    "outputId": "74707e88-9e06-472d-8956-5d78e233b59c"
   },
   "outputs": [
    {
     "name": "stdout",
     "output_type": "stream",
     "text": [
      "Topic #0 (Safety): safety, accident, the safety, safety and, severe, severe accident, fukushima, safety of, accidents, nuclear safety\n",
      "Topic #1 (Security): security, proliferation, industry, nuclear industry, energy security, power industry, non proliferation, weapons, technologies, nuclear weapons\n",
      "Topic #2 (Sustainability): renewable, sustainable, electricity, sustainability, energy, fossil, nuclear energy, coal, of electricity, supply\n",
      "Topic #3 (Economic viability): economic, costs, meet, to meet, and economic, meet the, economic growth, the economic, capital, capacity\n",
      "Topic #4 (Intergenerational justice): degradation, degradation of, where the, integrity, where, integrity of, the integrity, structural, concerns, mechanisms\n",
      "Topic #5: based, based on, method, accuracy, method is, is based, method for, method of, this method, accuracy of\n",
      "Topic #6: data, analyzed, measured, were analyzed, data from, the data, data for, calculated, data and, are analyzed\n",
      "Topic #7: structures, structures and, affect, affect the, and components, piping, loads, stresses, previously\n",
      "Topic #8: state of, state, variety, variety of, art, the art, fuel assemblies, the state, assemblies, explore\n",
      "Topic #9: results, the results, results of, results are, these results, results from, results and, results in, results the, cases\n",
      "Topic #10: features, features of, presence, presence of, the presence, analyses of, analyses, safety features, sensitivity analysis, sensitivity\n",
      "Topic #11: environmental, levels of, levels, the environmental, and environmental, five, topics, environmentally, life cycle, meeting\n",
      "Topic #12: within the, within, iv, generation iv, the highest, highest, aims, aims at, gen, supercritical\n",
      "Topic #13: irradiated, close, close to, species, irradiation, concentrations, separated, rates, samples, deposition\n",
      "Topic #14: system, the system, system is, system the, system in, system for, system and, cooling system, energy system, safety system\n",
      "Topic #15: however, however the, reference, the reference, reduced, once, et, moreover, 22, to have\n",
      "Topic #16: effect, time, effect of, the effect, effect on, the time, value, value of, time of, time and\n",
      "Topic #17: test, testing, reliability, the test, reliability of, test facility, test results, and reliability, test reactor, testing of\n",
      "Topic #18: less than, less, shows that, shows, device, half\n",
      "Topic #19: pressure, steam, steam generator, the pressure, tube, of steam, pressure and, generator, the steam, exchanger\n",
      "Topic #20: 2018, copyright 2018, 2019, leads, leads to, the methodology, methodology, adopted, mitigation\n",
      "Topic #21: key, the key, issues, implications\n",
      "Topic #22: considered, the purpose, purpose of, purpose, be considered, is considered, are considered, considered to, considered as, considered in\n",
      "Topic #23: due, due to, out, carried, carried out, evaluate, to evaluate, evaluate the, were carried, estimate\n",
      "Topic #24: requirements, requirements for, the last, the corresponding, last, involved, requirements of, involved in, the requirements, decision making\n",
      "Topic #25: long, long term, term, the long, and long, long lived, lived, short, of material, likely\n",
      "Topic #26: reserved, all rights, rights reserved, rights, all, reserved nan, ltd all, elsevier all, right reserved, all right\n",
      "Topic #27: end, end of, the end, respect, respect to, with respect, of radionuclides, radionuclides, both the, front\n",
      "Topic #28: one of, most, one, the most, is one, needed, most important, most of, needed to, is needed\n",
      "Topic #29: behavior, behavior of, modified, upper, geometry, phase, the modified, occurs, diameter, modes\n",
      "Topic #30: experimental, the experimental, experimental data, experimental results, an experimental, of experimental, validated, theoretical, experimentally, performed in\n",
      "Topic #31: more, more than, amount, amount of, increasing the, stations, increasing, and more, for more, power stations\n",
      "Topic #32: reactor, core, the reactor, the core, cooled, nuclear reactor, reactor core, reactor the, coolant, of reactor\n",
      "Topic #33: technology, nuclear technology, technology and, kind of, kind, and technology, reactor technology, technology the, science and\n",
      "Topic #34: carlo, monte carlo, monte, prediction, prediction of, multiplication, thermal hydraulics, the prediction, neutronics, codes\n",
      "Topic #35: investigate, to investigate, analyze, investigate the, to analyze, analyze the, the above, formation of, the formation, formation\n",
      "Topic #36: possible, possible to, is possible, together with, together, the possible, what, makes, look, 500\n",
      "Topic #37: generated, generated by, hydro\n",
      "Topic #38: during, during the, furthermore, element, post\n",
      "Topic #39: flow, loss of, hydraulic, thermal hydraulic, loss, dimensional, heat, heat transfer, transient, thermal\n",
      "Topic #40: we, we have, previous, determined by, the previous, determined, instead, molecular\n",
      "Topic #41: water, water reactor, pressurized, pressurized water, water reactors, light water, light, boiling water, boiling, reactor pwr\n",
      "Topic #42: source, efficiency, source of, consumption, efficiency of, energy source, energy consumption, efficiency and, co2, the efficiency\n",
      "Topic #43: stainless, steel, stainless steel, steels, austenitic, environments, susceptibility, strength, conference\n",
      "Topic #44: future, next, the future, the next, needs, waste, repository, energy needs, for future, next generation\n",
      "Topic #45: therefore, period, the period, solve, period of, to solve, therefore the, always, even, though\n",
      "Topic #46: because, second, because of, the second, able, able to, because the, rise\n",
      "Topic #47: compared, compared to, compared with, are compared, and compared, were compared, with the, 90, the one\n",
      "Topic #48: using, using the, by using, confirm, to confirm, confirm the, of using, estimated, performed using, linear\n",
      "Topic #49: around, focused, focused on, around the, provided by, provided, start, expansion, put\n",
      "Topic #50: measurements, measurement, sensor, measurement of, sensors, gamma, measurements of, detection, resolution, detectors\n",
      "Topic #51: agreement, agreement with, good agreement, good, area of, the field, area, field of, field, are in\n",
      "Topic #52: code, calculations, investigated, function, function of, as function, code and, the code, calculations of, was investigated\n",
      "Topic #53: used, used to, be used, used in, used for, is used, used as, are used, was used, widely used\n",
      "Topic #54: other, the other, and other, in other, of other, with other, of human, industries\n",
      "Topic #55: increase, increase in, would be, does, does not, would, to increase, the increase, the fact, increase the\n",
      "Topic #56: management, construction, construction of, the construction, past, the past, waste management, management of, management and, authority\n",
      "Topic #57: achieve, to achieve, target, the target, targets, 1990, limit, maintain\n",
      "Topic #58: cross, advanced, resulting, cross section, section, the advanced, of advanced, consisting, consisting of, decay heat\n",
      "Topic #59: found, radiation, found that, dose, was found, found to, the radiation, of radiation, and radiation, dose rate\n",
      "Topic #60: thus, small, passive, interest, passive safety, of small, of interest, thus the, the small, and thus\n",
      "Topic #61: national, public, the national, government, the public, is now, year, started, and will, now\n",
      "Topic #62: approach, objective, an important, npps, the objective, approach to, important, objective of, plants npps, information\n",
      "Topic #63: in this, multi, introduced, hence, of high, are introduced, whether, with high, verified, difference\n",
      "Topic #64: improvement, improvement of, coupled with, coupled\n",
      "Topic #65: effects, effects of, the effects, normal operation, normal, finally the, effects on, to predict, predict, finally\n",
      "Topic #66: transport, included, the transport, radionuclide, included in, nuclides, distributions, contamination, ones, the gas\n",
      "Topic #67: obtain, to obtain\n",
      "Topic #68: current, the current, review, review of, they, they are, come, replace, sites, serve\n",
      "Topic #69: applied, application, applied to, application of, process, process of, the process, the application, is applied, was applied\n",
      "Topic #70: ability, operate, evaluating, an alternative, alternative, ability to, demonstrated that, to operate, evaluating the, demonstrated\n",
      "Topic #71: study, this study, study of, study on, study the, the study, to study, study is, to verify, verify\n",
      "Topic #72: reactors, nuclear reactors, reactors and, reactors in, reactors the, power reactors, cooled reactors, reactors are, inherent, deployment\n",
      "Topic #73: these, of these, required, required to, for these, on these, include, in these, the required, required for\n",
      "Topic #74: according, according to, but, about, only, but the, about the, limited, for this, especially\n",
      "Topic #75: operation, operation of, operation and, set, following, the following, set of, operation in, the operation, set up\n",
      "Topic #76: up, up to, each, removal, for each, remove, heat removal, average, to remove, of each\n",
      "Topic #77: be, to be, will be, will, must be, must, be the, have to, will have, adequately\n",
      "Topic #78: developed, been developed, developed by, developed to, developed and, was developed, developed for, developed in, is developed, were developed\n",
      "Topic #79: number, number of, reduce, components, to reduce, identify, to identify, reduce the, consistent, consistent with\n",
      "Topic #80: among, among the, south, option for, option, much, smaller, east, characterized, better\n",
      "Topic #81: first, the first, types of, types, account, into account, version, actual, understand, applicability of\n",
      "Topic #82: then, provides, then the, perform, to enhance, to perform, divided, provides an, enhance, identification\n",
      "Topic #83: need, need to, the need, need for, address, to address, address the, require, deployment of, energy nuclear\n",
      "Topic #84: japan, facilities, nuclear facilities, in japan, training, japanese, jaea, education, decommissioning, network\n",
      "Topic #85: reliable, sufficient, this research, and water, vacuum, interface, and high\n",
      "Topic #86: country, russia, the country, across, across the, in russia, russian, examines, region, context\n",
      "Topic #87: elsevier, elsevier ltd, ltd, 2010 elsevier, by elsevier, 2014 elsevier, 2015 elsevier, 2017 elsevier, 2018 elsevier, 2009 elsevier\n",
      "Topic #88: evaluation, evaluation of, the evaluation, staff, evaluated, community, extensive, of various, replacement\n",
      "Topic #89: new, of new, the new, new nuclear, and new, for new, throughout the, throughout, projects, nuclear plants\n",
      "Topic #90: problems, adoption, problems of, installation, achieving, how, class, path, usa\n",
      "Topic #91: designed, addition, in addition, designed to, inside the, consists, inside, consists of, to simulate, simulate\n",
      "Topic #92: associated, particular, regulatory, associated with, in particular, licensing, particular the, paper will, doe, energy doe\n",
      "Topic #93: aspects, aspects of, and waste, recommendations, decisions\n",
      "Topic #94: atomic energy, atomic, international atomic, japan atomic, agency iaea, of japan, society of\n",
      "Topic #95: fuel, fuel cycle, nuclear fuel, cycle, spent, the fuel, fuel and, of fuel, spent fuel, and fuel\n",
      "Topic #96: taken, taken into, be taken, steps, depend\n",
      "Topic #97: part, part of, since the, means of, means, since, as part, implemented in, by means, implemented\n",
      "Topic #98: three, the three, combination, combination of, changes, changes in, characteristic, those, against, considerations\n",
      "Topic #99: low, carbon, while, while the, 10, of 10, lower, low carbon, the low, and low\n",
      "Topic #100: of nuclear, protection, the nuclear, safe, measures, actions, from nuclear, acceptance, 2030, scenario\n",
      "Topic #101: presented, are presented, is presented, presented in, presented the, the various, spectra, is described\n",
      "Topic #102: primary, the primary, rate, rate of, respectively the, respectively, simulated, primary energy, primary loop, to that\n",
      "Topic #103: case, case of, the case, in case, concerned, central\n",
      "Topic #104: conditions, under, under the, containment, vessel, conditions the, the containment, pressure vessel, conditions and, conditions of\n",
      "Topic #105: at, at the, at nuclear, at an, at least, at low, 25, cold, 000, hot\n",
      "Topic #106: obtained, results obtained, obtained by, obtained from, were obtained, the obtained, are obtained, obtained for, 20, volume\n",
      "Topic #107: capability, before, way, capability of, combined, combined with, effective, way to, proved, an effective\n",
      "Topic #108: was, were, determine, to determine, it was, determine the, showed, performed, which was, was to\n",
      "Topic #109: from, from the, this is, include the, often, prevention, coming, arising, leakage, mean\n",
      "Topic #110: electric, developing, electric power, company, evolution, in developing, evolution of, members, utility, initiatives\n",
      "Topic #111: nuclear power, power, power plant, power plants, plants, plant, npp, in nuclear, the plant, plants the\n",
      "Topic #112: systems, energy systems, systems and, systems in, systems are, systems the, power systems, systems for, control systems, reactor systems\n",
      "Topic #113: condition, on the, condition of, feature, postulated, quantitative, occur, phenomena, findings\n",
      "Topic #114: work, this work, work is, fission products, the work, products, relevant\n",
      "Topic #115: been, has been, have been, has, have, been performed, been proposed, been conducted, handling, pressures\n",
      "Topic #116: technical, the technical, technical and, and technical, knowledge of, prospects for, knowledge, prospects, social, questions\n",
      "Topic #117: improve, to improve, is being, improve the, along with, along, being, being developed\n",
      "Topic #118: temperature, high temperature, high, hydrogen, corrosion, cracking, stress, stress corrosion, crack, alloy\n",
      "Topic #119: not, is not, can not, not only, are not, not be, do not, but also, will not, do\n",
      "Topic #120: type, facility, loop, integral, constructed, break, type of, when the, compact, 2012\n",
      "Topic #121: paper, this paper, the paper, paper presents, paper describes, presents, paper is, describes, paper the, describes the\n",
      "Topic #122: neutron, same, the same, the neutron, and neutron, of neutron, neutron flux, flux, spectrum, literature\n",
      "Topic #123: algorithm, dynamic, accurate, automatic, differential, functions, classification, proportional, location\n",
      "Topic #124: assessment, assessment of, safety assessment, the assessment, assessment psa, assessments, assessed, appropriate, hypothetical, adapted\n",
      "Topic #125: and then, for an, layer, primarily, responses, step\n",
      "Topic #126: world, global, the world, the global, global nuclear, third, the third, global energy, the article, partnership\n",
      "Topic #127: lead, lead to, objectives of, lead cooled, objectives, parallel, geometries, all the, added\n",
      "Topic #128: analysis, analysis of, the analysis, calculation, analysis and, the calculation, and analysis, analysis the, calculation of, analysis is\n",
      "Topic #129: fraction, circuit, in which, stability, fraction of, excellent, which the, the power, the base, for power\n",
      "Topic #130: uranium, fission, of uranium, actinides, actinide, the fission, enrichment, transmutation, minor, thorium\n",
      "Topic #131: the main, main, basis, implementation, the basis, basis of, implementation of, basis for, the implementation, focus on\n",
      "Topic #132: non, the initial, initial, air, and non, the non, of non, so that, so, non nuclear\n",
      "Topic #133: implement, to implement, although the, although, reports\n",
      "Topic #134: over, over the, years, major, the major, demonstrate, to demonstrate, lack of, lack, years the\n",
      "Topic #135: there, there is, there are, some of, some, maintenance, the early, early, additional, and maintenance\n",
      "Topic #136: use, use of, the use, use in, for use, use the, energy use, to use, acceptable, re\n",
      "Topic #137: model, simulation, modeling, simulations, validation, the simulation, model of, simulation of, model for, computational\n",
      "Topic #138: behaviour, rod, behaviour of, cladding, pool, below, active\n",
      "Topic #139: necessary, necessary to, is necessary, difficult to, difficult, designing, of its\n",
      "Topic #140: institute, research institute, energy research, institute of, research, leading to, leading, korea, research on, 60\n",
      "Topic #141: abstract, abstract available, no abstract, available nan, available, no, which, for the, and the\n",
      "Topic #142: in order, order to, order, was proposed, analysed, 70, are discussed, drawn\n",
      "Topic #143: can, can be, that can, it can, which can, and can, can provide, top, direction, internal\n",
      "Topic #144: european, the european, status, status of, overview, overview of, an overview, europe, project, the status\n",
      "Topic #145: american nuclear, nuclear society, american, society all, society, 2018 american\n",
      "Topic #146: different, of different, the different, two different, for different, with different, in different, applicable to, different types, applicable\n",
      "Topic #147: also, is also, are also, also be, and also, will also, it also, were also, also the, we also\n",
      "Topic #148: indicate, indicate that, product, fission product, results indicate, growth, growth of, rapidly, suggest, elevated\n",
      "Topic #149: mev, neutrons, of neutrons, proton, energies, induced, incident, energy of, beam, intensity\n",
      "Topic #150: whole, the whole\n",
      "Topic #151: china, in china, relationship, relationship between, the relationship, between, including the, analyzes, points, summarized\n",
      "Topic #152: by asme, asme, risk, probabilistic, asme nan, the risk, psa, regulatory commission, probabilistic safety, risk of\n",
      "Topic #153: control, proposed, the proposed, and control, is proposed, the control, proposed for, instrumentation, monitoring, control of\n",
      "Topic #154: possibility, understanding of, understanding, hand, other hand, the possibility, possibility of, depending, intended to, intended\n",
      "Topic #155: potential, the potential, the total, total, could, could be, reduction, advantages, reduction of, potential for\n",
      "Topic #156: an, of an, is an, with an, as an, in an, and an, to an, by an, on an\n",
      "Topic #157: by jsme, jsme, copyright, 2019 by, 2018 2019, copyright 2015, 2015 by, 2015, protect, to protect\n",
      "Topic #158: than, than the, higher, higher than, than that, larger, rather, vary, times, taylor\n",
      "Topic #159: international, agency, energy agency, the international, iaea, the iaea, countries, cooperation, an international, nea\n",
      "Topic #160: station, units, power station, site, unit, regulations, workers, standards, have the, march\n",
      "Topic #161: shown, shown that, is shown, author, the author, shown to, feasible, enough, produced, medium\n",
      "Topic #162: methods, made, methods to, methods for, methods and, methods are, made of, been made, is made, the methods\n",
      "Topic #163: present, the present, final, the final, consequences, present work, consequences of, followed by, followed, subsequent\n",
      "Topic #164: experiments, mass, laboratory, surface, national laboratory, the surface, reaction, reactions, the mass, experiments were\n",
      "Topic #165: show, show that, results show, influence of, the influence, influence, caused by, caused, that the, variation of\n",
      "Topic #166: related, related to, safety related, the fundamental, fundamental, interactions\n",
      "Topic #167: fast, fast reactor, sodium, fast reactors, cooled fast, sections, sodium cooled, cross sections, liquid, liquid metal\n",
      "Topic #168: it, it is, and it, it has, it will, concluded that, that it, as it, is important, important to\n",
      "Topic #169: terms of, terms, in terms, their, and their, to their, of their, priority, groups\n",
      "Topic #170: environment, the environment, produce, to produce, areas, to make, make, areas of, health, environment the\n",
      "Topic #171: line, on line, occurrence, by the, numerous, after the\n",
      "Topic #172: design, the design, design and, design of, design for, design basis, reactor design, system design, preliminary, design the\n",
      "Topic #173: ensure, support, to ensure, to support, support the, existing, support of, the existing, ensure the, ensure that\n",
      "Topic #174: business media, science business, springer science, springer, media, business, science, media inc, inc nan, inc\n",
      "Topic #175: view, view of, help, to help, are still, still, point of, reasons\n",
      "Topic #176: us, natural, the us, problem, problem of, the problem, the aim, and natural, of natural, the natural\n",
      "Topic #177: large, scale, of large, full, large scale, description, description of, the full, entire, the entire\n",
      "Topic #178: the two, assess, to assess, two, assess the, authors, the authors, and two, with two, in our\n",
      "Topic #179: focuses, focuses on, depth, seismic, in depth, approaches, of seismic, approaches to, defense, common\n",
      "Topic #180: development, development of, the development, and development, united, development and, the united, united states, department of, department\n",
      "Topic #181: materials, range, range of, tests, material, materials in, specimens, of materials, the range, energy range\n",
      "Topic #182: properties, properties of, investigation of, optimal, investigation, the optimal, examined, are examined, choice\n",
      "Topic #183: role, role of, role in, the role, play, plays, increasingly, plans, vital, itself\n",
      "Topic #184: or, if, expected, expected to, is expected, and or, either, if the, too, user\n",
      "Topic #185: chemistry, quality, significant, quality of, detailed, expert, phases, water chemistry, issue, and are\n",
      "Topic #186: should be, level, should, high level, level of, effectiveness, effectiveness of, the effectiveness, the level, building\n",
      "Topic #187: fusion, nuclear fusion, plasma, fusion energy, tokamak, fusion power, of fusion, comparable to, comparable, blanket\n",
      "Topic #188: such, such as, develop, to provide, to develop, provide, integration, of such, requires, etc\n",
      "Topic #189: through the, through, may be, may, that may\n",
      "Topic #190: impact, impact of, impact on, the impact, environmental impact, impacts, countries the, per, regarding\n",
      "Topic #191: performance, performance of, the performance, optimized, promising\n",
      "Topic #192: result, into the, as result, into, result of, structure and, result in, the result, structure, composition\n",
      "Topic #193: concept, feasibility, the feasibility, conceptual, feasibility of, cycles, concept of, modular, fuel cycles, integrated\n",
      "Topic #194: comparison, distribution, determination, parameters, determination of, comparison of, comparison with, values, distribution of, parameters are\n",
      "Topic #195: verification, includes, extension, verification of, extension of, kinds, kinds of, includes the, the physical, and verification\n",
      "Topic #196: as well, well as, well, as for, multiple, represents, reviews, utilizing, remote, as to\n",
      "Topic #197: characteristics, characteristics of, the maximum, maximum, the characteristics, velocity, speed, response to, equations, give\n",
      "Topic #198: overall, program, framework, the overall, framework of, capable, options, capable of, the framework, the program\n",
      "Topic #199: radioactive, currently, radioactive waste, of radioactive, is currently, introduction, introduction of, wastes, are currently, contribute to\n"
     ]
    }
   ],
   "source": [
    "number_of_words_per_topic = 10\n",
    "report_topics(model_and_vectorized_data[0], dict_anchor_words, number_of_words_per_topic)"
   ]
  },
  {
   "cell_type": "markdown",
   "metadata": {
    "id": "WKtNRP-jBJaI"
   },
   "source": [
    "#### 4.2.3. Print the anchor words used for the previous model"
   ]
  },
  {
   "cell_type": "markdown",
   "metadata": {
    "id": "YX66rDfjw6bA"
   },
   "source": [
    "The code hereunder prints the anchor words used to create the previous topic model."
   ]
  },
  {
   "cell_type": "code",
   "execution_count": 25,
   "metadata": {
    "colab": {
     "base_uri": "https://localhost:8080/"
    },
    "executionInfo": {
     "elapsed": 401,
     "status": "ok",
     "timestamp": 1626379888136,
     "user": {
      "displayName": "Tristan de Wildt",
      "photoUrl": "",
      "userId": "12635936161789443610"
     },
     "user_tz": -120
    },
    "id": "gGSujJBhBHGg",
    "outputId": "c26d148c-a95d-4984-d1a9-6d360b33b1dd"
   },
   "outputs": [
    {
     "name": "stdout",
     "output_type": "stream",
     "text": [
      "{'Economic viability': ['economic viability',\n",
      "                        'economic',\n",
      "                        'economic potential',\n",
      "                        'costs',\n",
      "                        'cost effective'],\n",
      " 'Intergenerational justice': ['intergenerational justice',\n",
      "                               'intergenerational equity',\n",
      "                               'intergenerational ethics',\n",
      "                               'intergenerational equality',\n",
      "                               'intergenerational relations',\n",
      "                               'justice',\n",
      "                               'intergenerational',\n",
      "                               'future generations',\n",
      "                               'present generations',\n",
      "                               'past generations'],\n",
      " 'Safety': ['safety', 'accident'],\n",
      " 'Security': ['security',\n",
      "              'secure',\n",
      "              'malicious',\n",
      "              'proliferation',\n",
      "              'cybersecurity',\n",
      "              'cyber',\n",
      "              'sabotage',\n",
      "              'antisabotage',\n",
      "              'terrorism',\n",
      "              'theft'],\n",
      " 'Sustainability': ['sustainability',\n",
      "                    'sustainable',\n",
      "                    'renewable',\n",
      "                    'durability',\n",
      "                    'durable']}\n"
     ]
    }
   ],
   "source": [
    "pprint.pprint(dict_anchor_words)"
   ]
  },
  {
   "cell_type": "markdown",
   "metadata": {
    "id": "naoD2x4BBSoI"
   },
   "source": [
    "#### 4.2.4. Apply the existing topic model to the dataset"
   ]
  },
  {
   "cell_type": "code",
   "execution_count": 26,
   "metadata": {
    "executionInfo": {
     "elapsed": 7376,
     "status": "ok",
     "timestamp": 1626379907981,
     "user": {
      "displayName": "Tristan de Wildt",
      "photoUrl": "",
      "userId": "12635936161789443610"
     },
     "user_tz": -120
    },
    "id": "ywlnqeBEBa_p"
   },
   "outputs": [],
   "source": [
    "df_with_topics = create_df_with_topics(df, model_and_vectorized_data[0], model_and_vectorized_data[1], best_number_of_topics)"
   ]
  },
  {
   "cell_type": "markdown",
   "metadata": {
    "id": "3m0at_38BNiY"
   },
   "source": [
    "#### 4.2.5 Evaluate the fitness of the topic model"
   ]
  },
  {
   "cell_type": "markdown",
   "metadata": {
    "id": "CbX0jG7iBx3f"
   },
   "source": [
    "##### 4.2.5.1 Verification of topics related to values"
   ]
  },
  {
   "cell_type": "markdown",
   "metadata": {
    "id": "P31wQWIaCFmd"
   },
   "source": [
    "The code in this section can be used to verify that the documents attributed to a topic are indeed addressing the value in which we are interested. Set the topic number of the topic you want to evaluate at topic_to_evaluate and the number of randomly taken documents at random_number_documents_to_return."
   ]
  },
  {
   "cell_type": "code",
   "execution_count": 27,
   "metadata": {
    "colab": {
     "base_uri": "https://localhost:8080/",
     "height": 655
    },
    "executionInfo": {
     "elapsed": 225,
     "status": "ok",
     "timestamp": 1626379911960,
     "user": {
      "displayName": "Tristan de Wildt",
      "photoUrl": "",
      "userId": "12635936161789443610"
     },
     "user_tz": -120
    },
    "id": "w3eYMpT8CLze",
    "outputId": "922b8f1b-65fb-4430-ddb4-3167baa21912"
   },
   "outputs": [
    {
     "data": {
      "text/html": [
       "<table border=\"1\" class=\"dataframe\">\n",
       "  <thead>\n",
       "    <tr style=\"text-align: center;\">\n",
       "      <th></th>\n",
       "      <th>Random 5 documents in topic Safety.</th>\n",
       "    </tr>\n",
       "  </thead>\n",
       "  <tbody>\n",
       "    <tr>\n",
       "      <th>20493</th>\n",
       "      <td>Critical heat flux prediction using deep learning neural networks The exact prediction of critical heat flux CHF is extremely important for the safety of nuclear reactors This paper proposes a CHF prediction method based on deep learning neural network DLNN DLNN is an innovative method which combines the deep learning technique with the conventional artificial neural networks ANNs It reinforces advantage of the deep learning and ANNs while eliminating the shortcomings The CHF dataset used in this paper are collected from the open published literature The CHF dataset are divided into the training dataset and testing dataset to avoid the over fitting problem The reliability of DLNN is validated by analyzing the effect of main parameters on CHF The prediction results of DLNN are compared with those of BPNN in previous studies The results show that DLNN gives a satisfactory accuracy and fits the experimental data better than a back propagation neural network BPNN 2019 by ASME nan</td>\n",
       "    </tr>\n",
       "    <tr>\n",
       "      <th>18790</th>\n",
       "      <td>Ultra large diameter glass reinforced plastic pipe outsourcing of concrete structure for conventional island construction management practices It is very rare to adopt ultra large diameter glass reinforced plastic pipe in the Chinese nuclear power field The construction techniques like safety and quality control design tracking construction organization schedule control and other perspectives are still lacking of experiences So the accumulation of construction experiences for this kind of structure became a key work in the nuclear power plant construction phase Copyright 2017 ASME Cap1400 Construction experiences Glass reinforced plastic pipe Ultra large diameter</td>\n",
       "    </tr>\n",
       "    <tr>\n",
       "      <th>5930</th>\n",
       "      <td>IIST small break LOCA experiments with passive core cooling injection The purpose of this study is to evaluate the performance of a passive core cooling system PCCS with passive injection during the cold leg small break loss of coolant accidents SBLOCAs experiments conducted at the Institute of Nuclear Energy Research INER Integral System Test IIST facility Four tests were performed simulating break sizes of 0 2 2 approximately corresponding to 1 25 4 breaks for a referenced nuclear power plant at cold leg for assessing the PCCS capability in accident management The key thermal hydraulic phenomena to core heat removal for PCCS are observed and discussed The experimental results show that the PCCS has successfully provided a continuous removal of core heat and a long term core cooling can be reached for all cases of SBLOCA 2005 Elsevier B V All rights reserved nan</td>\n",
       "    </tr>\n",
       "    <tr>\n",
       "      <th>10069</th>\n",
       "      <td>Application of risk analysis tools to wind energy projects This presentation will address the use of risk analysis tools and methodologies currently used in the broader energy industry to the challenges of quantifying and managing wind industry risks Other industries including most traditional fossil fuel and nuclear energy industries use risk based analysis techniques to quantify and prioritize a wide variety of problems ranging from worker safety and accident avoidance to resource acquisition and management of operational costs The use of these tools allows better understanding of the risks so they can be appropriately assessed and managed thus reducing overall project costs by preventing costly problems and reducing the This presentation presents the results of a study of how risk based analysis can reduce the cost of capital to the wind industry by reducing the exposure to risk The presentation includes discussion of several areas First the presentation presents a background on risk based analysis including the purpose and benefits of risk analyses an overview of available tools and methods used for risk analysis and examples of successful application of the methodology in developing and financing energy projects Following this background an example case study will be presented illustrating the application of risk based analysis tools for an investor seeking to invest in a development stage wind energy project The case study will include registration tracking quantification and management of risks and activities associated with selection and purchase of the project purchase of turbines project construction and long term successful operation of the project The example will show how the decision making process can be improved and how the chance that a project will not meet expectations can be minimized through comprehensive identification and analysis of risks Finally the presentation will present discussion of ways that different types of investors involved in wind energy can use risk analysis at different stages in the project lifecycle By providing a structured approach to identifying quantifying and managing risks these tools are shown to allow investors to manage their exposure to the risk and thus help to reduce the cost of capital nan</td>\n",
       "    </tr>\n",
       "    <tr>\n",
       "      <th>13252</th>\n",
       "      <td>National technical capability development in nuclear power programmes This chapter briefly describes the need and the means for developing national technical capabilities for setting up the first nuclear power plant NPP in a country and its operation and management in the long term Orientation training of staff in nuclear science and technology including training in a research reactor development of a technical core group and national participation in siting and construction of the NPP is recommended for the initial phase For the longer term enhancement of expertise in areas such as reactor core management in service inspection and management of radioactive waste and spent fuel have been suggested The importance of developing technical support organizations developing national safety standards and participation in international cooperative activities is also touched upon 2012 Woodhead Publishing Limited All rights reserved Long term operation and management of NPP National participation in siting and construction of NPP Preparing for start of NPP operation Technical capabilities for establishing first nuclear power plant NPP in a country</td>\n",
       "    </tr>\n",
       "  </tbody>\n",
       "</table>"
      ],
      "text/plain": [
       "<IPython.core.display.HTML object>"
      ]
     },
     "metadata": {
      "tags": []
     },
     "output_type": "display_data"
    }
   ],
   "source": [
    "topic_to_evaluate = \"Safety\"\n",
    "random_number_documents_to_return = 5\n",
    "\n",
    "'''--------------------------------------------------------------------------'''\n",
    "\n",
    "print_sample_documents_related_to_topic(df_with_topics, dict_anchor_words, topic_to_evaluate, random_number_documents_to_return)"
   ]
  },
  {
   "cell_type": "markdown",
   "metadata": {
    "id": "dZnhkqeSCMLf"
   },
   "source": [
    "Using the code hereunder, you can evaluate whether a certain keyword is responsible for capturing aspects of a value or not."
   ]
  },
  {
   "cell_type": "code",
   "execution_count": 28,
   "metadata": {
    "colab": {
     "base_uri": "https://localhost:8080/",
     "height": 879
    },
    "executionInfo": {
     "elapsed": 216,
     "status": "ok",
     "timestamp": 1626379914702,
     "user": {
      "displayName": "Tristan de Wildt",
      "photoUrl": "",
      "userId": "12635936161789443610"
     },
     "user_tz": -120
    },
    "id": "p7--7WFvCOK-",
    "outputId": "634e03c4-374c-4818-ed44-0842b29154b5"
   },
   "outputs": [
    {
     "data": {
      "text/html": [
       "<table border=\"1\" class=\"dataframe\">\n",
       "  <thead>\n",
       "    <tr style=\"text-align: center;\">\n",
       "      <th></th>\n",
       "      <th>Random 5 documents in topic 0 with keywords 'safe.</th>\n",
       "    </tr>\n",
       "  </thead>\n",
       "  <tbody>\n",
       "    <tr>\n",
       "      <th>16390</th>\n",
       "      <td>An approach to identify and analyze the most significant operator tasks in a new built nuclear power plant Nuclear power plants are large complex systems with a m ultitude of different operator tasks in various situations These operator tasks are described in the operating manual by using event and symptom based procedures in order to direct the operators through a specific situation in normal as well as accident conditions Due to the resulting enormous number of potential operator tasks a detailed analysis of every task in its entirety in the frame of a project life span is a very time consuming activity and practically not worthwhile A methodical approach is necessary to screen and evaluate the operating tasks in order to define a representative set of tasks regarding the plant s safety and operational goals By applying this method the operating tasks are characterized along the criteria of safety relevance plant availability time criticality task complexity and human reliability Based on the results of this evaluation the most significant operator tasks and scenarios are identified for further studies These studies include the performance of paper based walkthroughs and simulator studies to evaluate the adequacy of both the distribution of functions between human and machine and the capability of the operating personnel to perform the assigned tasks The paper presents an advanced but practical approach of task evaluation and analysis in a new built NPP project Human factors Operator tasks Task analysis Validation</td>\n",
       "    </tr>\n",
       "    <tr>\n",
       "      <th>14010</th>\n",
       "      <td>PIRT and accident analysis for helically coiled mesh type double wall tube failure in SG Toshiba is developing a sodium cooled fast reactor with double wall tube steam generator SG to prevent sodium water reaction SWR with an SG tube failure SWR is unique phenomena for sodium cooled fast reactors and it is important to evaluate the accident consequences To demonstrate sufficient knowledge of the phenomena related to SWR and show that the reactor design addresses these phenomena appropriately Toshiba utilizes the Phenomena Identification and Ranking Table PIRT process As a result most of the selected important phenomena are related to tube failure propagation by target wastage In order to analyze tube failure propagation in SG using double wall tube quantitatively and clarify the accident consequence of SG tube failure Toshiba developed an analysis code for failure propagation of SG tube To validate the code performance test analysis of failure propagation test in the steam generator safety tests facility SWAT 3 Run 14 in Japan Atomic Energy Agency JAEA is conducted As a result it is confirmed that the code can conservatively estimate initiation time of blow down and total amount of leak water until initiation of water blow down which are the most remarkable parameters in failure propagation phenomena as compared to the test results Furthermore failure propagation behavior for double wall tube was also evaluated and it is confirmed that the tube failure is unlikely to propagate in double wall tube than in single wall tube nan</td>\n",
       "    </tr>\n",
       "    <tr>\n",
       "      <th>21710</th>\n",
       "      <td>Demonstration of NEI 18 04 RIPB Guidance for non LWR Licensing Basis Development using PRISM PRA GE Hitachi Nuclear Energy GEH in coordination with the Licensing Modernization Project LMP Team performed a demonstration of the NEI 18 04 Risk Informed Performance Based Guidance for Non Light Water Reactor Licensing Basis Development process for the PRISM Generation IV sodium cooled fast reactor This work leveraged the recently developed PRISM Internal Events At Power IEAP PRA This demonstration included LBE Selection SSC Classification and an example Plant Capability Defense in Depth DID adequacy review across the five DID layers established in NEI 18 04 Table 5 2 Out of the 591 event sequence families identified 26 were designated as Licensing Basis Events LBEs Each LBE was further categorized as either an Anticipated Operational Occurrence AOO a Design Basis Event DBE or a Beyond Design Basis Event BDBE in accordance with the NEI 18 04 guidance PRA sensitivity studies were then utilized to determine the Required Safety Functions and to select the Safety Related SR SSCs that mitigate the consequences of DBEs to within the LBE Frequency Consequence F C Target that is established in NEI 18 04 A DID adequacy evaluation performed against the Heat Removal Required Safety Function identified several non safety related SSCs that were required for DID adequacy These SSCs were classified as Non Safety Related with Special Treatment NSRST SSCs not classified as Safety Related or NSRST in this demonstration were classified as Non Safety Related with No Special Treatment NST 2019 Westinghouse Electric Company LLC All Rights Reserved nan</td>\n",
       "    </tr>\n",
       "    <tr>\n",
       "      <th>15323</th>\n",
       "      <td>Investigation of station blackout scenario in VVER440 v230 with RELAP5 computer code During the development of symptom based emergency operating procedures SB EOPs for VVER440 v230 units at Kozloduy Nuclear Power Plant NPP a number of analyses have been performed using the RELAP5 MOD3 Carlson et al 1990 Some of them investigate the response of VVER440 v230 during the station blackout SBO The main purpose of the analyses presented in this paper is to identify the behavior of important VVER440 parameters in case of total station blackout The RELAP5 MOD3 has been used to simulate the SBO in VVER440 NPP model Fletcher and Schultz 1995 This model was developed at the Institute for Nuclear Research and Nuclear Energy Bulgarian Academy of Sciences INRNE BAS Sofia for analyses of operational occurrences abnormal events and design based scenarios The model provides a significant analytical capability for specialists working in the field of NPP safety 2015 Elsevier B V nan</td>\n",
       "    </tr>\n",
       "    <tr>\n",
       "      <th>7471</th>\n",
       "      <td>Issues in the timing of high level waste disposal An international perspective The world is facing energy difficulties for the future in terms of security of supply and climate change issues Nuclear power is virtually carbon free and it contributes to energy security being a quasi domestic source Whilst it can not provide a complete answer to these challenges it is certainly capable of providing a significant component of the answer However nuclear power remains controversial In order to gain public acceptance it is widely recognised that a number of key issues need to be addressed amongst which is resolution of the high level radioactive waste HLW including spent fuel disposal issue This is an important issue for all countries with an existing nuclear programme whether or not it is intended that nuclear power should be phased out or expanded the waste already exists and must be managed in any event It is equally important for countries planning a new nuclear power programme where none has previously existed Since nuclear power was first developed over fifty years ago HLW arisings have been stored as an interim measure It is widely believed by experts though not by many opponents of the nuclear industry nor by the public that deep geological disposal after a reasonable cooling time in interim storage is technically feasible and constitutes a safe option 1 at an acceptable cost The total volume of HLW from nuclear reactors is relatively small A key issue however is the time scale for developing such a final disposal solution Considerations of security and inter generational equity suggest that geological disposal should be implemented as soon as possible irrespective of whether or not new arisings are created The question of managing HLW is not necessarily related to the issue of building new nuclear power stations However many opponents argue that there has been insufficient demonstration of the long term safety of deep geological disposal The same opponents also argue that there should be a moratorium on building new nuclear power plants NPPs until the issue of long term management of HLW is resolved These arguments have a powerful influence on public opinion towards both the construction of a waste repository and the building of new NPPs The intent of this paper developed from the current OECD NEA study on Timing of High Level Waste Disposal is to identify and discuss some of the factors influencing the timing of the implementation of a HLW disposal strategy and to demonstrate to decision makers how these factors are affecting country strategies based on current experience Determining an optimum timescale of HLW disposal may be affected by a wide range of factors The study examines how social acceptability technical soundness environmental responsibility and economic feasibility impact on the timing of HLW disposal and can be balanced in a national radioactive waste management strategy taking the social political and economic environment into account There is clear evidence that significant fractions of the public still have serious misconceptions with respect to the issues surrounding nuclear waste The nuclear industry together with governments in those countries who would like a component of nuclear power in their energy mix has a responsibility for and a significant challenge in presenting its case to the public Copyright 2008 OECD nan</td>\n",
       "    </tr>\n",
       "  </tbody>\n",
       "</table>"
      ],
      "text/plain": [
       "<IPython.core.display.HTML object>"
      ]
     },
     "metadata": {
      "tags": []
     },
     "output_type": "display_data"
    }
   ],
   "source": [
    "topic_to_evaluate = 0\n",
    "list_of_words = [\"safe\"]\n",
    "random_number_documents_to_return = 5\n",
    "\n",
    "'''--------------------------------------------------------------------------'''\n",
    "\n",
    "print_sample_documents_related_to_topic_with_keywords(df_with_topics, dict_anchor_words, list_of_words, topic_to_evaluate, random_number_documents_to_return)"
   ]
  },
  {
   "cell_type": "markdown",
   "metadata": {
    "id": "BDz_NMSQCPkf"
   },
   "source": [
    "##### 4.2.5.2 Verification of other topics which might contain aspects of a value"
   ]
  },
  {
   "cell_type": "markdown",
   "metadata": {
    "id": "iOED8chJCWMF"
   },
   "source": [
    "To verify if there are any other topic which contain aspects of a value, we can try to use keywords and see if they are often named in these topics.\n",
    "\n",
    "Set the topic number corresponding to the value at topic_to_evaluate, and words that relate to the value in list_of_words. Running the code hereunder will show you to which topics documents mentionning these keywords were found."
   ]
  },
  {
   "cell_type": "code",
   "execution_count": 29,
   "metadata": {
    "colab": {
     "base_uri": "https://localhost:8080/",
     "height": 1000
    },
    "executionInfo": {
     "elapsed": 8551,
     "status": "ok",
     "timestamp": 1626379925575,
     "user": {
      "displayName": "Tristan de Wildt",
      "photoUrl": "",
      "userId": "12635936161789443610"
     },
     "user_tz": -120
    },
    "id": "6j5mViloCXa5",
    "outputId": "a361edc8-686e-4992-f33a-04e07f3104a8"
   },
   "outputs": [
    {
     "name": "stdout",
     "output_type": "stream",
     "text": [
      "3 documents found that contains words in the list and have not been attributed to the topic of interest.\n"
     ]
    },
    {
     "data": {
      "text/html": [
       "<table border=\"1\" class=\"dataframe\">\n",
       "  <thead>\n",
       "    <tr style=\"text-align: center;\">\n",
       "      <th></th>\n",
       "      <th>Topics</th>\n",
       "      <th>Number of documents found in each topic with keywords 'safety' which have not been assigned to topic 0.</th>\n",
       "    </tr>\n",
       "  </thead>\n",
       "  <tbody>\n",
       "    <tr>\n",
       "      <th>168</th>\n",
       "      <td>Topic #168: it, it is, and it, it has, it will</td>\n",
       "      <td>3.0</td>\n",
       "    </tr>\n",
       "    <tr>\n",
       "      <th>9</th>\n",
       "      <td>Topic #9: results, the results, results of, results are, these results</td>\n",
       "      <td>3.0</td>\n",
       "    </tr>\n",
       "    <tr>\n",
       "      <th>75</th>\n",
       "      <td>Topic #75: operation, operation of, operation and, set, following</td>\n",
       "      <td>3.0</td>\n",
       "    </tr>\n",
       "    <tr>\n",
       "      <th>35</th>\n",
       "      <td>Topic #35: investigate, to investigate, analyze, investigate the, to analyze</td>\n",
       "      <td>3.0</td>\n",
       "    </tr>\n",
       "    <tr>\n",
       "      <th>14</th>\n",
       "      <td>Topic #14: system, the system, system is, system the, system in</td>\n",
       "      <td>3.0</td>\n",
       "    </tr>\n",
       "    <tr>\n",
       "      <th>95</th>\n",
       "      <td>Topic #95: fuel, fuel cycle, nuclear fuel, cycle, spent</td>\n",
       "      <td>2.0</td>\n",
       "    </tr>\n",
       "    <tr>\n",
       "      <th>28</th>\n",
       "      <td>Topic #28: one of, most, one, the most, is one</td>\n",
       "      <td>2.0</td>\n",
       "    </tr>\n",
       "    <tr>\n",
       "      <th>113</th>\n",
       "      <td>Topic #113: condition, on the, condition of, feature, postulated</td>\n",
       "      <td>2.0</td>\n",
       "    </tr>\n",
       "    <tr>\n",
       "      <th>97</th>\n",
       "      <td>Topic #97: part, part of, since the, means of, means</td>\n",
       "      <td>2.0</td>\n",
       "    </tr>\n",
       "    <tr>\n",
       "      <th>69</th>\n",
       "      <td>Topic #69: applied, application, applied to, application of, process</td>\n",
       "      <td>2.0</td>\n",
       "    </tr>\n",
       "    <tr>\n",
       "      <th>115</th>\n",
       "      <td>Topic #115: been, has been, have been, has, have</td>\n",
       "      <td>2.0</td>\n",
       "    </tr>\n",
       "    <tr>\n",
       "      <th>157</th>\n",
       "      <td>Topic #157: by jsme, jsme, copyright, 2019 by, 2018 2019</td>\n",
       "      <td>2.0</td>\n",
       "    </tr>\n",
       "    <tr>\n",
       "      <th>17</th>\n",
       "      <td>Topic #17: test, testing, reliability, the test, reliability of</td>\n",
       "      <td>2.0</td>\n",
       "    </tr>\n",
       "    <tr>\n",
       "      <th>109</th>\n",
       "      <td>Topic #109: from, from the, this is, include the, often</td>\n",
       "      <td>2.0</td>\n",
       "    </tr>\n",
       "    <tr>\n",
       "      <th>65</th>\n",
       "      <td>Topic #65: effects, effects of, the effects, normal operation, normal</td>\n",
       "      <td>2.0</td>\n",
       "    </tr>\n",
       "    <tr>\n",
       "      <th>53</th>\n",
       "      <td>Topic #53: used, used to, be used, used in, used for</td>\n",
       "      <td>2.0</td>\n",
       "    </tr>\n",
       "    <tr>\n",
       "      <th>52</th>\n",
       "      <td>Topic #52: code, calculations, investigated, function, function of</td>\n",
       "      <td>2.0</td>\n",
       "    </tr>\n",
       "    <tr>\n",
       "      <th>128</th>\n",
       "      <td>Topic #128: analysis, analysis of, the analysis, calculation, analysis and</td>\n",
       "      <td>2.0</td>\n",
       "    </tr>\n",
       "    <tr>\n",
       "      <th>106</th>\n",
       "      <td>Topic #106: obtained, results obtained, obtained by, obtained from, were obtained</td>\n",
       "      <td>2.0</td>\n",
       "    </tr>\n",
       "    <tr>\n",
       "      <th>5</th>\n",
       "      <td>Topic #5: based, based on, method, accuracy, method is</td>\n",
       "      <td>2.0</td>\n",
       "    </tr>\n",
       "    <tr>\n",
       "      <th>91</th>\n",
       "      <td>Topic #91: designed, addition, in addition, designed to, inside the</td>\n",
       "      <td>2.0</td>\n",
       "    </tr>\n",
       "    <tr>\n",
       "      <th>55</th>\n",
       "      <td>Topic #55: increase, increase in, would be, does, does not</td>\n",
       "      <td>1.0</td>\n",
       "    </tr>\n",
       "    <tr>\n",
       "      <th>137</th>\n",
       "      <td>Topic #137: model, simulation, modeling, simulations, validation</td>\n",
       "      <td>1.0</td>\n",
       "    </tr>\n",
       "    <tr>\n",
       "      <th>140</th>\n",
       "      <td>Topic #140: institute, research institute, energy research, institute of, research</td>\n",
       "      <td>1.0</td>\n",
       "    </tr>\n",
       "    <tr>\n",
       "      <th>165</th>\n",
       "      <td>Topic #165: show, show that, results show, influence of, the influence</td>\n",
       "      <td>1.0</td>\n",
       "    </tr>\n",
       "    <tr>\n",
       "      <th>172</th>\n",
       "      <td>Topic #172: design, the design, design and, design of, design for</td>\n",
       "      <td>1.0</td>\n",
       "    </tr>\n",
       "    <tr>\n",
       "      <th>162</th>\n",
       "      <td>Topic #162: methods, made, methods to, methods for, methods and</td>\n",
       "      <td>1.0</td>\n",
       "    </tr>\n",
       "    <tr>\n",
       "      <th>48</th>\n",
       "      <td>Topic #48: using, using the, by using, confirm, to confirm</td>\n",
       "      <td>1.0</td>\n",
       "    </tr>\n",
       "    <tr>\n",
       "      <th>100</th>\n",
       "      <td>Topic #100: of nuclear, protection, the nuclear, safe, measures</td>\n",
       "      <td>1.0</td>\n",
       "    </tr>\n",
       "    <tr>\n",
       "      <th>71</th>\n",
       "      <td>Topic #71: study, this study, study of, study on, study the</td>\n",
       "      <td>1.0</td>\n",
       "    </tr>\n",
       "    <tr>\n",
       "      <th>160</th>\n",
       "      <td>Topic #160: station, units, power station, site, unit</td>\n",
       "      <td>1.0</td>\n",
       "    </tr>\n",
       "    <tr>\n",
       "      <th>68</th>\n",
       "      <td>Topic #68: current, the current, review, review of, they</td>\n",
       "      <td>1.0</td>\n",
       "    </tr>\n",
       "    <tr>\n",
       "      <th>105</th>\n",
       "      <td>Topic #105: at, at the, at nuclear, at an, at least</td>\n",
       "      <td>1.0</td>\n",
       "    </tr>\n",
       "    <tr>\n",
       "      <th>72</th>\n",
       "      <td>Topic #72: reactors, nuclear reactors, reactors and, reactors in, reactors the</td>\n",
       "      <td>1.0</td>\n",
       "    </tr>\n",
       "    <tr>\n",
       "      <th>76</th>\n",
       "      <td>Topic #76: up, up to, each, removal, for each</td>\n",
       "      <td>1.0</td>\n",
       "    </tr>\n",
       "    <tr>\n",
       "      <th>77</th>\n",
       "      <td>Topic #77: be, to be, will be, will, must be</td>\n",
       "      <td>1.0</td>\n",
       "    </tr>\n",
       "    <tr>\n",
       "      <th>78</th>\n",
       "      <td>Topic #78: developed, been developed, developed by, developed to, developed and</td>\n",
       "      <td>1.0</td>\n",
       "    </tr>\n",
       "    <tr>\n",
       "      <th>79</th>\n",
       "      <td>Topic #79: number, number of, reduce, components, to reduce</td>\n",
       "      <td>1.0</td>\n",
       "    </tr>\n",
       "    <tr>\n",
       "      <th>155</th>\n",
       "      <td>Topic #155: potential, the potential, the total, total, could</td>\n",
       "      <td>1.0</td>\n",
       "    </tr>\n",
       "    <tr>\n",
       "      <th>154</th>\n",
       "      <td>Topic #154: possibility, understanding of, understanding, hand, other hand</td>\n",
       "      <td>1.0</td>\n",
       "    </tr>\n",
       "    <tr>\n",
       "      <th>153</th>\n",
       "      <td>Topic #153: control, proposed, the proposed, and control, is proposed</td>\n",
       "      <td>1.0</td>\n",
       "    </tr>\n",
       "    <tr>\n",
       "      <th>152</th>\n",
       "      <td>Topic #152: by asme, asme, risk, probabilistic, asme nan</td>\n",
       "      <td>1.0</td>\n",
       "    </tr>\n",
       "    <tr>\n",
       "      <th>151</th>\n",
       "      <td>Topic #151: china, in china, relationship, relationship between, the relationship</td>\n",
       "      <td>1.0</td>\n",
       "    </tr>\n",
       "    <tr>\n",
       "      <th>150</th>\n",
       "      <td>Topic #150: whole, the whole</td>\n",
       "      <td>1.0</td>\n",
       "    </tr>\n",
       "    <tr>\n",
       "      <th>134</th>\n",
       "      <td>Topic #134: over, over the, years, major, the major</td>\n",
       "      <td>1.0</td>\n",
       "    </tr>\n",
       "    <tr>\n",
       "      <th>45</th>\n",
       "      <td>Topic #45: therefore, period, the period, solve, period of</td>\n",
       "      <td>1.0</td>\n",
       "    </tr>\n",
       "    <tr>\n",
       "      <th>188</th>\n",
       "      <td>Topic #188: such, such as, develop, to provide, to develop</td>\n",
       "      <td>1.0</td>\n",
       "    </tr>\n",
       "    <tr>\n",
       "      <th>16</th>\n",
       "      <td>Topic #16: effect, time, effect of, the effect, effect on</td>\n",
       "      <td>1.0</td>\n",
       "    </tr>\n",
       "    <tr>\n",
       "      <th>176</th>\n",
       "      <td>Topic #176: us, natural, the us, problem, problem of</td>\n",
       "      <td>1.0</td>\n",
       "    </tr>\n",
       "    <tr>\n",
       "      <th>189</th>\n",
       "      <td>Topic #189: through the, through, may be, may, that may</td>\n",
       "      <td>1.0</td>\n",
       "    </tr>\n",
       "    <tr>\n",
       "      <th>23</th>\n",
       "      <td>Topic #23: due, due to, out, carried, carried out</td>\n",
       "      <td>1.0</td>\n",
       "    </tr>\n",
       "    <tr>\n",
       "      <th>22</th>\n",
       "      <td>Topic #22: considered, the purpose, purpose of, purpose, be considered</td>\n",
       "      <td>1.0</td>\n",
       "    </tr>\n",
       "    <tr>\n",
       "      <th>20</th>\n",
       "      <td>Topic #20: 2018, copyright 2018, 2019, leads, leads to</td>\n",
       "      <td>1.0</td>\n",
       "    </tr>\n",
       "    <tr>\n",
       "      <th>19</th>\n",
       "      <td>Topic #19: pressure, steam, steam generator, the pressure, tube</td>\n",
       "      <td>1.0</td>\n",
       "    </tr>\n",
       "    <tr>\n",
       "      <th>15</th>\n",
       "      <td>Topic #15: however, however the, reference, the reference, reduced</td>\n",
       "      <td>1.0</td>\n",
       "    </tr>\n",
       "    <tr>\n",
       "      <th>29</th>\n",
       "      <td>Topic #29: behavior, behavior of, modified, upper, geometry</td>\n",
       "      <td>1.0</td>\n",
       "    </tr>\n",
       "    <tr>\n",
       "      <th>129</th>\n",
       "      <td>Topic #129: fraction, circuit, in which, stability, fraction of</td>\n",
       "      <td>1.0</td>\n",
       "    </tr>\n",
       "    <tr>\n",
       "      <th>12</th>\n",
       "      <td>Topic #12: within the, within, iv, generation iv, the highest</td>\n",
       "      <td>1.0</td>\n",
       "    </tr>\n",
       "    <tr>\n",
       "      <th>118</th>\n",
       "      <td>Topic #118: temperature, high temperature, high, hydrogen, corrosion</td>\n",
       "      <td>1.0</td>\n",
       "    </tr>\n",
       "    <tr>\n",
       "      <th>119</th>\n",
       "      <td>Topic #119: not, is not, can not, not only, are not</td>\n",
       "      <td>1.0</td>\n",
       "    </tr>\n",
       "    <tr>\n",
       "      <th>6</th>\n",
       "      <td>Topic #6: data, analyzed, measured, were analyzed, data from</td>\n",
       "      <td>1.0</td>\n",
       "    </tr>\n",
       "    <tr>\n",
       "      <th>197</th>\n",
       "      <td>Topic #197: characteristics, characteristics of, the maximum, maximum, the characteristics</td>\n",
       "      <td>1.0</td>\n",
       "    </tr>\n",
       "    <tr>\n",
       "      <th>114</th>\n",
       "      <td>Topic #114: work, this work, work is, fission products, the work</td>\n",
       "      <td>1.0</td>\n",
       "    </tr>\n",
       "    <tr>\n",
       "      <th>147</th>\n",
       "      <td>Topic #147: also, is also, are also, also be, and also</td>\n",
       "      <td>1.0</td>\n",
       "    </tr>\n",
       "    <tr>\n",
       "      <th>179</th>\n",
       "      <td>Topic #179: focuses, focuses on, depth, seismic, in depth</td>\n",
       "      <td>1.0</td>\n",
       "    </tr>\n",
       "    <tr>\n",
       "      <th>32</th>\n",
       "      <td>Topic #32: reactor, core, the reactor, the core, cooled</td>\n",
       "      <td>1.0</td>\n",
       "    </tr>\n",
       "    <tr>\n",
       "      <th>111</th>\n",
       "      <td>Topic #111: nuclear power, power, power plant, power plants, plants</td>\n",
       "      <td>1.0</td>\n",
       "    </tr>\n",
       "    <tr>\n",
       "      <th>132</th>\n",
       "      <td>Topic #132: non, the initial, initial, air, and non</td>\n",
       "      <td>1.0</td>\n",
       "    </tr>\n",
       "    <tr>\n",
       "      <th>43</th>\n",
       "      <td>Topic #43: stainless, steel, stainless steel, steels, austenitic</td>\n",
       "      <td>1.0</td>\n",
       "    </tr>\n",
       "    <tr>\n",
       "      <th>108</th>\n",
       "      <td>Topic #108: was, were, determine, to determine, it was</td>\n",
       "      <td>1.0</td>\n",
       "    </tr>\n",
       "    <tr>\n",
       "      <th>31</th>\n",
       "      <td>Topic #31: more, more than, amount, amount of, increasing the</td>\n",
       "      <td>1.0</td>\n",
       "    </tr>\n",
       "    <tr>\n",
       "      <th>178</th>\n",
       "      <td>Topic #178: the two, assess, to assess, two, assess the</td>\n",
       "      <td>1.0</td>\n",
       "    </tr>\n",
       "    <tr>\n",
       "      <th>39</th>\n",
       "      <td>Topic #39: flow, loss of, hydraulic, thermal hydraulic, loss</td>\n",
       "      <td>1.0</td>\n",
       "    </tr>\n",
       "    <tr>\n",
       "      <th>131</th>\n",
       "      <td>Topic #131: the main, main, basis, implementation, the basis</td>\n",
       "      <td>0.0</td>\n",
       "    </tr>\n",
       "    <tr>\n",
       "      <th>145</th>\n",
       "      <td>Topic #145: american nuclear, nuclear society, american, society all, society</td>\n",
       "      <td>0.0</td>\n",
       "    </tr>\n",
       "    <tr>\n",
       "      <th>126</th>\n",
       "      <td>Topic #126: world, global, the world, the global, global nuclear</td>\n",
       "      <td>0.0</td>\n",
       "    </tr>\n",
       "    <tr>\n",
       "      <th>135</th>\n",
       "      <td>Topic #135: there, there is, there are, some of, some</td>\n",
       "      <td>0.0</td>\n",
       "    </tr>\n",
       "    <tr>\n",
       "      <th>127</th>\n",
       "      <td>Topic #127: lead, lead to, objectives of, lead cooled, objectives</td>\n",
       "      <td>0.0</td>\n",
       "    </tr>\n",
       "    <tr>\n",
       "      <th>136</th>\n",
       "      <td>Topic #136: use, use of, the use, use in, for use</td>\n",
       "      <td>0.0</td>\n",
       "    </tr>\n",
       "    <tr>\n",
       "      <th>138</th>\n",
       "      <td>Topic #138: behaviour, rod, behaviour of, cladding, pool</td>\n",
       "      <td>0.0</td>\n",
       "    </tr>\n",
       "    <tr>\n",
       "      <th>133</th>\n",
       "      <td>Topic #133: implement, to implement, although the, although, reports</td>\n",
       "      <td>0.0</td>\n",
       "    </tr>\n",
       "    <tr>\n",
       "      <th>130</th>\n",
       "      <td>Topic #130: uranium, fission, of uranium, actinides, actinide</td>\n",
       "      <td>0.0</td>\n",
       "    </tr>\n",
       "    <tr>\n",
       "      <th>144</th>\n",
       "      <td>Topic #144: european, the european, status, status of, overview</td>\n",
       "      <td>0.0</td>\n",
       "    </tr>\n",
       "    <tr>\n",
       "      <th>139</th>\n",
       "      <td>Topic #139: necessary, necessary to, is necessary, difficult to, difficult</td>\n",
       "      <td>0.0</td>\n",
       "    </tr>\n",
       "    <tr>\n",
       "      <th>143</th>\n",
       "      <td>Topic #143: can, can be, that can, it can, which can</td>\n",
       "      <td>0.0</td>\n",
       "    </tr>\n",
       "    <tr>\n",
       "      <th>141</th>\n",
       "      <td>Topic #141: abstract, abstract available, no abstract, available nan, available</td>\n",
       "      <td>0.0</td>\n",
       "    </tr>\n",
       "    <tr>\n",
       "      <th>142</th>\n",
       "      <td>Topic #142: in order, order to, order, was proposed, analysed</td>\n",
       "      <td>0.0</td>\n",
       "    </tr>\n",
       "    <tr>\n",
       "      <th>146</th>\n",
       "      <td>Topic #146: different, of different, the different, two different, for different</td>\n",
       "      <td>0.0</td>\n",
       "    </tr>\n",
       "    <tr>\n",
       "      <th>163</th>\n",
       "      <td>Topic #163: present, the present, final, the final, consequences</td>\n",
       "      <td>0.0</td>\n",
       "    </tr>\n",
       "    <tr>\n",
       "      <th>148</th>\n",
       "      <td>Topic #148: indicate, indicate that, product, fission product, results indicate</td>\n",
       "      <td>0.0</td>\n",
       "    </tr>\n",
       "    <tr>\n",
       "      <th>190</th>\n",
       "      <td>Topic #190: impact, impact of, impact on, the impact, environmental impact</td>\n",
       "      <td>0.0</td>\n",
       "    </tr>\n",
       "    <tr>\n",
       "      <th>182</th>\n",
       "      <td>Topic #182: properties, properties of, investigation of, optimal, investigation</td>\n",
       "      <td>0.0</td>\n",
       "    </tr>\n",
       "    <tr>\n",
       "      <th>183</th>\n",
       "      <td>Topic #183: role, role of, role in, the role, play</td>\n",
       "      <td>0.0</td>\n",
       "    </tr>\n",
       "    <tr>\n",
       "      <th>184</th>\n",
       "      <td>Topic #184: or, if, expected, expected to, is expected</td>\n",
       "      <td>0.0</td>\n",
       "    </tr>\n",
       "    <tr>\n",
       "      <th>185</th>\n",
       "      <td>Topic #185: chemistry, quality, significant, quality of, detailed</td>\n",
       "      <td>0.0</td>\n",
       "    </tr>\n",
       "    <tr>\n",
       "      <th>186</th>\n",
       "      <td>Topic #186: should be, level, should, high level, level of</td>\n",
       "      <td>0.0</td>\n",
       "    </tr>\n",
       "    <tr>\n",
       "      <th>187</th>\n",
       "      <td>Topic #187: fusion, nuclear fusion, plasma, fusion energy, tokamak</td>\n",
       "      <td>0.0</td>\n",
       "    </tr>\n",
       "    <tr>\n",
       "      <th>191</th>\n",
       "      <td>Topic #191: performance, performance of, the performance, optimized, promising</td>\n",
       "      <td>0.0</td>\n",
       "    </tr>\n",
       "    <tr>\n",
       "      <th>149</th>\n",
       "      <td>Topic #149: mev, neutrons, of neutrons, proton, energies</td>\n",
       "      <td>0.0</td>\n",
       "    </tr>\n",
       "    <tr>\n",
       "      <th>192</th>\n",
       "      <td>Topic #192: result, into the, as result, into, result of</td>\n",
       "      <td>0.0</td>\n",
       "    </tr>\n",
       "    <tr>\n",
       "      <th>193</th>\n",
       "      <td>Topic #193: concept, feasibility, the feasibility, conceptual, feasibility of</td>\n",
       "      <td>0.0</td>\n",
       "    </tr>\n",
       "    <tr>\n",
       "      <th>194</th>\n",
       "      <td>Topic #194: comparison, distribution, determination, parameters, determination of</td>\n",
       "      <td>0.0</td>\n",
       "    </tr>\n",
       "    <tr>\n",
       "      <th>195</th>\n",
       "      <td>Topic #195: verification, includes, extension, verification of, extension of</td>\n",
       "      <td>0.0</td>\n",
       "    </tr>\n",
       "    <tr>\n",
       "      <th>196</th>\n",
       "      <td>Topic #196: as well, well as, well, as for, multiple</td>\n",
       "      <td>0.0</td>\n",
       "    </tr>\n",
       "    <tr>\n",
       "      <th>198</th>\n",
       "      <td>Topic #198: overall, program, framework, the overall, framework of</td>\n",
       "      <td>0.0</td>\n",
       "    </tr>\n",
       "    <tr>\n",
       "      <th>181</th>\n",
       "      <td>Topic #181: materials, range, range of, tests, material</td>\n",
       "      <td>0.0</td>\n",
       "    </tr>\n",
       "    <tr>\n",
       "      <th>180</th>\n",
       "      <td>Topic #180: development, development of, the development, and development, united</td>\n",
       "      <td>0.0</td>\n",
       "    </tr>\n",
       "    <tr>\n",
       "      <th>177</th>\n",
       "      <td>Topic #177: large, scale, of large, full, large scale</td>\n",
       "      <td>0.0</td>\n",
       "    </tr>\n",
       "    <tr>\n",
       "      <th>175</th>\n",
       "      <td>Topic #175: view, view of, help, to help, are still</td>\n",
       "      <td>0.0</td>\n",
       "    </tr>\n",
       "    <tr>\n",
       "      <th>174</th>\n",
       "      <td>Topic #174: business media, science business, springer science, springer, media</td>\n",
       "      <td>0.0</td>\n",
       "    </tr>\n",
       "    <tr>\n",
       "      <th>173</th>\n",
       "      <td>Topic #173: ensure, support, to ensure, to support, support the</td>\n",
       "      <td>0.0</td>\n",
       "    </tr>\n",
       "    <tr>\n",
       "      <th>171</th>\n",
       "      <td>Topic #171: line, on line, occurrence, by the, numerous</td>\n",
       "      <td>0.0</td>\n",
       "    </tr>\n",
       "    <tr>\n",
       "      <th>170</th>\n",
       "      <td>Topic #170: environment, the environment, produce, to produce, areas</td>\n",
       "      <td>0.0</td>\n",
       "    </tr>\n",
       "    <tr>\n",
       "      <th>169</th>\n",
       "      <td>Topic #169: terms of, terms, in terms, their, and their</td>\n",
       "      <td>0.0</td>\n",
       "    </tr>\n",
       "    <tr>\n",
       "      <th>167</th>\n",
       "      <td>Topic #167: fast, fast reactor, sodium, fast reactors, cooled fast</td>\n",
       "      <td>0.0</td>\n",
       "    </tr>\n",
       "    <tr>\n",
       "      <th>166</th>\n",
       "      <td>Topic #166: related, related to, safety related, the fundamental, fundamental</td>\n",
       "      <td>0.0</td>\n",
       "    </tr>\n",
       "    <tr>\n",
       "      <th>164</th>\n",
       "      <td>Topic #164: experiments, mass, laboratory, surface, national laboratory</td>\n",
       "      <td>0.0</td>\n",
       "    </tr>\n",
       "    <tr>\n",
       "      <th>124</th>\n",
       "      <td>Topic #124: assessment, assessment of, safety assessment, the assessment, assessment psa</td>\n",
       "      <td>0.0</td>\n",
       "    </tr>\n",
       "    <tr>\n",
       "      <th>161</th>\n",
       "      <td>Topic #161: shown, shown that, is shown, author, the author</td>\n",
       "      <td>0.0</td>\n",
       "    </tr>\n",
       "    <tr>\n",
       "      <th>159</th>\n",
       "      <td>Topic #159: international, agency, energy agency, the international, iaea</td>\n",
       "      <td>0.0</td>\n",
       "    </tr>\n",
       "    <tr>\n",
       "      <th>158</th>\n",
       "      <td>Topic #158: than, than the, higher, higher than, than that</td>\n",
       "      <td>0.0</td>\n",
       "    </tr>\n",
       "    <tr>\n",
       "      <th>156</th>\n",
       "      <td>Topic #156: an, of an, is an, with an, as an</td>\n",
       "      <td>0.0</td>\n",
       "    </tr>\n",
       "    <tr>\n",
       "      <th>125</th>\n",
       "      <td>Topic #125: and then, for an, layer, primarily, responses</td>\n",
       "      <td>0.0</td>\n",
       "    </tr>\n",
       "    <tr>\n",
       "      <th>1</th>\n",
       "      <td>Topic #1 (Security): security, proliferation, industry, nuclear industry, energy security</td>\n",
       "      <td>0.0</td>\n",
       "    </tr>\n",
       "    <tr>\n",
       "      <th>123</th>\n",
       "      <td>Topic #123: algorithm, dynamic, accurate, automatic, differential</td>\n",
       "      <td>0.0</td>\n",
       "    </tr>\n",
       "    <tr>\n",
       "      <th>37</th>\n",
       "      <td>Topic #37: generated, generated by, hydro</td>\n",
       "      <td>0.0</td>\n",
       "    </tr>\n",
       "    <tr>\n",
       "      <th>40</th>\n",
       "      <td>Topic #40: we, we have, previous, determined by, the previous</td>\n",
       "      <td>0.0</td>\n",
       "    </tr>\n",
       "    <tr>\n",
       "      <th>41</th>\n",
       "      <td>Topic #41: water, water reactor, pressurized, pressurized water, water reactors</td>\n",
       "      <td>0.0</td>\n",
       "    </tr>\n",
       "    <tr>\n",
       "      <th>42</th>\n",
       "      <td>Topic #42: source, efficiency, source of, consumption, efficiency of</td>\n",
       "      <td>0.0</td>\n",
       "    </tr>\n",
       "    <tr>\n",
       "      <th>44</th>\n",
       "      <td>Topic #44: future, next, the future, the next, needs</td>\n",
       "      <td>0.0</td>\n",
       "    </tr>\n",
       "    <tr>\n",
       "      <th>46</th>\n",
       "      <td>Topic #46: because, second, because of, the second, able</td>\n",
       "      <td>0.0</td>\n",
       "    </tr>\n",
       "    <tr>\n",
       "      <th>47</th>\n",
       "      <td>Topic #47: compared, compared to, compared with, are compared, and compared</td>\n",
       "      <td>0.0</td>\n",
       "    </tr>\n",
       "    <tr>\n",
       "      <th>49</th>\n",
       "      <td>Topic #49: around, focused, focused on, around the, provided by</td>\n",
       "      <td>0.0</td>\n",
       "    </tr>\n",
       "    <tr>\n",
       "      <th>50</th>\n",
       "      <td>Topic #50: measurements, measurement, sensor, measurement of, sensors</td>\n",
       "      <td>0.0</td>\n",
       "    </tr>\n",
       "    <tr>\n",
       "      <th>51</th>\n",
       "      <td>Topic #51: agreement, agreement with, good agreement, good, area of</td>\n",
       "      <td>0.0</td>\n",
       "    </tr>\n",
       "    <tr>\n",
       "      <th>54</th>\n",
       "      <td>Topic #54: other, the other, and other, in other, of other</td>\n",
       "      <td>0.0</td>\n",
       "    </tr>\n",
       "    <tr>\n",
       "      <th>56</th>\n",
       "      <td>Topic #56: management, construction, construction of, the construction, past</td>\n",
       "      <td>0.0</td>\n",
       "    </tr>\n",
       "    <tr>\n",
       "      <th>57</th>\n",
       "      <td>Topic #57: achieve, to achieve, target, the target, targets</td>\n",
       "      <td>0.0</td>\n",
       "    </tr>\n",
       "    <tr>\n",
       "      <th>58</th>\n",
       "      <td>Topic #58: cross, advanced, resulting, cross section, section</td>\n",
       "      <td>0.0</td>\n",
       "    </tr>\n",
       "    <tr>\n",
       "      <th>59</th>\n",
       "      <td>Topic #59: found, radiation, found that, dose, was found</td>\n",
       "      <td>0.0</td>\n",
       "    </tr>\n",
       "    <tr>\n",
       "      <th>60</th>\n",
       "      <td>Topic #60: thus, small, passive, interest, passive safety</td>\n",
       "      <td>0.0</td>\n",
       "    </tr>\n",
       "    <tr>\n",
       "      <th>38</th>\n",
       "      <td>Topic #38: during, during the, furthermore, element, post</td>\n",
       "      <td>0.0</td>\n",
       "    </tr>\n",
       "    <tr>\n",
       "      <th>36</th>\n",
       "      <td>Topic #36: possible, possible to, is possible, together with, together</td>\n",
       "      <td>0.0</td>\n",
       "    </tr>\n",
       "    <tr>\n",
       "      <th>62</th>\n",
       "      <td>Topic #62: approach, objective, an important, npps, the objective</td>\n",
       "      <td>0.0</td>\n",
       "    </tr>\n",
       "    <tr>\n",
       "      <th>34</th>\n",
       "      <td>Topic #34: carlo, monte carlo, monte, prediction, prediction of</td>\n",
       "      <td>0.0</td>\n",
       "    </tr>\n",
       "    <tr>\n",
       "      <th>3</th>\n",
       "      <td>Topic #3 (Economic viability): economic, costs, meet, to meet, and economic</td>\n",
       "      <td>0.0</td>\n",
       "    </tr>\n",
       "    <tr>\n",
       "      <th>4</th>\n",
       "      <td>Topic #4 (Intergenerational justice): degradation, degradation of, where the, integrity, where</td>\n",
       "      <td>0.0</td>\n",
       "    </tr>\n",
       "    <tr>\n",
       "      <th>7</th>\n",
       "      <td>Topic #7: structures, structures and, affect, affect the, and components</td>\n",
       "      <td>0.0</td>\n",
       "    </tr>\n",
       "    <tr>\n",
       "      <th>8</th>\n",
       "      <td>Topic #8: state of, state, variety, variety of, art</td>\n",
       "      <td>0.0</td>\n",
       "    </tr>\n",
       "    <tr>\n",
       "      <th>10</th>\n",
       "      <td>Topic #10: features, features of, presence, presence of, the presence</td>\n",
       "      <td>0.0</td>\n",
       "    </tr>\n",
       "    <tr>\n",
       "      <th>11</th>\n",
       "      <td>Topic #11: environmental, levels of, levels, the environmental, and environmental</td>\n",
       "      <td>0.0</td>\n",
       "    </tr>\n",
       "    <tr>\n",
       "      <th>13</th>\n",
       "      <td>Topic #13: irradiated, close, close to, species, irradiation</td>\n",
       "      <td>0.0</td>\n",
       "    </tr>\n",
       "    <tr>\n",
       "      <th>18</th>\n",
       "      <td>Topic #18: less than, less, shows that, shows, device</td>\n",
       "      <td>0.0</td>\n",
       "    </tr>\n",
       "    <tr>\n",
       "      <th>21</th>\n",
       "      <td>Topic #21: key, the key, issues, implications</td>\n",
       "      <td>0.0</td>\n",
       "    </tr>\n",
       "    <tr>\n",
       "      <th>24</th>\n",
       "      <td>Topic #24: requirements, requirements for, the last, the corresponding, last</td>\n",
       "      <td>0.0</td>\n",
       "    </tr>\n",
       "    <tr>\n",
       "      <th>25</th>\n",
       "      <td>Topic #25: long, long term, term, the long, and long</td>\n",
       "      <td>0.0</td>\n",
       "    </tr>\n",
       "    <tr>\n",
       "      <th>26</th>\n",
       "      <td>Topic #26: reserved, all rights, rights reserved, rights, all</td>\n",
       "      <td>0.0</td>\n",
       "    </tr>\n",
       "    <tr>\n",
       "      <th>27</th>\n",
       "      <td>Topic #27: end, end of, the end, respect, respect to</td>\n",
       "      <td>0.0</td>\n",
       "    </tr>\n",
       "    <tr>\n",
       "      <th>30</th>\n",
       "      <td>Topic #30: experimental, the experimental, experimental data, experimental results, an experimental</td>\n",
       "      <td>0.0</td>\n",
       "    </tr>\n",
       "    <tr>\n",
       "      <th>33</th>\n",
       "      <td>Topic #33: technology, nuclear technology, technology and, kind of, kind</td>\n",
       "      <td>0.0</td>\n",
       "    </tr>\n",
       "    <tr>\n",
       "      <th>61</th>\n",
       "      <td>Topic #61: national, public, the national, government, the public</td>\n",
       "      <td>0.0</td>\n",
       "    </tr>\n",
       "    <tr>\n",
       "      <th>63</th>\n",
       "      <td>Topic #63: in this, multi, introduced, hence, of high</td>\n",
       "      <td>0.0</td>\n",
       "    </tr>\n",
       "    <tr>\n",
       "      <th>122</th>\n",
       "      <td>Topic #122: neutron, same, the same, the neutron, and neutron</td>\n",
       "      <td>0.0</td>\n",
       "    </tr>\n",
       "    <tr>\n",
       "      <th>93</th>\n",
       "      <td>Topic #93: aspects, aspects of, and waste, recommendations, decisions</td>\n",
       "      <td>0.0</td>\n",
       "    </tr>\n",
       "    <tr>\n",
       "      <th>96</th>\n",
       "      <td>Topic #96: taken, taken into, be taken, steps, depend</td>\n",
       "      <td>0.0</td>\n",
       "    </tr>\n",
       "    <tr>\n",
       "      <th>98</th>\n",
       "      <td>Topic #98: three, the three, combination, combination of, changes</td>\n",
       "      <td>0.0</td>\n",
       "    </tr>\n",
       "    <tr>\n",
       "      <th>99</th>\n",
       "      <td>Topic #99: low, carbon, while, while the, 10</td>\n",
       "      <td>0.0</td>\n",
       "    </tr>\n",
       "    <tr>\n",
       "      <th>2</th>\n",
       "      <td>Topic #2 (Sustainability): renewable, sustainable, electricity, sustainability, energy</td>\n",
       "      <td>0.0</td>\n",
       "    </tr>\n",
       "    <tr>\n",
       "      <th>101</th>\n",
       "      <td>Topic #101: presented, are presented, is presented, presented in, presented the</td>\n",
       "      <td>0.0</td>\n",
       "    </tr>\n",
       "    <tr>\n",
       "      <th>102</th>\n",
       "      <td>Topic #102: primary, the primary, rate, rate of, respectively the</td>\n",
       "      <td>0.0</td>\n",
       "    </tr>\n",
       "    <tr>\n",
       "      <th>103</th>\n",
       "      <td>Topic #103: case, case of, the case, in case, concerned</td>\n",
       "      <td>0.0</td>\n",
       "    </tr>\n",
       "    <tr>\n",
       "      <th>104</th>\n",
       "      <td>Topic #104: conditions, under, under the, containment, vessel</td>\n",
       "      <td>0.0</td>\n",
       "    </tr>\n",
       "    <tr>\n",
       "      <th>107</th>\n",
       "      <td>Topic #107: capability, before, way, capability of, combined</td>\n",
       "      <td>0.0</td>\n",
       "    </tr>\n",
       "    <tr>\n",
       "      <th>110</th>\n",
       "      <td>Topic #110: electric, developing, electric power, company, evolution</td>\n",
       "      <td>0.0</td>\n",
       "    </tr>\n",
       "    <tr>\n",
       "      <th>112</th>\n",
       "      <td>Topic #112: systems, energy systems, systems and, systems in, systems are</td>\n",
       "      <td>0.0</td>\n",
       "    </tr>\n",
       "    <tr>\n",
       "      <th>116</th>\n",
       "      <td>Topic #116: technical, the technical, technical and, and technical, knowledge of</td>\n",
       "      <td>0.0</td>\n",
       "    </tr>\n",
       "    <tr>\n",
       "      <th>117</th>\n",
       "      <td>Topic #117: improve, to improve, is being, improve the, along with</td>\n",
       "      <td>0.0</td>\n",
       "    </tr>\n",
       "    <tr>\n",
       "      <th>120</th>\n",
       "      <td>Topic #120: type, facility, loop, integral, constructed</td>\n",
       "      <td>0.0</td>\n",
       "    </tr>\n",
       "    <tr>\n",
       "      <th>121</th>\n",
       "      <td>Topic #121: paper, this paper, the paper, paper presents, paper describes</td>\n",
       "      <td>0.0</td>\n",
       "    </tr>\n",
       "    <tr>\n",
       "      <th>94</th>\n",
       "      <td>Topic #94: atomic energy, atomic, international atomic, japan atomic, agency iaea</td>\n",
       "      <td>0.0</td>\n",
       "    </tr>\n",
       "    <tr>\n",
       "      <th>92</th>\n",
       "      <td>Topic #92: associated, particular, regulatory, associated with, in particular</td>\n",
       "      <td>0.0</td>\n",
       "    </tr>\n",
       "    <tr>\n",
       "      <th>64</th>\n",
       "      <td>Topic #64: improvement, improvement of, coupled with, coupled</td>\n",
       "      <td>0.0</td>\n",
       "    </tr>\n",
       "    <tr>\n",
       "      <th>90</th>\n",
       "      <td>Topic #90: problems, adoption, problems of, installation, achieving</td>\n",
       "      <td>0.0</td>\n",
       "    </tr>\n",
       "    <tr>\n",
       "      <th>66</th>\n",
       "      <td>Topic #66: transport, included, the transport, radionuclide, included in</td>\n",
       "      <td>0.0</td>\n",
       "    </tr>\n",
       "    <tr>\n",
       "      <th>67</th>\n",
       "      <td>Topic #67: obtain, to obtain</td>\n",
       "      <td>0.0</td>\n",
       "    </tr>\n",
       "    <tr>\n",
       "      <th>70</th>\n",
       "      <td>Topic #70: ability, operate, evaluating, an alternative, alternative</td>\n",
       "      <td>0.0</td>\n",
       "    </tr>\n",
       "    <tr>\n",
       "      <th>73</th>\n",
       "      <td>Topic #73: these, of these, required, required to, for these</td>\n",
       "      <td>0.0</td>\n",
       "    </tr>\n",
       "    <tr>\n",
       "      <th>74</th>\n",
       "      <td>Topic #74: according, according to, but, about, only</td>\n",
       "      <td>0.0</td>\n",
       "    </tr>\n",
       "    <tr>\n",
       "      <th>80</th>\n",
       "      <td>Topic #80: among, among the, south, option for, option</td>\n",
       "      <td>0.0</td>\n",
       "    </tr>\n",
       "    <tr>\n",
       "      <th>81</th>\n",
       "      <td>Topic #81: first, the first, types of, types, account</td>\n",
       "      <td>0.0</td>\n",
       "    </tr>\n",
       "    <tr>\n",
       "      <th>82</th>\n",
       "      <td>Topic #82: then, provides, then the, perform, to enhance</td>\n",
       "      <td>0.0</td>\n",
       "    </tr>\n",
       "    <tr>\n",
       "      <th>83</th>\n",
       "      <td>Topic #83: need, need to, the need, need for, address</td>\n",
       "      <td>0.0</td>\n",
       "    </tr>\n",
       "    <tr>\n",
       "      <th>84</th>\n",
       "      <td>Topic #84: japan, facilities, nuclear facilities, in japan, training</td>\n",
       "      <td>0.0</td>\n",
       "    </tr>\n",
       "    <tr>\n",
       "      <th>85</th>\n",
       "      <td>Topic #85: reliable, sufficient, this research, and water, vacuum</td>\n",
       "      <td>0.0</td>\n",
       "    </tr>\n",
       "    <tr>\n",
       "      <th>86</th>\n",
       "      <td>Topic #86: country, russia, the country, across, across the</td>\n",
       "      <td>0.0</td>\n",
       "    </tr>\n",
       "    <tr>\n",
       "      <th>87</th>\n",
       "      <td>Topic #87: elsevier, elsevier ltd, ltd, 2010 elsevier, by elsevier</td>\n",
       "      <td>0.0</td>\n",
       "    </tr>\n",
       "    <tr>\n",
       "      <th>88</th>\n",
       "      <td>Topic #88: evaluation, evaluation of, the evaluation, staff, evaluated</td>\n",
       "      <td>0.0</td>\n",
       "    </tr>\n",
       "    <tr>\n",
       "      <th>89</th>\n",
       "      <td>Topic #89: new, of new, the new, new nuclear, and new</td>\n",
       "      <td>0.0</td>\n",
       "    </tr>\n",
       "    <tr>\n",
       "      <th>199</th>\n",
       "      <td>Topic #199: radioactive, currently, radioactive waste, of radioactive, is currently</td>\n",
       "      <td>0.0</td>\n",
       "    </tr>\n",
       "  </tbody>\n",
       "</table>"
      ],
      "text/plain": [
       "<IPython.core.display.HTML object>"
      ]
     },
     "metadata": {
      "tags": []
     },
     "output_type": "display_data"
    }
   ],
   "source": [
    "topic_to_evaluate = 0\n",
    "list_of_words = [\"safety\"]\n",
    "\n",
    "'''--------------------------------------------------------------------------''' \n",
    "\n",
    "find_documents_related_to_the_value_that_are_not_yet_in_the_topics(df_with_topics, model_and_vectorized_data, dict_anchor_words, list_of_words, topic_to_evaluate, random_number_documents_to_return)"
   ]
  },
  {
   "cell_type": "markdown",
   "metadata": {
    "id": "9Mi37dP_CZBG"
   },
   "source": [
    "With the code hereunder, you can inspect which documents have been attributed to each of the topics above. This might show you which anchor words you need to add in the initial list."
   ]
  },
  {
   "cell_type": "code",
   "execution_count": 31,
   "metadata": {
    "colab": {
     "base_uri": "https://localhost:8080/",
     "height": 219
    },
    "executionInfo": {
     "elapsed": 225,
     "status": "ok",
     "timestamp": 1626379932119,
     "user": {
      "displayName": "Tristan de Wildt",
      "photoUrl": "",
      "userId": "12635936161789443610"
     },
     "user_tz": -120
    },
    "id": "DuBIzm3bCagX",
    "outputId": "fd401173-242f-477f-d4c4-3cbd0cd93377"
   },
   "outputs": [
    {
     "data": {
      "text/html": [
       "<table border=\"1\" class=\"dataframe\">\n",
       "  <thead>\n",
       "    <tr style=\"text-align: center;\">\n",
       "      <th></th>\n",
       "      <th>Random 5 documents in topic 43 with keywords 'safety' that have not been assigned to topic 0.</th>\n",
       "    </tr>\n",
       "  </thead>\n",
       "  <tbody>\n",
       "    <tr>\n",
       "      <th>16221</th>\n",
       "      <td>The design of test platform for study on abrasion of graphitespheres in the fuel handling system of Pebble bed hightemperature gas cooled reactors The high temperature gas cooled reactor HTR is characterized by agraphite core structure helium gas coolant and ceramic fuel elements With inherentsafety feature the HTR is considered to be one of the generation IV nuclear reactors The pebble bed design has been used for HTR 10 and HTR PMin China so thatallows a continuous fuel loading and discharging operation However the pebble smovement through the fuelling system and the core produces graphite dust It hasbeen estimated that abrasion due to pebble s circulation contributes the major part of the graphite dust production In the process of circulation the pebbles are lifted pneumatically from the exit at the bottom of the core to the top and re inserted intothe core The pebbles make multiple collisions with the stainless steel lifting pipe thereby causing abrasion of the graphite pebbles Abrasion due to pebble to steelcontact is more severe than pebble to pebble contact and pebble to graphite core wallcontact so that a test platform was designed to investigate the abrasion behavior in the lifting pipes in this study A stainless steel pipe with a height of c a 9 m and innerdiameter of 62 mm is used to simulate the lifting pipe graphite pebble with diameter of 60 mm is lifted pneumatically in the pipe The control of mean lifting velocity was evaluated and the effect of lifting speed on the abrasion behavior of graphite pebble was investigated The results obtained in this study will help the understanding of graphite dust generation in HTR 10 and HTR PM Copyright 2015 by JSME Abrasion Graphite dust Graphite pebble High temperature gas cooled reactor HTR</td>\n",
       "    </tr>\n",
       "  </tbody>\n",
       "</table>"
      ],
      "text/plain": [
       "<IPython.core.display.HTML object>"
      ]
     },
     "metadata": {
      "tags": []
     },
     "output_type": "display_data"
    }
   ],
   "source": [
    "topic_in_which_some_keywords_are_found = 43\n",
    "random_number_documents_to_return = 5\n",
    "\n",
    "'''--------------------------------------------------------------------------'''\n",
    "\n",
    "print_documents_related_to_the_value_that_are_not_yet_in_the_topics(df_with_topics, dict_anchor_words, list_of_words, topic_to_evaluate, topic_in_which_some_keywords_are_found, random_number_documents_to_return)"
   ]
  },
  {
   "cell_type": "markdown",
   "metadata": {
    "id": "4w9uP65Iseb3"
   },
   "source": [
    "## 5. Visualising values over time"
   ]
  },
  {
   "cell_type": "markdown",
   "metadata": {
    "id": "a8OYxqoe3xxd"
   },
   "source": [
    "### 5.1. Frequency of values over time"
   ]
  },
  {
   "cell_type": "markdown",
   "metadata": {
    "id": "TVX0nn6Uslez"
   },
   "source": [
    "The visualisation hereunder shows the percentage of documents that have addressed each value over time. This provides an indication of how the importance of values has changed.\n",
    "\n",
    "Set hereunder the time step you want to use: \"D\" = days, \"M\" = months, \"Y\" is years"
   ]
  },
  {
   "cell_type": "code",
   "execution_count": 35,
   "metadata": {
    "colab": {
     "base_uri": "https://localhost:8080/",
     "height": 459
    },
    "executionInfo": {
     "elapsed": 1170,
     "status": "ok",
     "timestamp": 1626379953100,
     "user": {
      "displayName": "Tristan de Wildt",
      "photoUrl": "",
      "userId": "12635936161789443610"
     },
     "user_tz": -120
    },
    "id": "WsMNXaA7jaWw",
    "outputId": "467ce93e-101d-4105-ead4-f43b32169a58"
   },
   "outputs": [
    {
     "data": {
      "image/png": "[encoded data removed]",
      "text/plain": [
       "<Figure size 864x432 with 2 Axes>"
      ]
     },
     "metadata": {
      "needs_background": "light",
      "tags": []
     },
     "output_type": "display_data"
    },
    {
     "data": {
      "text/plain": [
       "<Figure size 8000x5600 with 0 Axes>"
      ]
     },
     "metadata": {
      "tags": []
     },
     "output_type": "display_data"
    }
   ],
   "source": [
    "resampling = \"Y\" # \"D\", \"M\", \"Y\"\n",
    "smoothing = 0.5 # The bigger the value, the smoother it is\n",
    "max_value_y = 100 # this is to set the max of the y axis\n",
    "\n",
    "'''--------------------------------------------------------------------------''' \n",
    "\n",
    "values_to_include_in_visualisation = 0\n",
    "create_vis_values_over_time(df_with_topics, dict_anchor_words, resampling, values_to_include_in_visualisation, smoothing, max_value_y)\n"
   ]
  },
  {
   "cell_type": "markdown",
   "metadata": {
    "id": "Xx3ok56aJnEM"
   },
   "source": [
    "### 5.2. Co-existence of two values"
   ]
  },
  {
   "cell_type": "markdown",
   "metadata": {
    "id": "IDg54VqWJqD3"
   },
   "source": [
    "You might want to evaluate if two values have been frequently mentioned together in one document. This might potentially indicate a conflict between two values.\n",
    "\n",
    "Put the number of the potentially co-existing values at values_selected.\n"
   ]
  },
  {
   "cell_type": "code",
   "execution_count": 37,
   "metadata": {
    "colab": {
     "base_uri": "https://localhost:8080/",
     "height": 477
    },
    "executionInfo": {
     "elapsed": 617,
     "status": "ok",
     "timestamp": 1626379986283,
     "user": {
      "displayName": "Tristan de Wildt",
      "photoUrl": "",
      "userId": "12635936161789443610"
     },
     "user_tz": -120
    },
    "id": "LvlPf3mNJqM3",
    "outputId": "5b7e2a98-7a85-4037-a830-bc45c73d5843"
   },
   "outputs": [
    {
     "name": "stderr",
     "output_type": "stream",
     "text": [
      "No handles with labels found to put in legend.\n"
     ]
    },
    {
     "data": {
      "image/png": "[encoded data removed]",
      "text/plain": [
       "<Figure size 864x432 with 1 Axes>"
      ]
     },
     "metadata": {
      "needs_background": "light",
      "tags": []
     },
     "output_type": "display_data"
    },
    {
     "data": {
      "text/plain": [
       "<Figure size 8000x5600 with 0 Axes>"
      ]
     },
     "metadata": {
      "tags": []
     },
     "output_type": "display_data"
    }
   ],
   "source": [
    "values_selected = ['Safety', 'Security']\n",
    "smoothing = 1 # The bigger the value, the smoother it is\n",
    "max_value_y = 25 # this is to set the max of the y axis\n",
    "\n",
    "'''--------------------------------------------------------------------------'''\n",
    "\n",
    "coexistence_values(df_with_topics, dict_anchor_words, resampling, values_selected, smoothing, max_value_y)"
   ]
  },
  {
   "cell_type": "markdown",
   "metadata": {
    "id": "5F9qr9s72Byr"
   },
   "source": [
    "### 5.3. Word appearance in documents"
   ]
  },
  {
   "cell_type": "markdown",
   "metadata": {
    "id": "fKYv9bgZ4VwU"
   },
   "source": [
    "Next to the importance of values over time, it can be interesting to evaluate which words have most frequently been used by authors to refer to these values. \"Word appearance based on most frequent words\" shows the evolution of word usage for the x most importance words in a topic. \"Word appearance based on own words\" allows you to do the same analysis based on your own list of words."
   ]
  },
  {
   "cell_type": "markdown",
   "metadata": {
    "id": "2A_zQPsW5m_R"
   },
   "source": [
    "#### Word appearance based on most frequent words"
   ]
  },
  {
   "cell_type": "markdown",
   "metadata": {
    "id": "2sT5bvFS65ta"
   },
   "source": [
    "Enter which topic you want to evaluate at **topic_to_evaluate**. Enter the x most frequent words in the topic you want to evaluate at **number_of_words**."
   ]
  },
  {
   "cell_type": "code",
   "execution_count": 38,
   "metadata": {
    "colab": {
     "base_uri": "https://localhost:8080/",
     "height": 449
    },
    "executionInfo": {
     "elapsed": 1031,
     "status": "ok",
     "timestamp": 1626379991478,
     "user": {
      "displayName": "Tristan de Wildt",
      "photoUrl": "",
      "userId": "12635936161789443610"
     },
     "user_tz": -120
    },
    "id": "5Rx6tCU76XAN",
    "outputId": "d6b7491b-b47d-4f65-b76b-1fcc74c89ed4"
   },
   "outputs": [
    {
     "data": {
      "image/png": "[encoded data removed]",
      "text/plain": [
       "<Figure size 864x432 with 1 Axes>"
      ]
     },
     "metadata": {
      "needs_background": "light",
      "tags": []
     },
     "output_type": "display_data"
    },
    {
     "data": {
      "text/plain": [
       "<Figure size 8000x5600 with 0 Axes>"
      ]
     },
     "metadata": {
      "tags": []
     },
     "output_type": "display_data"
    }
   ],
   "source": [
    "topic_to_evaluate = 3\n",
    "number_of_words = 10\n",
    "smoothing = 1 # The bigger the value, the smoother it is\n",
    "max_value_y = 100 # this is to set the max of the y axis\n",
    "\n",
    "'''--------------------------------------------------------------------------''' \n",
    "\n",
    "inspect_words_over_time_based_on_most_frequent_words(df_with_topics, dict_anchor_words, model_and_vectorized_data, topic_to_evaluate, number_of_words, resampling, smoothing, max_value_y)"
   ]
  },
  {
   "cell_type": "markdown",
   "metadata": {
    "id": "cWpwgZcTrIEC"
   },
   "source": [
    "#### Word appearance based on own words"
   ]
  },
  {
   "cell_type": "markdown",
   "metadata": {
    "id": "Lv8F1NR07a0A"
   },
   "source": [
    "Enter which topic you want to evaluate at **topic_to_evaluate**. Enter the list of words you are interested in at **list_words**."
   ]
  },
  {
   "cell_type": "code",
   "execution_count": 39,
   "metadata": {
    "colab": {
     "base_uri": "https://localhost:8080/",
     "height": 449
    },
    "executionInfo": {
     "elapsed": 662,
     "status": "ok",
     "timestamp": 1626379997432,
     "user": {
      "displayName": "Tristan de Wildt",
      "photoUrl": "",
      "userId": "12635936161789443610"
     },
     "user_tz": -120
    },
    "id": "PSWDHDCLrIQb",
    "outputId": "d23d39b0-f032-419a-cb2b-fb72cf3dbfb0"
   },
   "outputs": [
    {
     "data": {
      "image/png": "[encoded data removed]",
      "text/plain": [
       "<Figure size 864x432 with 1 Axes>"
      ]
     },
     "metadata": {
      "needs_background": "light",
      "tags": []
     },
     "output_type": "display_data"
    },
    {
     "data": {
      "text/plain": [
       "<Figure size 8000x5600 with 0 Axes>"
      ]
     },
     "metadata": {
      "tags": []
     },
     "output_type": "display_data"
    }
   ],
   "source": [
    "topic_to_evaluate = 0\n",
    "list_words = [\"safety\", \"accident\", \"fukushima\"]\n",
    "smoothing = 1 # The bigger the value, the smoother it is\n",
    "max_value_y = 100 # this is to set the max of the y axis\n",
    "\n",
    "'''--------------------------------------------------------------------------''' \n",
    "\n",
    "inspect_words_over_time_based_on_own_list(df_with_topics, dict_anchor_words, topic_to_evaluate, list_words, resampling, smoothing, max_value_y)"
   ]
  },
  {
   "cell_type": "code",
   "execution_count": null,
   "metadata": {
    "id": "9-dPDzWAEPl4"
   },
   "outputs": [],
   "source": []
  }
 ],
 "metadata": {
  "colab": {
   "collapsed_sections": [
    "BNW2-FjTSaaB",
    "iS91FXNNSmOC",
    "813ejCyOE0iT",
    "EqtK4E3CSnIS",
    "2LlfMeZE7qnp",
    "mgcmijrjXKyh",
    "DbubP0kCVxRf",
    "XZKsT5NR8_xj",
    "qO6wh9EIKu5R",
    "6OuCocWjtKF7",
    "NMD3L0CbQvnt",
    "KUhDIihrA5Tf",
    "n64SVa7SAxDZ",
    "WKtNRP-jBJaI",
    "naoD2x4BBSoI",
    "3m0at_38BNiY",
    "CbX0jG7iBx3f",
    "BDz_NMSQCPkf",
    "4w9uP65Iseb3",
    "a8OYxqoe3xxd",
    "Xx3ok56aJnEM",
    "5F9qr9s72Byr",
    "2A_zQPsW5m_R",
    "cWpwgZcTrIEC"
   ],
   "name": "Topic_modelling_for_value_change.ipynb",
   "provenance": []
  },
  "kernelspec": {
   "display_name": "Python 3",
   "language": "python",
   "name": "python3"
  },
  "language_info": {
   "codemirror_mode": {
    "name": "ipython",
    "version": 3
   },
   "file_extension": ".py",
   "mimetype": "text/x-python",
   "name": "python",
   "nbconvert_exporter": "python",
   "pygments_lexer": "ipython3",
   "version": "3.8.8"
  }
 },
 "nbformat": 4,
 "nbformat_minor": 4
}
