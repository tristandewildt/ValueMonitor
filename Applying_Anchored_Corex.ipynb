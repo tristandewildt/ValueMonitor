{
  "cells": [
    {
      "cell_type": "markdown",
      "metadata": {
        "id": "view-in-github",
        "colab_type": "text"
      },
      "source": [
        "<a href=\"https://colab.research.google.com/github/tristandewildt/ValueMonitor/blob/5570999/Applying_Anchored_Corex.ipynb\" target=\"_parent\"><img src=\"https://colab.research.google.com/assets/colab-badge.svg\" alt=\"Open In Colab\"/></a>"
      ]
    },
    {
      "cell_type": "code",
      "execution_count": null,
      "metadata": {
        "colab": {
          "base_uri": "https://localhost:8080/"
        },
        "id": "woWfAVnROSnc",
        "outputId": "7dab0fc4-60e3-45e6-c3c0-2bad31899586"
      },
      "outputs": [
        {
          "output_type": "stream",
          "name": "stdout",
          "text": [
            "Looking in indexes: https://pypi.org/simple, https://us-python.pkg.dev/colab-wheels/public/simple/\n",
            "Collecting corextopic\n",
            "  Downloading corextopic-1.1-py3-none-any.whl (27 kB)\n",
            "Installing collected packages: corextopic\n",
            "Successfully installed corextopic-1.1\n"
          ]
        }
      ],
      "source": [
        "!pip install corextopic"
      ]
    },
    {
      "cell_type": "code",
      "execution_count": null,
      "metadata": {
        "id": "hzJZIcgOH6BW"
      },
      "outputs": [],
      "source": [
        "import numpy as np\n",
        "import scipy.sparse as ss\n",
        "import matplotlib.pyplot as plt\n",
        "\n",
        "import corextopic.corextopic as ct\n",
        "import corextopic.vis_topic as vt # jupyter notebooks will complain matplotlib is being loaded twice\n",
        "\n",
        "from sklearn.datasets import fetch_20newsgroups\n",
        "from sklearn.feature_extraction.text import CountVectorizer\n",
        "\n",
        "%matplotlib inline"
      ]
    },
    {
      "cell_type": "code",
      "execution_count": null,
      "metadata": {
        "id": "UHMGpAGWOQ7H"
      },
      "outputs": [],
      "source": [
        "# Get 20 newsgroups data\n",
        "newsgroups = fetch_20newsgroups(subset='train', remove=('headers', 'footers', 'quotes'))"
      ]
    },
    {
      "cell_type": "code",
      "execution_count": null,
      "metadata": {
        "colab": {
          "base_uri": "https://localhost:8080/"
        },
        "id": "CrhzSFXWpd7N",
        "outputId": "e69dc631-fd02-43dd-947e-71f8d6e4e525"
      },
      "outputs": [
        {
          "output_type": "execute_result",
          "data": {
            "text/plain": [
              "sklearn.utils.Bunch"
            ]
          },
          "metadata": {},
          "execution_count": 4
        }
      ],
      "source": [
        "type(newsgroups)"
      ]
    },
    {
      "cell_type": "code",
      "execution_count": null,
      "metadata": {
        "colab": {
          "base_uri": "https://localhost:8080/"
        },
        "id": "Z6dXDu99OlUM",
        "outputId": "835dcd4f-21c5-469c-bb64-090fefcf2e71"
      },
      "outputs": [
        {
          "output_type": "execute_result",
          "data": {
            "text/plain": [
              "(11314, 20000)"
            ]
          },
          "metadata": {},
          "execution_count": 5
        }
      ],
      "source": [
        "# Transform 20 newsgroup data into a sparse matrix\n",
        "vectorizer = CountVectorizer(stop_words='english', max_features=20000, binary=True)\n",
        "doc_word = vectorizer.fit_transform(newsgroups.data)\n",
        "doc_word = ss.csr_matrix(doc_word)\n",
        "\n",
        "doc_word.shape # n_docs x m_words"
      ]
    },
    {
      "cell_type": "code",
      "execution_count": null,
      "metadata": {
        "id": "-ShwLoc6PF0x"
      },
      "outputs": [],
      "source": [
        "words = list(np.asarray(vectorizer.get_feature_names_out()))"
      ]
    },
    {
      "cell_type": "code",
      "execution_count": null,
      "metadata": {
        "colab": {
          "base_uri": "https://localhost:8080/"
        },
        "id": "VumwEbKCPSYz",
        "outputId": "72346b35-20c2-4de2-ac8a-7cd893e0cc8d"
      },
      "outputs": [
        {
          "output_type": "execute_result",
          "data": {
            "text/plain": [
              "(11314, 19038)"
            ]
          },
          "metadata": {},
          "execution_count": 7
        }
      ],
      "source": [
        "# To leave out words which are integers\n",
        "not_digit_inds = [ind for ind,word in enumerate(words) if not word.isdigit()]\n",
        "doc_word = doc_word[:,not_digit_inds]\n",
        "words    = [word for ind,word in enumerate(words) if not word.isdigit()]\n",
        "\n",
        "doc_word.shape"
      ]
    },
    {
      "cell_type": "code",
      "execution_count": null,
      "metadata": {
        "id": "oC77g_49PmMu"
      },
      "outputs": [],
      "source": [
        "topic_model = ct.Corex(n_hidden=50, words=words, max_iter=200, verbose=False, seed=1)\n",
        "topic_model.fit(doc_word, words=words);"
      ]
    },
    {
      "cell_type": "code",
      "execution_count": null,
      "metadata": {
        "colab": {
          "base_uri": "https://localhost:8080/"
        },
        "id": "YFVkI1VyW4JW",
        "outputId": "7936012a-7c95-471e-db74-0cf3d44dbe27"
      },
      "outputs": [
        {
          "data": {
            "text/plain": [
              "[('drive', 0.047627990817893005, 1.0),\n",
              " ('sale', 0.03659626266401961, 1.0),\n",
              " ('scsi', 0.03449211850942685, 1.0),\n",
              " ('controller', 0.034160334506778064, 1.0),\n",
              " ('board', 0.0250823970923262, 1.0),\n",
              " ('shipping', 0.023611161543043848, 1.0),\n",
              " ('ide', 0.02328270220749617, 1.0),\n",
              " ('drives', 0.0230260827505694, 1.0),\n",
              " ('cd', 0.022273944472671618, 1.0),\n",
              " ('bus', 0.021876237674240656, 1.0)]"
            ]
          },
          "execution_count": 9,
          "metadata": {},
          "output_type": "execute_result"
        }
      ],
      "source": [
        "words_for_10th_topic = topic_model.get_topics(topic=10, n_words=10)\n",
        "words_for_10th_topic"
      ]
    },
    {
      "cell_type": "code",
      "execution_count": null,
      "metadata": {
        "colab": {
          "base_uri": "https://localhost:8080/"
        },
        "id": "0yul9Ewc_0AY",
        "outputId": "2f62cdf7-ae8a-4f5a-ab7b-026e532a388d"
      },
      "outputs": [
        {
          "output_type": "execute_result",
          "data": {
            "text/plain": [
              "('sale', 0.03659626266401961, 1.0)"
            ]
          },
          "metadata": {},
          "execution_count": 23
        }
      ],
      "source": [
        "words_for_10th_topic[1]"
      ]
    },
    {
      "cell_type": "code",
      "execution_count": null,
      "metadata": {
        "id": "Mq3Xnr-nyG5O"
      },
      "outputs": [],
      "source": [
        "import pandas as pd\n",
        "\n",
        "new_tuples = []\n",
        "for i in range(0,49):\n",
        "  words_for_ith_topic = topic_model.get_topics(topic=i, n_words=10)\n",
        "  # print(words_for_ith_topic)\n",
        "  a = i\n",
        "  for j in range(0,5):\n",
        "    new_tuple = (a, *words_for_ith_topic[j])\n",
        "    # print(new_tuple)\n",
        "    new_tuples.append(new_tuple)\n",
        "\n",
        "df = pd.DataFrame(new_tuples,columns=['topic', 'word', 'tc_topic', 'word_present'])"
      ]
    },
    {
      "cell_type": "code",
      "source": [
        "df.head()"
      ],
      "metadata": {
        "colab": {
          "base_uri": "https://localhost:8080/",
          "height": 206
        },
        "id": "14bKJ4sU567A",
        "outputId": "626bd82a-7486-458c-9df0-7283f3025936"
      },
      "execution_count": null,
      "outputs": [
        {
          "output_type": "execute_result",
          "data": {
            "text/plain": [
              "   topic      word  tc_topic  word_present\n",
              "0      0       dsl  0.042432           1.0\n",
              "1      0     n3jxp  0.041757           1.0\n",
              "2      0  chastity  0.041757           1.0\n",
              "3      0     cadre  0.041258           1.0\n",
              "4      0       geb  0.040431           1.0"
            ],
            "text/html": [
              "\n",
              "  <div id=\"df-8b07ef66-132e-4366-b695-047aee3e15d7\">\n",
              "    <div class=\"colab-df-container\">\n",
              "      <div>\n",
              "<style scoped>\n",
              "    .dataframe tbody tr th:only-of-type {\n",
              "        vertical-align: middle;\n",
              "    }\n",
              "\n",
              "    .dataframe tbody tr th {\n",
              "        vertical-align: top;\n",
              "    }\n",
              "\n",
              "    .dataframe thead th {\n",
              "        text-align: right;\n",
              "    }\n",
              "</style>\n",
              "<table border=\"1\" class=\"dataframe\">\n",
              "  <thead>\n",
              "    <tr style=\"text-align: right;\">\n",
              "      <th></th>\n",
              "      <th>topic</th>\n",
              "      <th>word</th>\n",
              "      <th>tc_topic</th>\n",
              "      <th>word_present</th>\n",
              "    </tr>\n",
              "  </thead>\n",
              "  <tbody>\n",
              "    <tr>\n",
              "      <th>0</th>\n",
              "      <td>0</td>\n",
              "      <td>dsl</td>\n",
              "      <td>0.042432</td>\n",
              "      <td>1.0</td>\n",
              "    </tr>\n",
              "    <tr>\n",
              "      <th>1</th>\n",
              "      <td>0</td>\n",
              "      <td>n3jxp</td>\n",
              "      <td>0.041757</td>\n",
              "      <td>1.0</td>\n",
              "    </tr>\n",
              "    <tr>\n",
              "      <th>2</th>\n",
              "      <td>0</td>\n",
              "      <td>chastity</td>\n",
              "      <td>0.041757</td>\n",
              "      <td>1.0</td>\n",
              "    </tr>\n",
              "    <tr>\n",
              "      <th>3</th>\n",
              "      <td>0</td>\n",
              "      <td>cadre</td>\n",
              "      <td>0.041258</td>\n",
              "      <td>1.0</td>\n",
              "    </tr>\n",
              "    <tr>\n",
              "      <th>4</th>\n",
              "      <td>0</td>\n",
              "      <td>geb</td>\n",
              "      <td>0.040431</td>\n",
              "      <td>1.0</td>\n",
              "    </tr>\n",
              "  </tbody>\n",
              "</table>\n",
              "</div>\n",
              "      <button class=\"colab-df-convert\" onclick=\"convertToInteractive('df-8b07ef66-132e-4366-b695-047aee3e15d7')\"\n",
              "              title=\"Convert this dataframe to an interactive table.\"\n",
              "              style=\"display:none;\">\n",
              "        \n",
              "  <svg xmlns=\"http://www.w3.org/2000/svg\" height=\"24px\"viewBox=\"0 0 24 24\"\n",
              "       width=\"24px\">\n",
              "    <path d=\"M0 0h24v24H0V0z\" fill=\"none\"/>\n",
              "    <path d=\"M18.56 5.44l.94 2.06.94-2.06 2.06-.94-2.06-.94-.94-2.06-.94 2.06-2.06.94zm-11 1L8.5 8.5l.94-2.06 2.06-.94-2.06-.94L8.5 2.5l-.94 2.06-2.06.94zm10 10l.94 2.06.94-2.06 2.06-.94-2.06-.94-.94-2.06-.94 2.06-2.06.94z\"/><path d=\"M17.41 7.96l-1.37-1.37c-.4-.4-.92-.59-1.43-.59-.52 0-1.04.2-1.43.59L10.3 9.45l-7.72 7.72c-.78.78-.78 2.05 0 2.83L4 21.41c.39.39.9.59 1.41.59.51 0 1.02-.2 1.41-.59l7.78-7.78 2.81-2.81c.8-.78.8-2.07 0-2.86zM5.41 20L4 18.59l7.72-7.72 1.47 1.35L5.41 20z\"/>\n",
              "  </svg>\n",
              "      </button>\n",
              "      \n",
              "  <style>\n",
              "    .colab-df-container {\n",
              "      display:flex;\n",
              "      flex-wrap:wrap;\n",
              "      gap: 12px;\n",
              "    }\n",
              "\n",
              "    .colab-df-convert {\n",
              "      background-color: #E8F0FE;\n",
              "      border: none;\n",
              "      border-radius: 50%;\n",
              "      cursor: pointer;\n",
              "      display: none;\n",
              "      fill: #1967D2;\n",
              "      height: 32px;\n",
              "      padding: 0 0 0 0;\n",
              "      width: 32px;\n",
              "    }\n",
              "\n",
              "    .colab-df-convert:hover {\n",
              "      background-color: #E2EBFA;\n",
              "      box-shadow: 0px 1px 2px rgba(60, 64, 67, 0.3), 0px 1px 3px 1px rgba(60, 64, 67, 0.15);\n",
              "      fill: #174EA6;\n",
              "    }\n",
              "\n",
              "    [theme=dark] .colab-df-convert {\n",
              "      background-color: #3B4455;\n",
              "      fill: #D2E3FC;\n",
              "    }\n",
              "\n",
              "    [theme=dark] .colab-df-convert:hover {\n",
              "      background-color: #434B5C;\n",
              "      box-shadow: 0px 1px 3px 1px rgba(0, 0, 0, 0.15);\n",
              "      filter: drop-shadow(0px 1px 2px rgba(0, 0, 0, 0.3));\n",
              "      fill: #FFFFFF;\n",
              "    }\n",
              "  </style>\n",
              "\n",
              "      <script>\n",
              "        const buttonEl =\n",
              "          document.querySelector('#df-8b07ef66-132e-4366-b695-047aee3e15d7 button.colab-df-convert');\n",
              "        buttonEl.style.display =\n",
              "          google.colab.kernel.accessAllowed ? 'block' : 'none';\n",
              "\n",
              "        async function convertToInteractive(key) {\n",
              "          const element = document.querySelector('#df-8b07ef66-132e-4366-b695-047aee3e15d7');\n",
              "          const dataTable =\n",
              "            await google.colab.kernel.invokeFunction('convertToInteractive',\n",
              "                                                     [key], {});\n",
              "          if (!dataTable) return;\n",
              "\n",
              "          const docLinkHtml = 'Like what you see? Visit the ' +\n",
              "            '<a target=\"_blank\" href=https://colab.research.google.com/notebooks/data_table.ipynb>data table notebook</a>'\n",
              "            + ' to learn more about interactive tables.';\n",
              "          element.innerHTML = '';\n",
              "          dataTable['output_type'] = 'display_data';\n",
              "          await google.colab.output.renderOutput(dataTable, element);\n",
              "          const docLink = document.createElement('div');\n",
              "          docLink.innerHTML = docLinkHtml;\n",
              "          element.appendChild(docLink);\n",
              "        }\n",
              "      </script>\n",
              "    </div>\n",
              "  </div>\n",
              "  "
            ]
          },
          "metadata": {},
          "execution_count": 10
        }
      ]
    },
    {
      "cell_type": "code",
      "source": [
        "# anchor_words = [[], ['team', 'game', 'season', 'players', 'league'], ['government', 'law', 'public', 'rights', 'state']]\n",
        "# anchored_topic_model = ct.Corex(n_hidden=50, seed=2)\n",
        "# anchored_topic_model.fit(doc_word, words=words, anchors=anchor_words, anchor_strength=6)"
      ],
      "metadata": {
        "colab": {
          "base_uri": "https://localhost:8080/"
        },
        "id": "DoGVEolu8KrP",
        "outputId": "4c5d11d4-f5ee-4ce6-b33a-351671b07456"
      },
      "execution_count": null,
      "outputs": [
        {
          "output_type": "execute_result",
          "data": {
            "text/plain": [
              "<corextopic.corextopic.Corex at 0x7f11ea205c10>"
            ]
          },
          "metadata": {},
          "execution_count": 33
        }
      ]
    },
    {
      "cell_type": "markdown",
      "source": [
        "## Automating anchor word selection\n",
        "Just taking the top 5 words of topic_model.get_topic() results from each topic"
      ],
      "metadata": {
        "id": "ALdzmlz5X7Sj"
      }
    },
    {
      "cell_type": "code",
      "source": [
        "anchor_words = []\n",
        "for i in range(0,49):\n",
        "  anchor_words_per_topic = df.word[df.topic == i].values.tolist()\n",
        "  anchor_words.append(anchor_words_per_topic)\n",
        "anchored_topic_model = ct.Corex(n_hidden=50, seed=2)\n",
        "anchored_topic_model.fit(doc_word, words=words, anchors=anchor_words, anchor_strength=6)"
      ],
      "metadata": {
        "id": "hJd3jLhmAEWn",
        "colab": {
          "base_uri": "https://localhost:8080/"
        },
        "outputId": "8a8d5714-1025-42c2-db07-73e36f23cdc2"
      },
      "execution_count": null,
      "outputs": [
        {
          "output_type": "execute_result",
          "data": {
            "text/plain": [
              "<corextopic.corextopic.Corex at 0x7f33a3bfbbd0>"
            ]
          },
          "metadata": {},
          "execution_count": 18
        }
      ]
    },
    {
      "cell_type": "code",
      "execution_count": null,
      "metadata": {
        "colab": {
          "base_uri": "https://localhost:8080/"
        },
        "id": "L8bVR_HpYuso",
        "outputId": "7fd8c986-6e1d-413a-ff4c-ec7128b22edd"
      },
      "outputs": [
        {
          "name": "stdout",
          "output_type": "stream",
          "text": [
            "0: dsl, n3jxp, chastity, cadre, geb, shameful, intellect, skepticism, banks, pitt\n",
            "1: team, game, season, players, league, play, hockey, games, teams, nhl\n",
            "2: government, law, public, rights, state, encryption, clipper, federal, security, secure\n",
            "3: god, jesus, bible, christians, christian, christ, religion, jews, church, faith\n",
            "4: people, say, fact, point, believe, person, saying, world, reason, mean\n",
            "5: armenians, armenian, national, international, argic, press, policy, serdar, soviet, armenia\n",
            "6: file, program, window, directory, ftp, pub, server, application, unix, available\n",
            "7: based, issue, sense, clear, truth, subject, certain, known, particular, existence\n",
            "8: cs, ma, au, gmt, cc, uu, id, sites, fi, host\n",
            "9: windows, software, card, thanks, pc, dos, files, disk, advance, ram\n",
            "10: drive, sale, scsi, controller, board, shipping, ide, drives, cd, bus\n",
            "11: pitching, hit, staff, braves, runs, hitter, nl, smith, hr, baltimore\n",
            "12: just, don, like, time, going, right, better, let, come, didn\n",
            "13: archive, various, document, related, addition, modified, published, contents, complete, distributed\n",
            "14: information, internet, university, systems, send, following, address, phone, contact, computer\n",
            "15: year, april, san, york, los, washington, north, angeles, city, california\n",
            "16: war, country, children, killed, military, population, society, live, soldiers, anti\n",
            "17: space, nasa, orbit, earth, moon, launch, shuttle, lunar, mission, flight\n",
            "18: life, sin, words, mind, spirit, born, father, follow, accept, son\n",
            "19: pp, special, van, berkeley, journal, ai, mark, mu, la, vol\n",
            "20: years, away, later, left, came, days, old, ago, took, gave\n",
            "21: disease, medical, doctor, patients, food, cause, treatment, medicine, blood, health\n",
            "22: provide, questions, provides, developed, specific, development, standard, require, appropriate, commercial\n",
            "23: given, number, note, end, present, taken, according, purpose, numbers, major\n",
            "24: key, keys, data, algorithm, details, des, process, contains, users, provided\n",
            "25: members, turkish, involved, army, organizations, troops, received, organization, land, fighting\n",
            "26: read, different, example, does, word, having, groups, written, book, try\n",
            "27: united, states, american, force, individual, independent, arms, community, nation, forces\n",
            "28: death, human, said, evidence, crime, self, kill, lives, murder, killing\n",
            "29: new, including, sent, single, department, short, news, ii, school, placed\n",
            "30: use, using, work, used, need, run, problems, line, help, type\n",
            "31: large, small, control, needed, outside, local, light, parts, useful, ground\n",
            "32: general, important, far, course, non, times, actually, consider, likely, result\n",
            "33: think, way, good, things, really, know, did, thing, ve, probably\n",
            "34: problem, set, place, called, change, trying, return, open, support, instead\n",
            "35: man, history, today, women, went, told, coming, happened, stand, knew\n",
            "36: second, john, period, 1st, 2nd, 3rd, points, goal, ed, followed\n",
            "37: bike, ride, engine, riding, dod, bikes, miles, motorcycle, rear, honda\n",
            "38: drivers, mode, mb, faster, interface, os, driver, hp, color, fast\n",
            "39: gun, guns, weapons, firearms, defense, weapon, batf, armed, assault, shooting\n",
            "40: high, power, low, current, model, al, lower, higher, series, average\n",
            "41: ways, dr, break, passed, kinds, reach, mass, larry, content, stands\n",
            "42: wide, included, volume, remote, bit, pages, notes, fully, fields, operations\n",
            "43: long, day, especially, situation, rest, body, century, ones, family, worse\n",
            "44: make, want, real, case, possible, order, quite, free, able, ask\n",
            "45: car, money, cars, pay, tax, road, deal, insurance, worth, dollars\n",
            "46: drug, certainly, considered, taking, effective, expect, generally, social, child, purposes\n",
            "47: necessary, strong, prevent, required, plan, safe, carefully, attention, aside, unique\n",
            "48: little, wants, takes, comes, lead, trouble, looks, pass, capable, unfortunately\n",
            "49: bring, brought, happy, charge, smart, improve, shows, england, cast, belong\n"
          ]
        }
      ],
      "source": [
        "topics = topic_model.get_topics()\n",
        "for n,topic in enumerate(topics):\n",
        "    topic_words,_,_ = zip(*topic)\n",
        "    print('{}: '.format(n) + ', '.join(topic_words))"
      ]
    },
    {
      "cell_type": "code",
      "execution_count": null,
      "metadata": {
        "colab": {
          "base_uri": "https://localhost:8080/"
        },
        "id": "lJwy4awQbOvd",
        "outputId": "e1a322e3-0cbd-47c9-9233-c2c0c77552f8"
      },
      "outputs": [
        {
          "name": "stdout",
          "output_type": "stream",
          "text": [
            "8\n"
          ]
        }
      ],
      "source": [
        "print(topic_model.clusters[0])"
      ]
    },
    {
      "cell_type": "code",
      "execution_count": null,
      "metadata": {
        "colab": {
          "base_uri": "https://localhost:8080/"
        },
        "id": "zjCh8j0ciM8O",
        "outputId": "3d1b51fb-8089-4603-e126-2cdec36d589b"
      },
      "outputs": [
        {
          "output_type": "execute_result",
          "data": {
            "text/plain": [
              "44.547808454659226"
            ]
          },
          "metadata": {},
          "execution_count": 19
        }
      ],
      "source": [
        "topic_model.tc"
      ]
    },
    {
      "cell_type": "code",
      "source": [
        "anchored_topic_model.tc"
      ],
      "metadata": {
        "colab": {
          "base_uri": "https://localhost:8080/"
        },
        "id": "uQUGoAotANEv",
        "outputId": "fa963e25-599e-4050-e3b9-0dfcc7e4f0f9"
      },
      "execution_count": null,
      "outputs": [
        {
          "output_type": "execute_result",
          "data": {
            "text/plain": [
              "118.42168956109052"
            ]
          },
          "metadata": {},
          "execution_count": 20
        }
      ]
    },
    {
      "cell_type": "code",
      "execution_count": null,
      "metadata": {
        "colab": {
          "base_uri": "https://localhost:8080/",
          "height": 339
        },
        "id": "gIJklezyGTA9",
        "outputId": "1dedbef3-4954-4a03-a621-f0fd798cea5c"
      },
      "outputs": [
        {
          "output_type": "display_data",
          "data": {
            "text/plain": [
              "<Figure size 720x360 with 1 Axes>"
            ],
            "image/png": "[encoded data removed]"
          },
          "metadata": {
            "needs_background": "light"
          }
        }
      ],
      "source": [
        "plt.figure(figsize=(10,5))\n",
        "plt.bar(range(topic_model.tcs.shape[0]), topic_model.tcs, color='#4e79a7', width=0.5)\n",
        "plt.xlabel('Topic', fontsize=16)\n",
        "plt.ylabel('Total Correlation (nats)', fontsize=16)"
      ]
    },
    {
      "cell_type": "code",
      "execution_count": null,
      "metadata": {
        "id": "RONCz2BnG6hT",
        "colab": {
          "base_uri": "https://localhost:8080/",
          "height": 357
        },
        "outputId": "26fc3c10-f4bd-403c-864b-7e892bfe1a23"
      },
      "outputs": [
        {
          "output_type": "execute_result",
          "data": {
            "text/plain": [
              "Text(0, 0.5, 'Total Correlation (nats)')"
            ]
          },
          "metadata": {},
          "execution_count": 22
        },
        {
          "output_type": "display_data",
          "data": {
            "text/plain": [
              "<Figure size 720x360 with 1 Axes>"
            ],
            "image/png": "[encoded data removed]"
          },
          "metadata": {
            "needs_background": "light"
          }
        }
      ],
      "source": [
        "plt.figure(figsize=(10,5))\n",
        "plt.bar(range(anchored_topic_model.tcs.shape[0]), anchored_topic_model.tcs, color='#4e79a7', width=0.5)\n",
        "plt.xlabel('Topic_anchored', fontsize=16)\n",
        "plt.ylabel('Total Correlation (nats)', fontsize=16)"
      ]
    },
    {
      "cell_type": "code",
      "source": [
        "topic_model.get_topics(n_words=10, topic=16)"
      ],
      "metadata": {
        "colab": {
          "base_uri": "https://localhost:8080/"
        },
        "id": "eS74X-2BDFRk",
        "outputId": "303d11ee-9042-4190-e8a9-a0008d40a1d6"
      },
      "execution_count": null,
      "outputs": [
        {
          "output_type": "execute_result",
          "data": {
            "text/plain": [
              "[('war', 0.04756623051043258, 1.0),\n",
              " ('country', 0.03911737022274669, 1.0),\n",
              " ('children', 0.038849130595586166, 1.0),\n",
              " ('killed', 0.03858093933773956, 1.0),\n",
              " ('military', 0.03414907965477289, 1.0),\n",
              " ('population', 0.03099598737683641, 1.0),\n",
              " ('society', 0.025357856826708686, 1.0),\n",
              " ('live', 0.024933026341840282, 1.0),\n",
              " ('soldiers', 0.022891116429347224, 1.0),\n",
              " ('anti', 0.022530714602238565, 1.0)]"
            ]
          },
          "metadata": {},
          "execution_count": 38
        }
      ]
    },
    {
      "cell_type": "code",
      "source": [
        "anchored_topic_model.get_topics(n_words=10, topic=16)"
      ],
      "metadata": {
        "colab": {
          "base_uri": "https://localhost:8080/"
        },
        "id": "mXTzSZNhOzRd",
        "outputId": "ad0e151b-b30f-4e81-94e8-6e00248931cf"
      },
      "execution_count": null,
      "outputs": [
        {
          "output_type": "execute_result",
          "data": {
            "text/plain": [
              "[('country', 0.5309571839038109, 1.0),\n",
              " ('children', 0.5229014782474128, 1.0),\n",
              " ('war', 0.4510335002440822, 1.0),\n",
              " ('killed', 0.37831813236762957, 1.0),\n",
              " ('military', 0.36468778686461933, 1.0),\n",
              " ('israel', 0.035734940063241676, 1.0),\n",
              " ('jews', 0.03236520259443795, 1.0),\n",
              " ('israeli', 0.02907219736046021, 1.0),\n",
              " ('arab', 0.022541775753925783, 1.0),\n",
              " ('peace', 0.02049150755901015, 1.0)]"
            ]
          },
          "metadata": {},
          "execution_count": 37
        }
      ]
    },
    {
      "cell_type": "markdown",
      "source": [
        "## Word embedding for Value Monitor \n",
        "Trying gensim word2vec library for word embedding for a kaggle dataset"
      ],
      "metadata": {
        "id": "Fr4i2w0HdK6q"
      }
    },
    {
      "cell_type": "code",
      "source": [
        "pip install --upgrade gensim"
      ],
      "metadata": {
        "id": "6uZqlseYgLv2",
        "outputId": "9d3bcefe-9bcf-47db-9abe-f4966ef3a375",
        "colab": {
          "base_uri": "https://localhost:8080/"
        }
      },
      "execution_count": null,
      "outputs": [
        {
          "output_type": "stream",
          "name": "stdout",
          "text": [
            "Looking in indexes: https://pypi.org/simple, https://us-python.pkg.dev/colab-wheels/public/simple/\n",
            "Requirement already satisfied: gensim in /usr/local/lib/python3.7/dist-packages (4.2.0)\n",
            "Requirement already satisfied: numpy>=1.17.0 in /usr/local/lib/python3.7/dist-packages (from gensim) (1.21.6)\n",
            "Requirement already satisfied: smart-open>=1.8.1 in /usr/local/lib/python3.7/dist-packages (from gensim) (5.2.1)\n",
            "Requirement already satisfied: scipy>=0.18.1 in /usr/local/lib/python3.7/dist-packages (from gensim) (1.7.3)\n"
          ]
        }
      ]
    },
    {
      "cell_type": "code",
      "source": [
        "!ls"
      ],
      "metadata": {
        "id": "gK8kZNRreRbd",
        "outputId": "db91bfb6-f04b-4c7a-9ef0-286f5c0e4dcc",
        "colab": {
          "base_uri": "https://localhost:8080/"
        }
      },
      "execution_count": null,
      "outputs": [
        {
          "output_type": "stream",
          "name": "stdout",
          "text": [
            "sample_data  scopus_1.csv\n"
          ]
        }
      ]
    },
    {
      "cell_type": "code",
      "source": [
        "import pandas as pd"
      ],
      "metadata": {
        "id": "wE3QkLfdgP49"
      },
      "execution_count": null,
      "outputs": []
    },
    {
      "cell_type": "code",
      "source": [
        "df = pd.read_csv(\"data.csv\", encoding = \"ISO-8859-1\")"
      ],
      "metadata": {
        "id": "JI8kh5tof50R"
      },
      "execution_count": null,
      "outputs": []
    },
    {
      "cell_type": "code",
      "source": [
        "# df1 = df[['Abstract', 'Author Keywords']]\n",
        "# df1.head()\n",
        "# df1.info\n",
        "df['Maker_Model']= df['Make']+ \" \" + df['Model']\n",
        "df['Maker_Model'].head()"
      ],
      "metadata": {
        "id": "fhOrOsZEihGM",
        "outputId": "1ed5a120-3159-45af-e7f5-b546336b7c2f",
        "colab": {
          "base_uri": "https://localhost:8080/"
        }
      },
      "execution_count": null,
      "outputs": [
        {
          "output_type": "execute_result",
          "data": {
            "text/plain": [
              "0    BMW 1 Series M\n",
              "1      BMW 1 Series\n",
              "2      BMW 1 Series\n",
              "3      BMW 1 Series\n",
              "4      BMW 1 Series\n",
              "Name: Maker_Model, dtype: object"
            ]
          },
          "metadata": {},
          "execution_count": 42
        }
      ]
    },
    {
      "cell_type": "code",
      "source": [
        "df1 = df[['Engine Fuel Type','Transmission Type','Driven_Wheels','Market Category','Vehicle Size', 'Vehicle Style', 'Maker_Model']]"
      ],
      "metadata": {
        "id": "9Wb_xCSK4aoO"
      },
      "execution_count": null,
      "outputs": []
    },
    {
      "cell_type": "code",
      "source": [
        "df2 = df1.apply(lambda x: '|'.join(x.astype(str)), axis=1)\n",
        "df2.head()"
      ],
      "metadata": {
        "id": "M8TA1kgGnf1J",
        "outputId": "dc0a6586-c166-408a-94b6-f2e93552c91c",
        "colab": {
          "base_uri": "https://localhost:8080/"
        }
      },
      "execution_count": null,
      "outputs": [
        {
          "output_type": "execute_result",
          "data": {
            "text/plain": [
              "0    premium unleaded (required)|MANUAL|rear wheel ...\n",
              "1    premium unleaded (required)|MANUAL|rear wheel ...\n",
              "2    premium unleaded (required)|MANUAL|rear wheel ...\n",
              "3    premium unleaded (required)|MANUAL|rear wheel ...\n",
              "4    premium unleaded (required)|MANUAL|rear wheel ...\n",
              "dtype: object"
            ]
          },
          "metadata": {},
          "execution_count": 44
        }
      ]
    },
    {
      "cell_type": "code",
      "source": [
        "df_clean = pd.DataFrame({'clean': df2})"
      ],
      "metadata": {
        "id": "KHP5YGmhnp-r"
      },
      "execution_count": null,
      "outputs": []
    },
    {
      "cell_type": "code",
      "source": [
        "sent = [row.split('|') for row in df_clean['clean']]"
      ],
      "metadata": {
        "id": "SMiuSXWYnw-a"
      },
      "execution_count": null,
      "outputs": []
    },
    {
      "cell_type": "code",
      "source": [
        "sent[0]"
      ],
      "metadata": {
        "id": "Kg6MJ5xhn28O",
        "outputId": "56df20c9-d042-49b0-fb42-3b2dc5faf70a",
        "colab": {
          "base_uri": "https://localhost:8080/"
        }
      },
      "execution_count": null,
      "outputs": [
        {
          "output_type": "execute_result",
          "data": {
            "text/plain": [
              "['premium unleaded (required)',\n",
              " 'MANUAL',\n",
              " 'rear wheel drive',\n",
              " 'Factory Tuner,Luxury,High-Performance',\n",
              " 'Compact',\n",
              " 'Coupe',\n",
              " 'BMW 1 Series M']"
            ]
          },
          "metadata": {},
          "execution_count": 47
        }
      ]
    },
    {
      "cell_type": "code",
      "source": [
        "from gensim import models"
      ],
      "metadata": {
        "id": "G25VVCYDpFK1"
      },
      "execution_count": null,
      "outputs": []
    },
    {
      "cell_type": "code",
      "source": [
        "len(sent)"
      ],
      "metadata": {
        "id": "lvOiAeIz04kC",
        "outputId": "a6163542-d944-4253-efa5-71b39fe366d3",
        "colab": {
          "base_uri": "https://localhost:8080/"
        }
      },
      "execution_count": null,
      "outputs": [
        {
          "output_type": "execute_result",
          "data": {
            "text/plain": [
              "1142"
            ]
          },
          "metadata": {},
          "execution_count": 31
        }
      ]
    },
    {
      "cell_type": "code",
      "source": [
        "\n",
        "print(\"Model training started\")\n",
        "model = models.Word2Vec(sentences=sent)"
      ],
      "metadata": {
        "id": "ZJRuzpJ9n9Q7",
        "outputId": "24d1bf17-6d1e-4704-8086-6dd78886949c",
        "colab": {
          "base_uri": "https://localhost:8080/"
        }
      },
      "execution_count": null,
      "outputs": [
        {
          "output_type": "stream",
          "name": "stdout",
          "text": [
            "Model training started\n"
          ]
        }
      ]
    },
    {
      "cell_type": "code",
      "source": [
        "from gensim.test.utils import common_texts\n",
        "from gensim.models import Word2Vec"
      ],
      "metadata": {
        "id": "45v9i75yq9nU"
      },
      "execution_count": null,
      "outputs": []
    },
    {
      "cell_type": "code",
      "source": [
        "model = Word2Vec(sentences=common_texts, vector_size=100, window=5, min_count=1, workers=4)"
      ],
      "metadata": {
        "id": "AZhTW7HC7tsb"
      },
      "execution_count": null,
      "outputs": []
    },
    {
      "cell_type": "code",
      "source": [
        "model.save(\"word2vec.model\")"
      ],
      "metadata": {
        "id": "Xa1Ucp-47xBU"
      },
      "execution_count": null,
      "outputs": []
    },
    {
      "cell_type": "code",
      "source": [
        "model = Word2Vec.load(\"word2vec.model\")"
      ],
      "metadata": {
        "id": "pzQCljn1716y"
      },
      "execution_count": null,
      "outputs": []
    },
    {
      "cell_type": "code",
      "source": [
        "vector = model.wv['computer']"
      ],
      "metadata": {
        "id": "H4twIMFv7_k1"
      },
      "execution_count": null,
      "outputs": []
    },
    {
      "cell_type": "code",
      "source": [
        "sims = model.wv.most_similar('computer', topn=10)\n",
        "sims"
      ],
      "metadata": {
        "id": "e6GrYBDu8CJf",
        "outputId": "e8a47906-2450-4e9d-e5d0-a0ebf23fa344",
        "colab": {
          "base_uri": "https://localhost:8080/"
        }
      },
      "execution_count": null,
      "outputs": [
        {
          "output_type": "execute_result",
          "data": {
            "text/plain": [
              "[('system', 0.21617142856121063),\n",
              " ('survey', 0.044689204543828964),\n",
              " ('interface', 0.015203374437987804),\n",
              " ('time', 0.0019510634010657668),\n",
              " ('trees', -0.03284314647316933),\n",
              " ('human', -0.0742427185177803),\n",
              " ('response', -0.09317589551210403),\n",
              " ('graph', -0.09575346112251282),\n",
              " ('eps', -0.10513807088136673),\n",
              " ('user', -0.16911624372005463)]"
            ]
          },
          "metadata": {},
          "execution_count": 64
        }
      ]
    },
    {
      "cell_type": "code",
      "source": [],
      "metadata": {
        "id": "pXrVn0HY8Eq6"
      },
      "execution_count": null,
      "outputs": []
    }
  ],
  "metadata": {
    "colab": {
      "provenance": [],
      "authorship_tag": "ABX9TyPmCscpMBN6HZ6GLDGTsR42",
      "include_colab_link": true
    },
    "kernelspec": {
      "display_name": "Python 3",
      "name": "python3"
    },
    "language_info": {
      "name": "python"
    }
  },
  "nbformat": 4,
  "nbformat_minor": 0
}