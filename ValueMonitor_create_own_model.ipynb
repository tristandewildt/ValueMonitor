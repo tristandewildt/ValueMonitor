{
 "cells": [
  {
   "cell_type": "markdown",
   "metadata": {},
   "source": [
    "# ValueMonitor - Create your own topic model"
   ]
  },
  {
   "cell_type": "markdown",
   "metadata": {},
   "source": [
    "This page is a visualisation of the ValueMonitor prototype. In case you would like to use the notebook, click on the icon ‘**Run in Google Colab**’ hereunder:"
   ]
  },
  {
   "cell_type": "markdown",
   "metadata": {},
   "source": [
    "<table class=\"tfo-notebook-buttons\" align=\"left\">\n",
    "  <td>\n",
    "    <a target=\"_blank\" href=\"https://colab.research.google.com/github/tristandewildt/ValueMonitor/blob/main/ValueMonitor_create_own_model.ipynb\"><img src=\"https://www.tensorflow.org/images/colab_logo_32px.png\" />Run in Google Colab</a>\n",
    "  </td>\n",
    "  <td>\n",
    "    <a target=\"_blank\" href=\"https://github.com/tristandewildt/ValueMonitor/blob/main/ValueMonitor_create_own_model.ipynb\"><img src=\"https://www.tensorflow.org/images/GitHub-Mark-32px.png\" />View source on GitHub</a>\n",
    "  </td>\n",
    "</table>"
   ]
  },
  {
   "cell_type": "markdown",
   "metadata": {},
   "source": [
    "## Table of content:\n",
    "* [1. Import dataset and packages](#import_dataset_and_packages)\n",
    "* [2. Creating the topic model](#creating_the_topic_model)\n",
    "* [3. Verifying the topic model](#verifying_the_topic_model)\n",
    "* [4. Gap assessment](#gap_assessment)\n",
    "* [5. Impact assessment](#impact_assessment)\n",
    "* [6. Values in different societal_groups](#values_in_different_societal_groups)"
   ]
  },
  {
   "cell_type": "markdown",
   "metadata": {},
   "source": [
    "## 1. Import dataset and packages  <a name=\"import_dataset_and_packages\"></a>"
   ]
  },
  {
   "cell_type": "markdown",
   "metadata": {},
   "source": [
    "In this step, the dataset and relavant python packages are imported"
   ]
  },
  {
   "cell_type": "code",
   "execution_count": 3,
   "metadata": {},
   "outputs": [
    {
     "name": "stderr",
     "output_type": "stream",
     "text": [
      "'git' is not recognized as an internal or external command,\n",
      "operable program or batch file.\n"
     ]
    }
   ],
   "source": [
    "''' Packages'''\n",
    "\n",
    "!pip install corextopic\n",
    "!pip install joblib\n",
    "!pip install tabulate\n",
    "!pip install simple_colors\n",
    "!pip install ipyfilechooser\n",
    "\n",
    "import os, sys, importlib\n",
    "import pandas as pd\n",
    "import ipywidgets as widgets\n",
    "from ipywidgets import interact, interact_manual, Button\n",
    "import pickle\n",
    "from ipyfilechooser import FileChooser\n",
    "from tkinter import Tk, filedialog\n",
    "from IPython.display import clear_output, display\n",
    "from google.colab import files\n",
    "import nltk\n",
    "import io\n",
    "nltk.download('averaged_perceptron_tagger')\n",
    "nltk.download('punkt')\n",
    "\n",
    "\n",
    "''' Source code'''\n",
    "\n",
    "user = \"tristandewildt\"\n",
    "repo = \"ValueMonitor\"\n",
    "src_dir = \"code\"\n",
    "pyfile_1 = \"make_topic_model.py\"\n",
    "pyfile_2 = \"create_visualisation.py\"\n",
    "\n",
    "if os.path.isdir(repo):\n",
    "    !rm -rf {repo}\n",
    "\n",
    "!git clone https://github.com/{user}/{repo}.git\n",
    "\n",
    "path = f\"{repo}/{src_dir}\"\n",
    "if not path in sys.path:\n",
    "    sys.path.insert(1, path)\n",
    "\n",
    "make_topic_model = importlib.import_module(pyfile_1.rstrip(\".py\"))\n",
    "create_visualisation = importlib.import_module(pyfile_2.rstrip(\".py\"))\n",
    "\n",
    "from make_topic_model import *\n",
    "from create_visualisation import *\n"
   ]
  },
  {
   "cell_type": "code",
   "execution_count": null,
   "metadata": {},
   "outputs": [],
   "source": [
    "''' Dataset '''\n",
    "\n",
    "csv = files.upload()\n",
    "data = io.BytesIO(csv[list(csv.keys())[0]])\n",
    "df = pd.read_csv(data)"
   ]
  },
  {
   "cell_type": "code",
   "execution_count": null,
   "metadata": {},
   "outputs": [],
   "source": [
    "''' Cleaning of the dataset  '''\n",
    "\n",
    "columns_to_select_as_text = [\"text\"]\n",
    "column_as_date = [\"date\"]\n",
    "other_columns_to_keep = []\n",
    "\n",
    "wordtagging = True # True, False\n",
    "tags_to_select = ['NN', 'NNP', 'NNS', 'VB', 'VBD', 'VBG', 'VBN', 'VBP', 'VBZ', 'JJ']\n",
    "# https://stackoverflow.com/questions/15388831/what-are-all-possible-pos-tags-of-nltk\n",
    "\n",
    "pd.options.mode.chained_assignment = None  # default='warn'\n",
    "\n",
    "df = clean_df(df, columns_to_select_as_text, column_as_date, other_columns_to_keep, wordtagging, tags_to_select)\n",
    "df.info()"
   ]
  },
  {
   "cell_type": "markdown",
   "metadata": {
    "id": "EqtK4E3CSnIS"
   },
   "source": [
    "## 2. Creating the topic model <a name=\"creating_the_topic_model\"></a>"
   ]
  },
  {
   "cell_type": "markdown",
   "metadata": {
    "id": "BrZc5SEz70E6"
   },
   "source": [
    "In this step, we create a topic model in which some of the topics refer to values. The creation of topics that reflect values is done by means of so-called 'anchor' words. These words guide the algorithm in the creation of topics that reflect values.\n",
    "\n",
    "Anchor words are typically words that people use to refer to (the idea of) a value, such as synonyms. After adding some anchor words and running the model, the algorithm will automatically pick up other words that refer to the value. This is because the algorithm has observed that these words are often mentionned in the same documents as the anchor words.\n",
    "\n",
    "Finding the right anchor words is typically an iterative process, by observing the new topic model created by the algorithm. Some anchor words need to be added to ensure that some aspect of the value are not left behind (to be placed in *dict_anchor_words* in the cell below). Other words need to be removed since they do not refer to the value (in *list_rejected_words* in the cell below).\n",
    "\n",
    "We have prefilled an number of anchor words for each value."
   ]
  },
  {
   "cell_type": "code",
   "execution_count": 4,
   "metadata": {},
   "outputs": [],
   "source": [
    "dict_anchor_words = {\n",
    "\"Justice and Fairness\" : [\"justice\", \"fairness\", \"fair\", \"equality\", \"unfair\"],\n",
    "\"Privacy\" : [\"privacy\", \"personal data\", \"personal sphere\", \"data privacy\", \"privacy protection\", \"privacy concerns\", \n",
    "             \"confidentiality\"],\n",
    "\"Cyber-security\" : [\"cyber\", \"security\", \"cybersecurity\", \"malicious\", \"attacks\"],\n",
    "\"Environmnental Sustainability\" : [\"sustainability\", \"sustainable\", \"renewable\", \"durable\", \"durability\",\n",
    "                                  \"sustainable development\", \"environmental\"],\n",
    "\"Transparency\" : [\"transparency\", \"transparent\", \"transparently\", \"explainability\", \"interpretability\", \"explainable\",\n",
    "                 \"opaque\", \"interpretable\"],\n",
    "\"Accountability\" : [\"accountable\", \"accountability\", \"accountable\", \"traceability\", \"traceable\"],\n",
    "\"Autonomy\" : [\"autonomy\", \"self-determination\", \"autonomy human\", \"personal autonomy\"], \n",
    "\"Democracy\" : [\"democracy\", \"democratic\", \"human rights\", \"freedom speech\", \"equal representation\",\n",
    "              \"political\"], \n",
    "\"Reliability\" : [\"reliability\", \"reliable\", \"robustness\", \"robust\", \"predictability\"],\n",
    "\"Trust\" : [\"trust\", \"trustworthy\", \"trustworthiness\", \"confidence\", \"honesty\"],\n",
    "\"Well-being\" : [\"well being\", \"well-being\", \"wellbeing\", \"quality life\",\n",
    "               \"good life\", \"qol\", \"life satisfaction\", \"welfare\"],\n",
    "\"Inclusiveness\" : [\"inclusiveness\", \"inclusive\", \"inclusivity\", \"discrimination\", \"diversity\"]\n",
    "}\n",
    "\n",
    "list_rejected_words = [\"iop\", \"iop publishing\", \"publishing ltd\", \"publishing\", \"licence iop\",\n",
    "                       \"mdpi basel\", \"basel switzerland\", \"mdpi\", \"basel\", \"licensee mdpi\", \"licensee\", \"authors licensee\", \n",
    "                       \"switzerland\", \"authors\", \"publishing limited\", \"emerald\", \"emerald publishing\", ]\n",
    "\n",
    "list_anchor_words_other_topics = [\n",
    "        [\"internet of things\", \"iot\", \"internet things\", \"iot devices\", \"things iot\"],\n",
    "        [\"artificial intelligence\", \"ai\", \"artificial\"],\n",
    "]\n",
    "\n"
   ]
  },
  {
   "cell_type": "code",
   "execution_count": 5,
   "metadata": {
    "colab": {
     "base_uri": "https://localhost:8080/"
    },
    "executionInfo": {
     "elapsed": 203570,
     "status": "ok",
     "timestamp": 1626379422615,
     "user": {
      "displayName": "Tristan de Wildt",
      "photoUrl": "",
      "userId": "12635936161789443610"
     },
     "user_tz": -120
    },
    "id": "pB9tQrBBYxd3",
    "outputId": "6e4f793e-5fd9-4566-e79e-6a005584f5d3",
    "scrolled": true
   },
   "outputs": [
    {
     "name": "stdout",
     "output_type": "stream",
     "text": [
      "Topic #0 (Justice and Fairness): sustainability, environmental, environmental sustainability, initiatives advance, advance economic, are keen, economic growth, sureshpprabhu are, growth environmental, initiatives\n",
      "Topic #1 (Privacy): industry, biofuels industry, have\n",
      "Topic #2 (Cyber-security): made, feed, used, production, corn, biofuel, poetbiofuels, ethanol\n",
      "Topic #3 (Environmnental Sustainability): are aware, europe russia, russia is, is ready, oil ban, russia, help malaysia, is, nst_online, help\n",
      "Topic #4 (Transparency): rt, biofuels co, biodiesel\n",
      "Topic #5 (Accountability): solar, wind, power, energy, using\n",
      "Topic #6 (Autonomy): rfs, demand, being, was, market\n",
      "Topic #7 (Democracy): biomass, bioenergy, things, amp\n",
      "Topic #8 (Reliability): emissions, way, be\n",
      "Topic #9 (Trust): new, has, fuel, technology\n",
      "Topic #10 (Well-being): use\n",
      "Topic #11 (Inclusiveness): epa, hearing, e15, refinery, iagovernor, biofuels digest, digest, ethanolrfa, waiver, rin\n"
     ]
    }
   ],
   "source": [
    "number_of_topics_to_find = 20\n",
    "number_of_documents_in_analysis = 2000\n",
    "\n",
    "number_of_words_per_topic_to_show = 10\n",
    "number_of_words_per_topic = 10\n",
    "\n",
    "'''--------------------------------------------------------------------------''' \n",
    "\n",
    "model_and_vectorized_data = make_anchored_topic_model(df, number_of_topics_to_find, min(number_of_documents_in_analysis, len(df)), dict_anchor_words, list_anchor_words_other_topics, list_rejected_words)\n",
    "topics = report_topics(model_and_vectorized_data[0], dict_anchor_words,number_of_words_per_topic)\n",
    "df_with_topics = create_df_with_topics(df, model_and_vectorized_data[0], model_and_vectorized_data[1], number_of_topics_to_find)"
   ]
  },
  {
   "cell_type": "markdown",
   "metadata": {},
   "source": [
    "## 3. Verifying the topic model   <a name=\"verifying_the_topic_model\"></a>"
   ]
  },
  {
   "cell_type": "markdown",
   "metadata": {},
   "source": [
    "To verify whether topics sufficiently refer to values, the code hereunder can be used to evaluate whether documents indeed address the value in question."
   ]
  },
  {
   "cell_type": "code",
   "execution_count": null,
   "metadata": {},
   "outputs": [],
   "source": [
    "def plot_print_sample_articles_topic(selected_value, size_sample, window):\n",
    "\n",
    "    show_extracts = True # True, False\n",
    "    show_full_text  = False # True, False\n",
    "\n",
    "    print_sample_articles_topic(df_with_topics, dict_anchor_words, topics, selected_value, size_sample, window, show_extracts, show_full_text)\n",
    "\n",
    "interact(plot_print_sample_articles_topic, selected_value=[*dict_anchor_words], size_sample =(5,50, 5), window = (1,100, 1))"
   ]
  },
  {
   "cell_type": "markdown",
   "metadata": {},
   "source": [
    "## 4. Value Prioritization"
   ]
  },
  {
   "cell_type": "markdown",
   "metadata": {},
   "source": [
    "The visualisation here can be used to evaluate the prioritization of values in the dataset."
   ]
  },
  {
   "cell_type": "code",
   "execution_count": 6,
   "metadata": {},
   "outputs": [
    {
     "data": {
      "image/png": "[encoded data removed]",
      "text/plain": [
       "<Figure size 432x432 with 1 Axes>"
      ]
     },
     "metadata": {
      "needs_background": "light"
     },
     "output_type": "display_data"
    }
   ],
   "source": [
    "create_vis_frequency_values(df_with_topics, dict_anchor_words)"
   ]
  },
  {
   "cell_type": "markdown",
   "metadata": {},
   "source": [
    "The code hereunder can be used to explore which articles have been assigned to the different values"
   ]
  },
  {
   "cell_type": "code",
   "execution_count": null,
   "metadata": {},
   "outputs": [],
   "source": [
    "def plot_print_sample_articles_topic(selected_value, size_sample, window):\n",
    "\n",
    "    show_extracts = True # True, False\n",
    "    show_full_text  = False # True, False\n",
    "\n",
    "    print_sample_articles_topic(df_with_topics, dict_anchor_words, topics, selected_value, size_sample, window, show_extracts, show_full_text)\n",
    "\n",
    "interact(plot_print_sample_articles_topic, selected_value=[*dict_anchor_words], size_sample =(5,50, 5), window = (1,100, 1))"
   ]
  },
  {
   "cell_type": "markdown",
   "metadata": {},
   "source": [
    "## 5. Values over time"
   ]
  },
  {
   "cell_type": "markdown",
   "metadata": {},
   "source": [
    "The code hereunder can be used to study how the frequency of values has changed over time"
   ]
  },
  {
   "cell_type": "code",
   "execution_count": null,
   "metadata": {},
   "outputs": [],
   "source": [
    "def plot_create_vis_values_over_time (resampling, smoothing, max_value_y):\n",
    "    \n",
    "    T0 = \"1960-01-01\" #YYYY-MM-DD\n",
    "    T1 = \"2023-01-01\" #YYYY-MM-DD\n",
    "\n",
    "    values_to_include_in_visualisation = []\n",
    "    #values_to_include_in_visualisation = ['Privacy', 'Sustainability']\n",
    "    \n",
    "    resampling_dict = {\"Year\": \"Y\", \"Month\": \"M\", \"Day\": \"D\"}\n",
    "    resampling = resampling_dict[resampling]\n",
    "    #df_with_topics_short = df_with_topics.loc[(df_with_topics['date'] >= dateutil.parser.parse(T0)) & (df_with_topics['date'] <= dateutil.parser.parse(T1))]\n",
    "    df_with_topics_short = df_with_topics.loc[(df_with_topics['date'] >= pd.Timestamp(dateutil.parser.parse(T0), tz='tzlocal()')) & (df_with_topics['date'] <= pd.Timestamp(dateutil.parser.parse(T1), tz='tzlocal()'))]\n",
    "\n",
    "    create_vis_values_over_time(df_with_topics_short, dict_anchor_words, resampling, values_to_include_in_visualisation, smoothing, max_value_y)  \n",
    "    \n",
    "interact(plot_create_vis_values_over_time, smoothing = (0.25,3, 0.25), max_value_y = (5,100, 5), resampling = [\"Year\", \"Month\", \"Day\"])"
   ]
  },
  {
   "cell_type": "markdown",
   "metadata": {},
   "source": [
    "The code hereunder can be used to explore which articles have been assigned to the different values and for specific timeframes."
   ]
  },
  {
   "cell_type": "code",
   "execution_count": null,
   "metadata": {},
   "outputs": [],
   "source": [
    "def plot_print_sample_articles_topic(selected_value, size_sample, window):\n",
    "\n",
    "    T0 = \"1960-01-01\" #YYYY-MM-DD\n",
    "    T1 = \"2023-01-01\" #YYYY-MM-DD\n",
    "    \n",
    "    show_extracts = True # True, False\n",
    "    show_full_text  = False # True, False\n",
    "\n",
    "    #df_with_topics_short = df_with_topics.loc[(df_with_topics['date'] >= dateutil.parser.parse(T0)) & (df_with_topics['date'] <= dateutil.parser.parse(T1))]\n",
    "    df_with_topics_short = df_with_topics.loc[(df_with_topics['date'] >= pd.Timestamp(dateutil.parser.parse(T0), tz='tzlocal()')) & (df_with_topics['date'] <= pd.Timestamp(dateutil.parser.parse(T1), tz='tzlocal()'))]\n",
    "\n",
    "    print_sample_articles_topic(df_with_topics_short, dict_anchor_words, topics, selected_value, size_sample, window, show_extracts, show_full_text)\n",
    "\n",
    "interact(plot_print_sample_articles_topic, selected_value=[*dict_anchor_words], size_sample =(5,50, 5), window = (1,100, 1))"
   ]
  }
 ],
 "metadata": {
  "colab": {
   "collapsed_sections": [
    "BNW2-FjTSaaB",
    "iS91FXNNSmOC",
    "813ejCyOE0iT",
    "EqtK4E3CSnIS",
    "2LlfMeZE7qnp",
    "mgcmijrjXKyh",
    "DbubP0kCVxRf",
    "XZKsT5NR8_xj",
    "qO6wh9EIKu5R",
    "6OuCocWjtKF7",
    "NMD3L0CbQvnt",
    "KUhDIihrA5Tf",
    "n64SVa7SAxDZ",
    "WKtNRP-jBJaI",
    "naoD2x4BBSoI",
    "3m0at_38BNiY",
    "CbX0jG7iBx3f",
    "BDz_NMSQCPkf",
    "4w9uP65Iseb3",
    "a8OYxqoe3xxd",
    "Xx3ok56aJnEM",
    "5F9qr9s72Byr",
    "2A_zQPsW5m_R",
    "cWpwgZcTrIEC"
   ],
   "name": "Topic_modelling_for_value_change.ipynb",
   "provenance": []
  },
  "kernelspec": {
   "display_name": "Python 3",
   "language": "python",
   "name": "python3"
  },
  "language_info": {
   "codemirror_mode": {
    "name": "ipython",
    "version": 3
   },
   "file_extension": ".py",
   "mimetype": "text/x-python",
   "name": "python",
   "nbconvert_exporter": "python",
   "pygments_lexer": "ipython3",
   "version": "3.8.8"
  }
 },
 "nbformat": 4,
 "nbformat_minor": 4
}
